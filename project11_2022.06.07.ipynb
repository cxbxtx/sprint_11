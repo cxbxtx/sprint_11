{
 "cells": [
  {
   "cell_type": "markdown",
   "metadata": {
    "toc": true
   },
   "source": [
    "<h1>Содержание<span class=\"tocSkip\"></span></h1>\n",
    "<div class=\"toc\"><ul class=\"toc-item\"><li><span><a href=\"#Подготовка-данных\" data-toc-modified-id=\"Подготовка-данных-1\"><span class=\"toc-item-num\">1&nbsp;&nbsp;</span>Подготовка данных</a></span><ul class=\"toc-item\"><li><span><a href=\"#Описание-данных\" data-toc-modified-id=\"Описание-данных-1.1\"><span class=\"toc-item-num\">1.1&nbsp;&nbsp;</span>Описание данных</a></span></li><li><span><a href=\"#Импорт-библиотек\" data-toc-modified-id=\"Импорт-библиотек-1.2\"><span class=\"toc-item-num\">1.2&nbsp;&nbsp;</span>Импорт библиотек</a></span></li><li><span><a href=\"#Изучение-общей-информации-по-датасету\" data-toc-modified-id=\"Изучение-общей-информации-по-датасету-1.3\"><span class=\"toc-item-num\">1.3&nbsp;&nbsp;</span>Изучение общей информации по датасету</a></span></li><li><span><a href=\"#Подготовка-данных\" data-toc-modified-id=\"Подготовка-данных-1.4\"><span class=\"toc-item-num\">1.4&nbsp;&nbsp;</span>Подготовка данных</a></span></li><li><span><a href=\"#Вывод\" data-toc-modified-id=\"Вывод-1.5\"><span class=\"toc-item-num\">1.5&nbsp;&nbsp;</span>Вывод</a></span></li></ul></li><li><span><a href=\"#Исследование-задачи\" data-toc-modified-id=\"Исследование-задачи-2\"><span class=\"toc-item-num\">2&nbsp;&nbsp;</span>Исследование задачи</a></span><ul class=\"toc-item\"><li><span><a href=\"#Решающее-дерево\" data-toc-modified-id=\"Решающее-дерево-2.1\"><span class=\"toc-item-num\">2.1&nbsp;&nbsp;</span>Решающее дерево</a></span></li><li><span><a href=\"#Случайный-лес\" data-toc-modified-id=\"Случайный-лес-2.2\"><span class=\"toc-item-num\">2.2&nbsp;&nbsp;</span>Случайный лес</a></span></li><li><span><a href=\"#Логистическая-регрессия\" data-toc-modified-id=\"Логистическая-регрессия-2.3\"><span class=\"toc-item-num\">2.3&nbsp;&nbsp;</span>Логистическая регрессия</a></span></li><li><span><a href=\"#Вывод\" data-toc-modified-id=\"Вывод-2.4\"><span class=\"toc-item-num\">2.4&nbsp;&nbsp;</span>Вывод</a></span></li></ul></li><li><span><a href=\"#Борьба-с-дисбалансом\" data-toc-modified-id=\"Борьба-с-дисбалансом-3\"><span class=\"toc-item-num\">3&nbsp;&nbsp;</span>Борьба с дисбалансом</a></span><ul class=\"toc-item\"><li><span><a href=\"#Взвешивание-классов\" data-toc-modified-id=\"Взвешивание-классов-3.1\"><span class=\"toc-item-num\">3.1&nbsp;&nbsp;</span>Взвешивание классов</a></span><ul class=\"toc-item\"><li><span><a href=\"#Решающее-дерево\" data-toc-modified-id=\"Решающее-дерево-3.1.1\"><span class=\"toc-item-num\">3.1.1&nbsp;&nbsp;</span>Решающее дерево</a></span></li><li><span><a href=\"#Случайный-лес\" data-toc-modified-id=\"Случайный-лес-3.1.2\"><span class=\"toc-item-num\">3.1.2&nbsp;&nbsp;</span>Случайный лес</a></span></li><li><span><a href=\"#Логистическая-регрессия\" data-toc-modified-id=\"Логистическая-регрессия-3.1.3\"><span class=\"toc-item-num\">3.1.3&nbsp;&nbsp;</span>Логистическая регрессия</a></span></li></ul></li><li><span><a href=\"#Увеличение-выборки-(Upsampling)\" data-toc-modified-id=\"Увеличение-выборки-(Upsampling)-3.2\"><span class=\"toc-item-num\">3.2&nbsp;&nbsp;</span>Увеличение выборки (Upsampling)</a></span><ul class=\"toc-item\"><li><span><a href=\"#Решающее-дерево\" data-toc-modified-id=\"Решающее-дерево-3.2.1\"><span class=\"toc-item-num\">3.2.1&nbsp;&nbsp;</span>Решающее дерево</a></span></li><li><span><a href=\"#Случайный-лес\" data-toc-modified-id=\"Случайный-лес-3.2.2\"><span class=\"toc-item-num\">3.2.2&nbsp;&nbsp;</span>Случайный лес</a></span></li><li><span><a href=\"#Логистическая-регрессия\" data-toc-modified-id=\"Логистическая-регрессия-3.2.3\"><span class=\"toc-item-num\">3.2.3&nbsp;&nbsp;</span>Логистическая регрессия</a></span></li></ul></li><li><span><a href=\"#Уменьшение-выборки-(Downsampling)\" data-toc-modified-id=\"Уменьшение-выборки-(Downsampling)-3.3\"><span class=\"toc-item-num\">3.3&nbsp;&nbsp;</span>Уменьшение выборки (Downsampling)</a></span><ul class=\"toc-item\"><li><span><a href=\"#Решающее-дерево\" data-toc-modified-id=\"Решающее-дерево-3.3.1\"><span class=\"toc-item-num\">3.3.1&nbsp;&nbsp;</span>Решающее дерево</a></span></li><li><span><a href=\"#Случайный-лес\" data-toc-modified-id=\"Случайный-лес-3.3.2\"><span class=\"toc-item-num\">3.3.2&nbsp;&nbsp;</span>Случайный лес</a></span></li><li><span><a href=\"#Логистическая-регрессия\" data-toc-modified-id=\"Логистическая-регрессия-3.3.3\"><span class=\"toc-item-num\">3.3.3&nbsp;&nbsp;</span>Логистическая регрессия</a></span></li></ul></li><li><span><a href=\"#Вывод\" data-toc-modified-id=\"Вывод-3.4\"><span class=\"toc-item-num\">3.4&nbsp;&nbsp;</span>Вывод</a></span></li></ul></li><li><span><a href=\"#Тестирование-модели\" data-toc-modified-id=\"Тестирование-модели-4\"><span class=\"toc-item-num\">4&nbsp;&nbsp;</span>Тестирование модели</a></span></li><li><span><a href=\"#Общий-вывод\" data-toc-modified-id=\"Общий-вывод-5\"><span class=\"toc-item-num\">5&nbsp;&nbsp;</span>Общий вывод</a></span></li><li><span><a href=\"#Чек-лист-готовности-проекта\" data-toc-modified-id=\"Чек-лист-готовности-проекта-6\"><span class=\"toc-item-num\">6&nbsp;&nbsp;</span>Чек-лист готовности проекта</a></span></li></ul></div>"
   ]
  },
  {
   "cell_type": "markdown",
   "metadata": {},
   "source": [
    "# Отток клиентов"
   ]
  },
  {
   "cell_type": "markdown",
   "metadata": {},
   "source": [
    "Из «Бета-Банка» стали уходить клиенты. Каждый месяц. Немного, но заметно. Банковские маркетологи посчитали: сохранять текущих клиентов дешевле, чем привлекать новых.\n",
    "\n",
    "Нужно спрогнозировать, уйдёт клиент из банка в ближайшее время или нет. Вам предоставлены исторические данные о поведении клиентов и расторжении договоров с банком. \n",
    "\n",
    "Постройте модель с предельно большим значением *F1*-меры. Чтобы сдать проект успешно, нужно довести метрику до 0.59. Проверьте *F1*-меру на тестовой выборке самостоятельно.\n",
    "\n",
    "Дополнительно измеряйте *AUC-ROC*, сравнивайте её значение с *F1*-мерой.\n",
    "\n",
    "Источник данных: [https://www.kaggle.com/barelydedicated/bank-customer-churn-modeling](https://www.kaggle.com/barelydedicated/bank-customer-churn-modeling)"
   ]
  },
  {
   "cell_type": "markdown",
   "metadata": {},
   "source": [
    "## Подготовка данных"
   ]
  },
  {
   "cell_type": "markdown",
   "metadata": {},
   "source": [
    "### Описание данных"
   ]
  },
  {
   "cell_type": "markdown",
   "metadata": {},
   "source": [
    "`Признаки`:\n",
    "- RowNumber — индекс строки в данных\n",
    "- CustomerId — уникальный идентификатор клиента\n",
    "- Surname — фамилия\n",
    "- CreditScore — кредитный рейтинг\n",
    "- Geography — страна проживания\n",
    "- Gender — пол\n",
    "- Age — возраст\n",
    "- Tenure — сколько лет человек является клиентом банка\n",
    "- Balance — баланс на счёте\n",
    "- NumOfProducts — количество продуктов банка, используемых клиентом\n",
    "- HasCrCard — наличие кредитной карты\n",
    "- IsActiveMember — активность клиента\n",
    "- EstimatedSalary — предполагаемая зарплата\n",
    "\n",
    "`Целевой признак`:\n",
    "- Exited — факт ухода клиента"
   ]
  },
  {
   "cell_type": "markdown",
   "metadata": {},
   "source": [
    "### Импорт библиотек"
   ]
  },
  {
   "cell_type": "markdown",
   "metadata": {},
   "source": [
    "Импортируем необходимые для проведения исследования библиотеки:"
   ]
  },
  {
   "cell_type": "code",
   "execution_count": 1,
   "metadata": {},
   "outputs": [],
   "source": [
    "import pandas as pd\n",
    "import numpy as np\n",
    "import matplotlib.pyplot as plt\n",
    "from sklearn.preprocessing import StandardScaler\n",
    "from sklearn.model_selection import train_test_split, GridSearchCV, RandomizedSearchCV\n",
    "from sklearn.tree import DecisionTreeClassifier\n",
    "from sklearn.ensemble import RandomForestClassifier\n",
    "from sklearn.linear_model import LogisticRegression\n",
    "from sklearn.metrics import f1_score, roc_auc_score, roc_curve\n",
    "from sklearn.utils import shuffle"
   ]
  },
  {
   "cell_type": "markdown",
   "metadata": {},
   "source": [
    "### Изучение общей информации по датасету"
   ]
  },
  {
   "cell_type": "markdown",
   "metadata": {},
   "source": [
    "Далее с помощью метода `read_csv()` прочтем файл с датасетом и сохраним его в переменной `df`:"
   ]
  },
  {
   "cell_type": "code",
   "execution_count": 2,
   "metadata": {},
   "outputs": [],
   "source": [
    "df = pd.read_csv('/datasets/Churn.csv')"
   ]
  },
  {
   "cell_type": "markdown",
   "metadata": {},
   "source": [
    "Выведем первые 5 строк датасета:"
   ]
  },
  {
   "cell_type": "code",
   "execution_count": 3,
   "metadata": {},
   "outputs": [
    {
     "data": {
      "text/html": [
       "<div>\n",
       "<style scoped>\n",
       "    .dataframe tbody tr th:only-of-type {\n",
       "        vertical-align: middle;\n",
       "    }\n",
       "\n",
       "    .dataframe tbody tr th {\n",
       "        vertical-align: top;\n",
       "    }\n",
       "\n",
       "    .dataframe thead th {\n",
       "        text-align: right;\n",
       "    }\n",
       "</style>\n",
       "<table border=\"1\" class=\"dataframe\">\n",
       "  <thead>\n",
       "    <tr style=\"text-align: right;\">\n",
       "      <th></th>\n",
       "      <th>RowNumber</th>\n",
       "      <th>CustomerId</th>\n",
       "      <th>Surname</th>\n",
       "      <th>CreditScore</th>\n",
       "      <th>Geography</th>\n",
       "      <th>Gender</th>\n",
       "      <th>Age</th>\n",
       "      <th>Tenure</th>\n",
       "      <th>Balance</th>\n",
       "      <th>NumOfProducts</th>\n",
       "      <th>HasCrCard</th>\n",
       "      <th>IsActiveMember</th>\n",
       "      <th>EstimatedSalary</th>\n",
       "      <th>Exited</th>\n",
       "    </tr>\n",
       "  </thead>\n",
       "  <tbody>\n",
       "    <tr>\n",
       "      <th>0</th>\n",
       "      <td>1</td>\n",
       "      <td>15634602</td>\n",
       "      <td>Hargrave</td>\n",
       "      <td>619</td>\n",
       "      <td>France</td>\n",
       "      <td>Female</td>\n",
       "      <td>42</td>\n",
       "      <td>2.0</td>\n",
       "      <td>0.00</td>\n",
       "      <td>1</td>\n",
       "      <td>1</td>\n",
       "      <td>1</td>\n",
       "      <td>101348.88</td>\n",
       "      <td>1</td>\n",
       "    </tr>\n",
       "    <tr>\n",
       "      <th>1</th>\n",
       "      <td>2</td>\n",
       "      <td>15647311</td>\n",
       "      <td>Hill</td>\n",
       "      <td>608</td>\n",
       "      <td>Spain</td>\n",
       "      <td>Female</td>\n",
       "      <td>41</td>\n",
       "      <td>1.0</td>\n",
       "      <td>83807.86</td>\n",
       "      <td>1</td>\n",
       "      <td>0</td>\n",
       "      <td>1</td>\n",
       "      <td>112542.58</td>\n",
       "      <td>0</td>\n",
       "    </tr>\n",
       "    <tr>\n",
       "      <th>2</th>\n",
       "      <td>3</td>\n",
       "      <td>15619304</td>\n",
       "      <td>Onio</td>\n",
       "      <td>502</td>\n",
       "      <td>France</td>\n",
       "      <td>Female</td>\n",
       "      <td>42</td>\n",
       "      <td>8.0</td>\n",
       "      <td>159660.80</td>\n",
       "      <td>3</td>\n",
       "      <td>1</td>\n",
       "      <td>0</td>\n",
       "      <td>113931.57</td>\n",
       "      <td>1</td>\n",
       "    </tr>\n",
       "    <tr>\n",
       "      <th>3</th>\n",
       "      <td>4</td>\n",
       "      <td>15701354</td>\n",
       "      <td>Boni</td>\n",
       "      <td>699</td>\n",
       "      <td>France</td>\n",
       "      <td>Female</td>\n",
       "      <td>39</td>\n",
       "      <td>1.0</td>\n",
       "      <td>0.00</td>\n",
       "      <td>2</td>\n",
       "      <td>0</td>\n",
       "      <td>0</td>\n",
       "      <td>93826.63</td>\n",
       "      <td>0</td>\n",
       "    </tr>\n",
       "    <tr>\n",
       "      <th>4</th>\n",
       "      <td>5</td>\n",
       "      <td>15737888</td>\n",
       "      <td>Mitchell</td>\n",
       "      <td>850</td>\n",
       "      <td>Spain</td>\n",
       "      <td>Female</td>\n",
       "      <td>43</td>\n",
       "      <td>2.0</td>\n",
       "      <td>125510.82</td>\n",
       "      <td>1</td>\n",
       "      <td>1</td>\n",
       "      <td>1</td>\n",
       "      <td>79084.10</td>\n",
       "      <td>0</td>\n",
       "    </tr>\n",
       "  </tbody>\n",
       "</table>\n",
       "</div>"
      ],
      "text/plain": [
       "   RowNumber  CustomerId   Surname  CreditScore Geography  Gender  Age  \\\n",
       "0          1    15634602  Hargrave          619    France  Female   42   \n",
       "1          2    15647311      Hill          608     Spain  Female   41   \n",
       "2          3    15619304      Onio          502    France  Female   42   \n",
       "3          4    15701354      Boni          699    France  Female   39   \n",
       "4          5    15737888  Mitchell          850     Spain  Female   43   \n",
       "\n",
       "   Tenure    Balance  NumOfProducts  HasCrCard  IsActiveMember  \\\n",
       "0     2.0       0.00              1          1               1   \n",
       "1     1.0   83807.86              1          0               1   \n",
       "2     8.0  159660.80              3          1               0   \n",
       "3     1.0       0.00              2          0               0   \n",
       "4     2.0  125510.82              1          1               1   \n",
       "\n",
       "   EstimatedSalary  Exited  \n",
       "0        101348.88       1  \n",
       "1        112542.58       0  \n",
       "2        113931.57       1  \n",
       "3         93826.63       0  \n",
       "4         79084.10       0  "
      ]
     },
     "execution_count": 3,
     "metadata": {},
     "output_type": "execute_result"
    }
   ],
   "source": [
    "df.head() # вывод первых 5 строк датасета"
   ]
  },
  {
   "cell_type": "markdown",
   "metadata": {},
   "source": [
    "Данные в столбцах `RowNumber`, `CustomerId` и `Surname` не оказывают влияние на отток клиентов из банка, поэтому их можно будет удалить."
   ]
  },
  {
   "cell_type": "markdown",
   "metadata": {},
   "source": [
    "С помощью метода `info()` посмотрим общую информации о данных в датасете:"
   ]
  },
  {
   "cell_type": "code",
   "execution_count": 4,
   "metadata": {},
   "outputs": [
    {
     "name": "stdout",
     "output_type": "stream",
     "text": [
      "<class 'pandas.core.frame.DataFrame'>\n",
      "RangeIndex: 10000 entries, 0 to 9999\n",
      "Data columns (total 14 columns):\n",
      " #   Column           Non-Null Count  Dtype  \n",
      "---  ------           --------------  -----  \n",
      " 0   RowNumber        10000 non-null  int64  \n",
      " 1   CustomerId       10000 non-null  int64  \n",
      " 2   Surname          10000 non-null  object \n",
      " 3   CreditScore      10000 non-null  int64  \n",
      " 4   Geography        10000 non-null  object \n",
      " 5   Gender           10000 non-null  object \n",
      " 6   Age              10000 non-null  int64  \n",
      " 7   Tenure           9091 non-null   float64\n",
      " 8   Balance          10000 non-null  float64\n",
      " 9   NumOfProducts    10000 non-null  int64  \n",
      " 10  HasCrCard        10000 non-null  int64  \n",
      " 11  IsActiveMember   10000 non-null  int64  \n",
      " 12  EstimatedSalary  10000 non-null  float64\n",
      " 13  Exited           10000 non-null  int64  \n",
      "dtypes: float64(3), int64(8), object(3)\n",
      "memory usage: 1.1+ MB\n"
     ]
    }
   ],
   "source": [
    "df.info() # получение общей информации о данных в таблице df"
   ]
  },
  {
   "cell_type": "markdown",
   "metadata": {},
   "source": [
    "Данные, представленные в датасете, включают в себя 10000 строк и 14 столбцов: 8 столбцов с целочисленными данными типа `int64`, 3 столбца с числовыми данными типа `float64` и 3 столбца - типа `object`.\n",
    "\n",
    "В одном столбце - `Tenure` - имеются пропуски в данных.\n",
    "\n",
    "С помощью методов `isna()` и `duplicated()` определим количество пропущенных значений и количество явных дубликатов:"
   ]
  },
  {
   "cell_type": "code",
   "execution_count": 5,
   "metadata": {},
   "outputs": [
    {
     "data": {
      "text/plain": [
       "RowNumber            0\n",
       "CustomerId           0\n",
       "Surname              0\n",
       "CreditScore          0\n",
       "Geography            0\n",
       "Gender               0\n",
       "Age                  0\n",
       "Tenure             909\n",
       "Balance              0\n",
       "NumOfProducts        0\n",
       "HasCrCard            0\n",
       "IsActiveMember       0\n",
       "EstimatedSalary      0\n",
       "Exited               0\n",
       "dtype: int64"
      ]
     },
     "execution_count": 5,
     "metadata": {},
     "output_type": "execute_result"
    }
   ],
   "source": [
    "df.isna().sum() # подсчёт количества пропусков"
   ]
  },
  {
   "cell_type": "code",
   "execution_count": 6,
   "metadata": {},
   "outputs": [
    {
     "data": {
      "text/plain": [
       "0"
      ]
     },
     "execution_count": 6,
     "metadata": {},
     "output_type": "execute_result"
    }
   ],
   "source": [
    "df.duplicated().sum() # подсчёт количества явных дубликатов"
   ]
  },
  {
   "cell_type": "markdown",
   "metadata": {},
   "source": [
    "Всего 909 пропущенных значений в столбце `Tenure`, при этом явных дубликатов в датесете нет. Перейдем к следующему шагу - подготовим данные для последующего исследования."
   ]
  },
  {
   "cell_type": "markdown",
   "metadata": {},
   "source": [
    "### Подготовка данных"
   ]
  },
  {
   "cell_type": "markdown",
   "metadata": {},
   "source": [
    "Удалим избыточные столбцы `RowNumber`, `CustomerId` и `Surname`:"
   ]
  },
  {
   "cell_type": "code",
   "execution_count": 7,
   "metadata": {},
   "outputs": [
    {
     "data": {
      "text/html": [
       "<div>\n",
       "<style scoped>\n",
       "    .dataframe tbody tr th:only-of-type {\n",
       "        vertical-align: middle;\n",
       "    }\n",
       "\n",
       "    .dataframe tbody tr th {\n",
       "        vertical-align: top;\n",
       "    }\n",
       "\n",
       "    .dataframe thead th {\n",
       "        text-align: right;\n",
       "    }\n",
       "</style>\n",
       "<table border=\"1\" class=\"dataframe\">\n",
       "  <thead>\n",
       "    <tr style=\"text-align: right;\">\n",
       "      <th></th>\n",
       "      <th>CreditScore</th>\n",
       "      <th>Geography</th>\n",
       "      <th>Gender</th>\n",
       "      <th>Age</th>\n",
       "      <th>Tenure</th>\n",
       "      <th>Balance</th>\n",
       "      <th>NumOfProducts</th>\n",
       "      <th>HasCrCard</th>\n",
       "      <th>IsActiveMember</th>\n",
       "      <th>EstimatedSalary</th>\n",
       "      <th>Exited</th>\n",
       "    </tr>\n",
       "  </thead>\n",
       "  <tbody>\n",
       "    <tr>\n",
       "      <th>0</th>\n",
       "      <td>619</td>\n",
       "      <td>France</td>\n",
       "      <td>Female</td>\n",
       "      <td>42</td>\n",
       "      <td>2.0</td>\n",
       "      <td>0.00</td>\n",
       "      <td>1</td>\n",
       "      <td>1</td>\n",
       "      <td>1</td>\n",
       "      <td>101348.88</td>\n",
       "      <td>1</td>\n",
       "    </tr>\n",
       "    <tr>\n",
       "      <th>1</th>\n",
       "      <td>608</td>\n",
       "      <td>Spain</td>\n",
       "      <td>Female</td>\n",
       "      <td>41</td>\n",
       "      <td>1.0</td>\n",
       "      <td>83807.86</td>\n",
       "      <td>1</td>\n",
       "      <td>0</td>\n",
       "      <td>1</td>\n",
       "      <td>112542.58</td>\n",
       "      <td>0</td>\n",
       "    </tr>\n",
       "    <tr>\n",
       "      <th>2</th>\n",
       "      <td>502</td>\n",
       "      <td>France</td>\n",
       "      <td>Female</td>\n",
       "      <td>42</td>\n",
       "      <td>8.0</td>\n",
       "      <td>159660.80</td>\n",
       "      <td>3</td>\n",
       "      <td>1</td>\n",
       "      <td>0</td>\n",
       "      <td>113931.57</td>\n",
       "      <td>1</td>\n",
       "    </tr>\n",
       "    <tr>\n",
       "      <th>3</th>\n",
       "      <td>699</td>\n",
       "      <td>France</td>\n",
       "      <td>Female</td>\n",
       "      <td>39</td>\n",
       "      <td>1.0</td>\n",
       "      <td>0.00</td>\n",
       "      <td>2</td>\n",
       "      <td>0</td>\n",
       "      <td>0</td>\n",
       "      <td>93826.63</td>\n",
       "      <td>0</td>\n",
       "    </tr>\n",
       "    <tr>\n",
       "      <th>4</th>\n",
       "      <td>850</td>\n",
       "      <td>Spain</td>\n",
       "      <td>Female</td>\n",
       "      <td>43</td>\n",
       "      <td>2.0</td>\n",
       "      <td>125510.82</td>\n",
       "      <td>1</td>\n",
       "      <td>1</td>\n",
       "      <td>1</td>\n",
       "      <td>79084.10</td>\n",
       "      <td>0</td>\n",
       "    </tr>\n",
       "  </tbody>\n",
       "</table>\n",
       "</div>"
      ],
      "text/plain": [
       "   CreditScore Geography  Gender  Age  Tenure    Balance  NumOfProducts  \\\n",
       "0          619    France  Female   42     2.0       0.00              1   \n",
       "1          608     Spain  Female   41     1.0   83807.86              1   \n",
       "2          502    France  Female   42     8.0  159660.80              3   \n",
       "3          699    France  Female   39     1.0       0.00              2   \n",
       "4          850     Spain  Female   43     2.0  125510.82              1   \n",
       "\n",
       "   HasCrCard  IsActiveMember  EstimatedSalary  Exited  \n",
       "0          1               1        101348.88       1  \n",
       "1          0               1        112542.58       0  \n",
       "2          1               0        113931.57       1  \n",
       "3          0               0         93826.63       0  \n",
       "4          1               1         79084.10       0  "
      ]
     },
     "execution_count": 7,
     "metadata": {},
     "output_type": "execute_result"
    }
   ],
   "source": [
    "df = df.drop(['RowNumber', 'CustomerId', 'Surname'], axis=1) # удаление столбцов\n",
    "df.head() # проверка удаления"
   ]
  },
  {
   "cell_type": "markdown",
   "metadata": {},
   "source": [
    "Столбцы удалены. \n",
    "\n",
    "Пропуски в столбце `Tenure` заполним медианным значением:"
   ]
  },
  {
   "cell_type": "code",
   "execution_count": 8,
   "metadata": {},
   "outputs": [
    {
     "data": {
      "text/plain": [
       "0"
      ]
     },
     "execution_count": 8,
     "metadata": {},
     "output_type": "execute_result"
    }
   ],
   "source": [
    "df['Tenure'] = df['Tenure'].fillna(round(df['Tenure'].median())) # заполнение пропусков медианой\n",
    "df['Tenure'].isna().sum() # проверка отсутствия пропусков"
   ]
  },
  {
   "cell_type": "markdown",
   "metadata": {},
   "source": [
    "Пропуски заполнены.\n",
    "\n",
    "В датасете содержатся категориальные признаки, а для возможности исследования с помощью моделей классификации необходимо преобразование категориальных признаков в численные. \n",
    "\n",
    "Для преобразования категориальных признаков в численные воспользуемся техникой `прямого кодирования` - `One-Hot Encoding`:"
   ]
  },
  {
   "cell_type": "code",
   "execution_count": 9,
   "metadata": {},
   "outputs": [
    {
     "data": {
      "text/html": [
       "<div>\n",
       "<style scoped>\n",
       "    .dataframe tbody tr th:only-of-type {\n",
       "        vertical-align: middle;\n",
       "    }\n",
       "\n",
       "    .dataframe tbody tr th {\n",
       "        vertical-align: top;\n",
       "    }\n",
       "\n",
       "    .dataframe thead th {\n",
       "        text-align: right;\n",
       "    }\n",
       "</style>\n",
       "<table border=\"1\" class=\"dataframe\">\n",
       "  <thead>\n",
       "    <tr style=\"text-align: right;\">\n",
       "      <th></th>\n",
       "      <th>CreditScore</th>\n",
       "      <th>Age</th>\n",
       "      <th>Tenure</th>\n",
       "      <th>Balance</th>\n",
       "      <th>NumOfProducts</th>\n",
       "      <th>HasCrCard</th>\n",
       "      <th>IsActiveMember</th>\n",
       "      <th>EstimatedSalary</th>\n",
       "      <th>Exited</th>\n",
       "      <th>Geography_Germany</th>\n",
       "      <th>Geography_Spain</th>\n",
       "      <th>Gender_Male</th>\n",
       "    </tr>\n",
       "  </thead>\n",
       "  <tbody>\n",
       "    <tr>\n",
       "      <th>0</th>\n",
       "      <td>619</td>\n",
       "      <td>42</td>\n",
       "      <td>2.0</td>\n",
       "      <td>0.00</td>\n",
       "      <td>1</td>\n",
       "      <td>1</td>\n",
       "      <td>1</td>\n",
       "      <td>101348.88</td>\n",
       "      <td>1</td>\n",
       "      <td>0</td>\n",
       "      <td>0</td>\n",
       "      <td>0</td>\n",
       "    </tr>\n",
       "    <tr>\n",
       "      <th>1</th>\n",
       "      <td>608</td>\n",
       "      <td>41</td>\n",
       "      <td>1.0</td>\n",
       "      <td>83807.86</td>\n",
       "      <td>1</td>\n",
       "      <td>0</td>\n",
       "      <td>1</td>\n",
       "      <td>112542.58</td>\n",
       "      <td>0</td>\n",
       "      <td>0</td>\n",
       "      <td>1</td>\n",
       "      <td>0</td>\n",
       "    </tr>\n",
       "    <tr>\n",
       "      <th>2</th>\n",
       "      <td>502</td>\n",
       "      <td>42</td>\n",
       "      <td>8.0</td>\n",
       "      <td>159660.80</td>\n",
       "      <td>3</td>\n",
       "      <td>1</td>\n",
       "      <td>0</td>\n",
       "      <td>113931.57</td>\n",
       "      <td>1</td>\n",
       "      <td>0</td>\n",
       "      <td>0</td>\n",
       "      <td>0</td>\n",
       "    </tr>\n",
       "    <tr>\n",
       "      <th>3</th>\n",
       "      <td>699</td>\n",
       "      <td>39</td>\n",
       "      <td>1.0</td>\n",
       "      <td>0.00</td>\n",
       "      <td>2</td>\n",
       "      <td>0</td>\n",
       "      <td>0</td>\n",
       "      <td>93826.63</td>\n",
       "      <td>0</td>\n",
       "      <td>0</td>\n",
       "      <td>0</td>\n",
       "      <td>0</td>\n",
       "    </tr>\n",
       "    <tr>\n",
       "      <th>4</th>\n",
       "      <td>850</td>\n",
       "      <td>43</td>\n",
       "      <td>2.0</td>\n",
       "      <td>125510.82</td>\n",
       "      <td>1</td>\n",
       "      <td>1</td>\n",
       "      <td>1</td>\n",
       "      <td>79084.10</td>\n",
       "      <td>0</td>\n",
       "      <td>0</td>\n",
       "      <td>1</td>\n",
       "      <td>0</td>\n",
       "    </tr>\n",
       "  </tbody>\n",
       "</table>\n",
       "</div>"
      ],
      "text/plain": [
       "   CreditScore  Age  Tenure    Balance  NumOfProducts  HasCrCard  \\\n",
       "0          619   42     2.0       0.00              1          1   \n",
       "1          608   41     1.0   83807.86              1          0   \n",
       "2          502   42     8.0  159660.80              3          1   \n",
       "3          699   39     1.0       0.00              2          0   \n",
       "4          850   43     2.0  125510.82              1          1   \n",
       "\n",
       "   IsActiveMember  EstimatedSalary  Exited  Geography_Germany  \\\n",
       "0               1        101348.88       1                  0   \n",
       "1               1        112542.58       0                  0   \n",
       "2               0        113931.57       1                  0   \n",
       "3               0         93826.63       0                  0   \n",
       "4               1         79084.10       0                  0   \n",
       "\n",
       "   Geography_Spain  Gender_Male  \n",
       "0                0            0  \n",
       "1                1            0  \n",
       "2                0            0  \n",
       "3                0            0  \n",
       "4                1            0  "
      ]
     },
     "execution_count": 9,
     "metadata": {},
     "output_type": "execute_result"
    }
   ],
   "source": [
    "df = pd.get_dummies(df, drop_first=True) # используем drop_first=True для избежания дамми-ловушки\n",
    "df.head() # проверка результата"
   ]
  },
  {
   "cell_type": "markdown",
   "metadata": {},
   "source": [
    "По результатам `прямого кодирования` в датасете появились новые столбцы: `Geography_Germany`, `Geography_Spain`, `Gender_Male`."
   ]
  },
  {
   "cell_type": "markdown",
   "metadata": {},
   "source": [
    "Далее разобъем исходные данные на обучающую, валидационную и тестовую выборки в соотношении 3:1:1, но предварительно сохраним признаки объектов в переменной `features`, а целевой признак в `target`:"
   ]
  },
  {
   "cell_type": "code",
   "execution_count": 10,
   "metadata": {},
   "outputs": [],
   "source": [
    "features = df.drop(['Exited'], axis=1) # признаки объектов\n",
    "target = df['Exited'] # целевой признак объектов"
   ]
  },
  {
   "cell_type": "markdown",
   "metadata": {},
   "source": [
    "Перейдем непосредственно к разбиению на выборки. Сначала исходные данные разобъем на 2 выборки: \"обучающую + валидационную\" (80%) и \"тестовую\" (20%), далее объединенную \"обучающую + валидационную\" выборку - на отдельные выборки в соотношении 3:1 (75% : 25%):"
   ]
  },
  {
   "cell_type": "code",
   "execution_count": 11,
   "metadata": {},
   "outputs": [
    {
     "name": "stdout",
     "output_type": "stream",
     "text": [
      "Размер обучающей выборки: (6000, 11); (6000,)\n",
      "Размер валидационной выборки: (2000, 11); (2000,)\n",
      "Размер тестовой выборки: (2000, 11); (2000,)\n"
     ]
    }
   ],
   "source": [
    "# разбиение на \"обучающую + валидационную\" и \"тестовую\" выборки\n",
    "features_train_valid, features_test, target_train_valid, target_test = train_test_split(\n",
    "    features, target, test_size=0.2, random_state=777, stratify=target\n",
    ")\n",
    "\n",
    "# разбиение на \"обучающую\" и \"валидационную\" выборки\n",
    "features_train, features_valid, target_train, target_valid = train_test_split(\n",
    "    features_train_valid, target_train_valid, test_size=0.25, random_state=777, stratify=target_train_valid\n",
    ")\n",
    "\n",
    "# проверка результата\n",
    "print(\n",
    "    f'Размер обучающей выборки: {features_train.shape}; {target_train.shape}\\n'\n",
    "    f'Размер валидационной выборки: {features_valid.shape}; {target_valid.shape}\\n'\n",
    "    f'Размер тестовой выборки: {features_test.shape}; {target_test.shape}'\n",
    ")"
   ]
  },
  {
   "cell_type": "markdown",
   "metadata": {},
   "source": [
    "Размеры получившихся выборок соответствуют необходимым требованиям для проведения исследования."
   ]
  },
  {
   "cell_type": "markdown",
   "metadata": {},
   "source": [
    "Поскольку в датасете присутствуют признаки с разными разбросами значений, модели могут посчитать признаки с большими значениями и разбросами важнее, что не так. Чтобы избежать этого, отмасштабируем признаки с помощью `метода стандартизации данных`:"
   ]
  },
  {
   "cell_type": "code",
   "execution_count": 12,
   "metadata": {},
   "outputs": [
    {
     "name": "stderr",
     "output_type": "stream",
     "text": [
      "/tmp/ipykernel_106/2382116673.py:6: SettingWithCopyWarning: \n",
      "A value is trying to be set on a copy of a slice from a DataFrame.\n",
      "Try using .loc[row_indexer,col_indexer] = value instead\n",
      "\n",
      "See the caveats in the documentation: https://pandas.pydata.org/pandas-docs/stable/user_guide/indexing.html#returning-a-view-versus-a-copy\n",
      "  features_train[numeric] = scaler.transform(features_train[numeric]) # преобразование обучающей выборки\n",
      "/opt/conda/lib/python3.9/site-packages/pandas/core/indexing.py:1738: SettingWithCopyWarning: \n",
      "A value is trying to be set on a copy of a slice from a DataFrame.\n",
      "Try using .loc[row_indexer,col_indexer] = value instead\n",
      "\n",
      "See the caveats in the documentation: https://pandas.pydata.org/pandas-docs/stable/user_guide/indexing.html#returning-a-view-versus-a-copy\n",
      "  self._setitem_single_column(loc, value[:, i].tolist(), pi)\n",
      "/tmp/ipykernel_106/2382116673.py:7: SettingWithCopyWarning: \n",
      "A value is trying to be set on a copy of a slice from a DataFrame.\n",
      "Try using .loc[row_indexer,col_indexer] = value instead\n",
      "\n",
      "See the caveats in the documentation: https://pandas.pydata.org/pandas-docs/stable/user_guide/indexing.html#returning-a-view-versus-a-copy\n",
      "  features_valid[numeric] = scaler.transform(features_valid[numeric]) # преобразование валидационной выборки\n",
      "/opt/conda/lib/python3.9/site-packages/pandas/core/indexing.py:1738: SettingWithCopyWarning: \n",
      "A value is trying to be set on a copy of a slice from a DataFrame.\n",
      "Try using .loc[row_indexer,col_indexer] = value instead\n",
      "\n",
      "See the caveats in the documentation: https://pandas.pydata.org/pandas-docs/stable/user_guide/indexing.html#returning-a-view-versus-a-copy\n",
      "  self._setitem_single_column(loc, value[:, i].tolist(), pi)\n",
      "/tmp/ipykernel_106/2382116673.py:8: SettingWithCopyWarning: \n",
      "A value is trying to be set on a copy of a slice from a DataFrame.\n",
      "Try using .loc[row_indexer,col_indexer] = value instead\n",
      "\n",
      "See the caveats in the documentation: https://pandas.pydata.org/pandas-docs/stable/user_guide/indexing.html#returning-a-view-versus-a-copy\n",
      "  features_test[numeric] = scaler.transform(features_test[numeric]) # преобразование тестовой выборки\n",
      "/opt/conda/lib/python3.9/site-packages/pandas/core/indexing.py:1738: SettingWithCopyWarning: \n",
      "A value is trying to be set on a copy of a slice from a DataFrame.\n",
      "Try using .loc[row_indexer,col_indexer] = value instead\n",
      "\n",
      "See the caveats in the documentation: https://pandas.pydata.org/pandas-docs/stable/user_guide/indexing.html#returning-a-view-versus-a-copy\n",
      "  self._setitem_single_column(loc, value[:, i].tolist(), pi)\n",
      "/tmp/ipykernel_106/2382116673.py:9: SettingWithCopyWarning: \n",
      "A value is trying to be set on a copy of a slice from a DataFrame.\n",
      "Try using .loc[row_indexer,col_indexer] = value instead\n",
      "\n",
      "See the caveats in the documentation: https://pandas.pydata.org/pandas-docs/stable/user_guide/indexing.html#returning-a-view-versus-a-copy\n",
      "  features_train_valid[numeric] = scaler.transform(features_train_valid[numeric]) # преобразование объединенной выборки\n",
      "/opt/conda/lib/python3.9/site-packages/pandas/core/indexing.py:1738: SettingWithCopyWarning: \n",
      "A value is trying to be set on a copy of a slice from a DataFrame.\n",
      "Try using .loc[row_indexer,col_indexer] = value instead\n",
      "\n",
      "See the caveats in the documentation: https://pandas.pydata.org/pandas-docs/stable/user_guide/indexing.html#returning-a-view-versus-a-copy\n",
      "  self._setitem_single_column(loc, value[:, i].tolist(), pi)\n"
     ]
    },
    {
     "data": {
      "text/html": [
       "<div>\n",
       "<style scoped>\n",
       "    .dataframe tbody tr th:only-of-type {\n",
       "        vertical-align: middle;\n",
       "    }\n",
       "\n",
       "    .dataframe tbody tr th {\n",
       "        vertical-align: top;\n",
       "    }\n",
       "\n",
       "    .dataframe thead th {\n",
       "        text-align: right;\n",
       "    }\n",
       "</style>\n",
       "<table border=\"1\" class=\"dataframe\">\n",
       "  <thead>\n",
       "    <tr style=\"text-align: right;\">\n",
       "      <th></th>\n",
       "      <th>CreditScore</th>\n",
       "      <th>Age</th>\n",
       "      <th>Tenure</th>\n",
       "      <th>Balance</th>\n",
       "      <th>NumOfProducts</th>\n",
       "      <th>HasCrCard</th>\n",
       "      <th>IsActiveMember</th>\n",
       "      <th>EstimatedSalary</th>\n",
       "      <th>Geography_Germany</th>\n",
       "      <th>Geography_Spain</th>\n",
       "      <th>Gender_Male</th>\n",
       "    </tr>\n",
       "  </thead>\n",
       "  <tbody>\n",
       "    <tr>\n",
       "      <th>4262</th>\n",
       "      <td>-1.415527</td>\n",
       "      <td>0.193424</td>\n",
       "      <td>1.074730</td>\n",
       "      <td>-1.223134</td>\n",
       "      <td>0.824587</td>\n",
       "      <td>1</td>\n",
       "      <td>1</td>\n",
       "      <td>1.461458</td>\n",
       "      <td>0</td>\n",
       "      <td>0</td>\n",
       "      <td>1</td>\n",
       "    </tr>\n",
       "    <tr>\n",
       "      <th>2444</th>\n",
       "      <td>0.133957</td>\n",
       "      <td>-0.951003</td>\n",
       "      <td>-0.371338</td>\n",
       "      <td>0.425165</td>\n",
       "      <td>0.824587</td>\n",
       "      <td>0</td>\n",
       "      <td>0</td>\n",
       "      <td>-1.368267</td>\n",
       "      <td>1</td>\n",
       "      <td>0</td>\n",
       "      <td>0</td>\n",
       "    </tr>\n",
       "    <tr>\n",
       "      <th>1792</th>\n",
       "      <td>0.374755</td>\n",
       "      <td>0.193424</td>\n",
       "      <td>0.713213</td>\n",
       "      <td>0.425728</td>\n",
       "      <td>-0.914436</td>\n",
       "      <td>0</td>\n",
       "      <td>1</td>\n",
       "      <td>1.631703</td>\n",
       "      <td>0</td>\n",
       "      <td>1</td>\n",
       "      <td>1</td>\n",
       "    </tr>\n",
       "    <tr>\n",
       "      <th>3691</th>\n",
       "      <td>-0.630316</td>\n",
       "      <td>3.531337</td>\n",
       "      <td>-0.009821</td>\n",
       "      <td>1.360165</td>\n",
       "      <td>-0.914436</td>\n",
       "      <td>0</td>\n",
       "      <td>1</td>\n",
       "      <td>-1.494698</td>\n",
       "      <td>0</td>\n",
       "      <td>0</td>\n",
       "      <td>0</td>\n",
       "    </tr>\n",
       "    <tr>\n",
       "      <th>5926</th>\n",
       "      <td>-0.577968</td>\n",
       "      <td>1.337851</td>\n",
       "      <td>0.713213</td>\n",
       "      <td>-1.223134</td>\n",
       "      <td>0.824587</td>\n",
       "      <td>1</td>\n",
       "      <td>0</td>\n",
       "      <td>-1.019465</td>\n",
       "      <td>0</td>\n",
       "      <td>0</td>\n",
       "      <td>0</td>\n",
       "    </tr>\n",
       "  </tbody>\n",
       "</table>\n",
       "</div>"
      ],
      "text/plain": [
       "      CreditScore       Age    Tenure   Balance  NumOfProducts  HasCrCard  \\\n",
       "4262    -1.415527  0.193424  1.074730 -1.223134       0.824587          1   \n",
       "2444     0.133957 -0.951003 -0.371338  0.425165       0.824587          0   \n",
       "1792     0.374755  0.193424  0.713213  0.425728      -0.914436          0   \n",
       "3691    -0.630316  3.531337 -0.009821  1.360165      -0.914436          0   \n",
       "5926    -0.577968  1.337851  0.713213 -1.223134       0.824587          1   \n",
       "\n",
       "      IsActiveMember  EstimatedSalary  Geography_Germany  Geography_Spain  \\\n",
       "4262               1         1.461458                  0                0   \n",
       "2444               0        -1.368267                  1                0   \n",
       "1792               1         1.631703                  0                1   \n",
       "3691               1        -1.494698                  0                0   \n",
       "5926               0        -1.019465                  0                0   \n",
       "\n",
       "      Gender_Male  \n",
       "4262            1  \n",
       "2444            0  \n",
       "1792            1  \n",
       "3691            0  \n",
       "5926            0  "
      ]
     },
     "execution_count": 12,
     "metadata": {},
     "output_type": "execute_result"
    }
   ],
   "source": [
    "# столбцы для масштабирования\n",
    "numeric = ['CreditScore', 'Age', 'Tenure', 'Balance', 'NumOfProducts', 'EstimatedSalary'] \n",
    "\n",
    "scaler = StandardScaler()\n",
    "scaler.fit(features_train[numeric]) # обучение объекта scaler\n",
    "features_train[numeric] = scaler.transform(features_train[numeric]) # преобразование обучающей выборки\n",
    "features_valid[numeric] = scaler.transform(features_valid[numeric]) # преобразование валидационной выборки\n",
    "features_test[numeric] = scaler.transform(features_test[numeric]) # преобразование тестовой выборки\n",
    "features_train_valid[numeric] = scaler.transform(features_train_valid[numeric]) # преобразование объединенной выборки\n",
    "pd.options.mode.chained_assignment = None\n",
    "features_train_valid.head() # проверка результата на обучающей выборке"
   ]
  },
  {
   "cell_type": "markdown",
   "metadata": {},
   "source": [
    "Стандартизация данных выполнена."
   ]
  },
  {
   "cell_type": "markdown",
   "metadata": {},
   "source": [
    "### Вывод"
   ]
  },
  {
   "cell_type": "markdown",
   "metadata": {},
   "source": [
    "В рамках данного этапа познакомились датасетом и провели подготовку данных для последующего исследования:\n",
    "- удалили избыточные столбцы `RowNumber`, `CustomerId` и `Surname` из датасета;\n",
    "- заполнили пропуски в столбце `Tenure` медианным значением;\n",
    "- для работы с моделями классификации преобразовали категориальные признаки в численные с помощью техники `прямого кодирования` - `One-Hot Encoding`, по результатам которой в датасете появились новые столбцы: `Geography_Germany`, `Geography_Spain`, `Gender_Male`;\n",
    "- разбили исходные данные на обучающую, валидационную и тестовую выборки в соотношении 3:1:1 - размеры получившихся выборок соответствуют необходимым требованиям для проведения исследования;\n",
    "- и отмасштабировали признаки в выборках `features_train`, `features_valid`, `features_test` с помощью `метода стандартизации данных` для того, чтобы модели рассматривали признаки как разнозначные.\n",
    "\n",
    "Далее перейдем к этапу исследования."
   ]
  },
  {
   "cell_type": "markdown",
   "metadata": {},
   "source": [
    "## Исследование задачи"
   ]
  },
  {
   "cell_type": "markdown",
   "metadata": {},
   "source": [
    "Целевым признаком в нашей задаче является `Exited`, который может принимать значения 1 или 0, отражающий факт ухода клиента из банка. Для начала проверим насколько сбалансированы классы в выборке:"
   ]
  },
  {
   "cell_type": "code",
   "execution_count": 13,
   "metadata": {},
   "outputs": [
    {
     "name": "stdout",
     "output_type": "stream",
     "text": [
      "0    0.7963\n",
      "1    0.2037\n",
      "Name: Exited, dtype: float64\n"
     ]
    },
    {
     "data": {
      "image/png": "[encoded data removed]",
      "text/plain": [
       "<Figure size 432x288 with 1 Axes>"
      ]
     },
     "metadata": {
      "needs_background": "light"
     },
     "output_type": "display_data"
    }
   ],
   "source": [
    "print(target.value_counts(normalize=True))\n",
    "\n",
    "# визуализируем это соотношение\n",
    "target.value_counts(normalize=True).plot(kind='bar', color='purple')\n",
    "plt.title('Соотношение классов целевого признака')\n",
    "plt.xlabel('Класс целевого признака')\n",
    "plt.ylabel('Доля класса в выборке')\n",
    "plt.show()"
   ]
  },
  {
   "cell_type": "markdown",
   "metadata": {},
   "source": [
    "Положительный класс составляет лишь 20% от выборки, то есть наблюдается сильный дисбаланс классов, что плохо сказывается на обучении модели.\n",
    "\n",
    "Обучим модели на несбалансированной выборке и рассчитаем метрики таких моделей. В качестве алгоритмов обучения используем `Decision Tree`,`Random Forest` и `Logistic Regression`.\n",
    "\n",
    "Поскольку обучение модели будет осуществляться на несбалансированной выборке (то есть качество заведомо хуже), для повышения качества моделей используем перебор гиперпараметров."
   ]
  },
  {
   "cell_type": "markdown",
   "metadata": {},
   "source": [
    "### Решающее дерево"
   ]
  },
  {
   "cell_type": "markdown",
   "metadata": {},
   "source": [
    "Рассмотрим качество модели, построенной по алгоритму \"Решающее дерево\" (\"Decision Tree\"). В качестве варьируемых гиперпараметром  будем использовать `max_depth`, `criterion`, `min_samples_split`, `min_samples_leaf`. Качество модели будем оценивать по агрегирующей метрике - `f1-мере`:"
   ]
  },
  {
   "cell_type": "code",
   "execution_count": 14,
   "metadata": {},
   "outputs": [
    {
     "name": "stdout",
     "output_type": "stream",
     "text": [
      "CPU times: user 13.7 s, sys: 24.2 ms, total: 13.7 s\n",
      "Wall time: 27.1 s\n"
     ]
    }
   ],
   "source": [
    "%%time\n",
    "decision_tree_metrics = pd.DataFrame()\n",
    "for depth in range(1, 10):\n",
    "    for criterion in ['gini', 'entropy']:\n",
    "        for split in range(2, 20, 2):\n",
    "            for leaf in range(2, 10, 2):\n",
    "                model = DecisionTreeClassifier(\n",
    "                    random_state=777, max_depth=depth, criterion=criterion, min_samples_split=split, min_samples_leaf=leaf\n",
    "                )\n",
    "                model.fit(features_train, target_train) # обучение модели на обучающей выборке\n",
    "                predictions = model.predict(features_valid) # предсказания модели на валидационной выборке\n",
    "                f1 = f1_score(target_valid, predictions) # расчет f1-меры\n",
    "                roc_auc = roc_auc_score(target_valid, predictions) # расчет метрики AUC-ROC\n",
    "                metrics = pd.DataFrame({\n",
    "                    'max_depth': [depth], \n",
    "                    'criterion': [criterion],\n",
    "                    'split': [split], \n",
    "                    'leaf': [leaf],\n",
    "                    'f1': [f1],\n",
    "                    'roc_auc': [roc_auc]\n",
    "                    }\n",
    "                )\n",
    "                decision_tree_metrics = decision_tree_metrics.append(metrics)"
   ]
  },
  {
   "cell_type": "code",
   "execution_count": 15,
   "metadata": {},
   "outputs": [
    {
     "data": {
      "text/html": [
       "<div>\n",
       "<style scoped>\n",
       "    .dataframe tbody tr th:only-of-type {\n",
       "        vertical-align: middle;\n",
       "    }\n",
       "\n",
       "    .dataframe tbody tr th {\n",
       "        vertical-align: top;\n",
       "    }\n",
       "\n",
       "    .dataframe thead th {\n",
       "        text-align: right;\n",
       "    }\n",
       "</style>\n",
       "<table border=\"1\" class=\"dataframe\">\n",
       "  <thead>\n",
       "    <tr style=\"text-align: right;\">\n",
       "      <th></th>\n",
       "      <th>max_depth</th>\n",
       "      <th>criterion</th>\n",
       "      <th>split</th>\n",
       "      <th>leaf</th>\n",
       "      <th>f1</th>\n",
       "      <th>roc_auc</th>\n",
       "    </tr>\n",
       "  </thead>\n",
       "  <tbody>\n",
       "    <tr>\n",
       "      <th>0</th>\n",
       "      <td>8</td>\n",
       "      <td>entropy</td>\n",
       "      <td>12</td>\n",
       "      <td>8</td>\n",
       "      <td>0.603448</td>\n",
       "      <td>0.732855</td>\n",
       "    </tr>\n",
       "    <tr>\n",
       "      <th>0</th>\n",
       "      <td>8</td>\n",
       "      <td>entropy</td>\n",
       "      <td>18</td>\n",
       "      <td>8</td>\n",
       "      <td>0.603448</td>\n",
       "      <td>0.732855</td>\n",
       "    </tr>\n",
       "    <tr>\n",
       "      <th>0</th>\n",
       "      <td>8</td>\n",
       "      <td>entropy</td>\n",
       "      <td>2</td>\n",
       "      <td>8</td>\n",
       "      <td>0.603448</td>\n",
       "      <td>0.732855</td>\n",
       "    </tr>\n",
       "    <tr>\n",
       "      <th>0</th>\n",
       "      <td>8</td>\n",
       "      <td>entropy</td>\n",
       "      <td>16</td>\n",
       "      <td>8</td>\n",
       "      <td>0.603448</td>\n",
       "      <td>0.732855</td>\n",
       "    </tr>\n",
       "    <tr>\n",
       "      <th>0</th>\n",
       "      <td>8</td>\n",
       "      <td>entropy</td>\n",
       "      <td>4</td>\n",
       "      <td>8</td>\n",
       "      <td>0.603448</td>\n",
       "      <td>0.732855</td>\n",
       "    </tr>\n",
       "  </tbody>\n",
       "</table>\n",
       "</div>"
      ],
      "text/plain": [
       "   max_depth criterion  split  leaf        f1   roc_auc\n",
       "0          8   entropy     12     8  0.603448  0.732855\n",
       "0          8   entropy     18     8  0.603448  0.732855\n",
       "0          8   entropy      2     8  0.603448  0.732855\n",
       "0          8   entropy     16     8  0.603448  0.732855\n",
       "0          8   entropy      4     8  0.603448  0.732855"
      ]
     },
     "execution_count": 15,
     "metadata": {},
     "output_type": "execute_result"
    }
   ],
   "source": [
    "decision_tree_metrics.sort_values(by='f1', ascending=False).head() # вывод результата"
   ]
  },
  {
   "cell_type": "markdown",
   "metadata": {},
   "source": [
    "Как видно из полученных данных, максимальное значение `f1-меры` равно 0.603, `AUC-ROC`- 0.733, то есть даже на несбалансированной выборке удалось получить модель, имеющую значение `f1-меры`, удовлетворяющее требованиям исследования."
   ]
  },
  {
   "cell_type": "markdown",
   "metadata": {},
   "source": [
    "Проверим как поведет себя модель на тестовой выборке:"
   ]
  },
  {
   "cell_type": "code",
   "execution_count": 16,
   "metadata": {},
   "outputs": [
    {
     "name": "stdout",
     "output_type": "stream",
     "text": [
      "F1-мера на тестовой выборке: 0.591304347826087\n"
     ]
    }
   ],
   "source": [
    "# сохраним в новой переменной модель с гиперпараметрами, при которых достигается максимальное значение f1-меры:\n",
    "decision_tree_model = DecisionTreeClassifier(\n",
    "                    random_state=777, max_depth=8, criterion='entropy', min_samples_split=16, min_samples_leaf=8\n",
    "                )\n",
    "\n",
    "decision_tree_model.fit(features_train, target_train) # обучение модели на обучающей выборке\n",
    "predictions = decision_tree_model.predict(features_test) # предсказания модели на тестовой выборке\n",
    "result = f1_score(target_test, predictions) # расчет f1-меры\n",
    "\n",
    "print(f'F1-мера на тестовой выборке: {result}')"
   ]
  },
  {
   "cell_type": "markdown",
   "metadata": {},
   "source": [
    "Значение f1-меры на тестовой выборке удовлетворяет требованиям."
   ]
  },
  {
   "cell_type": "markdown",
   "metadata": {},
   "source": [
    "### Случайный лес"
   ]
  },
  {
   "cell_type": "markdown",
   "metadata": {},
   "source": [
    "Далее переберем в цикле гиперпараметры для алгоритма \"Случайный лес\" (\"Random Forest\") и выберем наиболее оптимальные по значению `f1-меры`:"
   ]
  },
  {
   "cell_type": "code",
   "execution_count": 17,
   "metadata": {},
   "outputs": [
    {
     "name": "stdout",
     "output_type": "stream",
     "text": [
      "CPU times: user 51.1 s, sys: 223 ms, total: 51.3 s\n",
      "Wall time: 1min 43s\n"
     ]
    }
   ],
   "source": [
    "%%time\n",
    "random_forest_metrics = pd.DataFrame()\n",
    "for depth in range(1, 11):\n",
    "    for est in range(50, 151, 10):\n",
    "        #for split in range(2, 10, 2):\n",
    "            #for leaf in range(2, 10, 2):\n",
    "                model = RandomForestClassifier(\n",
    "                    random_state=777, max_depth=depth, n_estimators=est#, min_samples_split=split, min_samples_leaf=leaf\n",
    "                )\n",
    "                model.fit(features_train, target_train) # обучение модели на обучающей выборке\n",
    "                predictions = model.predict(features_valid) # предсказания модели на валидационной выборке\n",
    "                f1 = f1_score(target_valid, predictions) # расчет f1-меры\n",
    "                roc_auc = roc_auc_score(target_valid, predictions) # расчет метрики AUC-ROC\n",
    "                metrics = pd.DataFrame({\n",
    "                    'max_depth': [depth],\n",
    "                    'n_estimators': [est], \n",
    "                    #'split': [split], \n",
    "                    #'leaf': [leaf],\n",
    "                    'f1': [f1],\n",
    "                    'roc_auc': [roc_auc]\n",
    "                }\n",
    "                )\n",
    "                random_forest_metrics = random_forest_metrics.append(metrics)"
   ]
  },
  {
   "cell_type": "code",
   "execution_count": 18,
   "metadata": {},
   "outputs": [
    {
     "data": {
      "text/html": [
       "<div>\n",
       "<style scoped>\n",
       "    .dataframe tbody tr th:only-of-type {\n",
       "        vertical-align: middle;\n",
       "    }\n",
       "\n",
       "    .dataframe tbody tr th {\n",
       "        vertical-align: top;\n",
       "    }\n",
       "\n",
       "    .dataframe thead th {\n",
       "        text-align: right;\n",
       "    }\n",
       "</style>\n",
       "<table border=\"1\" class=\"dataframe\">\n",
       "  <thead>\n",
       "    <tr style=\"text-align: right;\">\n",
       "      <th></th>\n",
       "      <th>max_depth</th>\n",
       "      <th>n_estimators</th>\n",
       "      <th>f1</th>\n",
       "      <th>roc_auc</th>\n",
       "    </tr>\n",
       "  </thead>\n",
       "  <tbody>\n",
       "    <tr>\n",
       "      <th>0</th>\n",
       "      <td>10</td>\n",
       "      <td>50</td>\n",
       "      <td>0.571870</td>\n",
       "      <td>0.709756</td>\n",
       "    </tr>\n",
       "    <tr>\n",
       "      <th>0</th>\n",
       "      <td>10</td>\n",
       "      <td>140</td>\n",
       "      <td>0.565625</td>\n",
       "      <td>0.705796</td>\n",
       "    </tr>\n",
       "    <tr>\n",
       "      <th>0</th>\n",
       "      <td>10</td>\n",
       "      <td>150</td>\n",
       "      <td>0.560250</td>\n",
       "      <td>0.703031</td>\n",
       "    </tr>\n",
       "    <tr>\n",
       "      <th>0</th>\n",
       "      <td>10</td>\n",
       "      <td>130</td>\n",
       "      <td>0.560250</td>\n",
       "      <td>0.703031</td>\n",
       "    </tr>\n",
       "    <tr>\n",
       "      <th>0</th>\n",
       "      <td>10</td>\n",
       "      <td>110</td>\n",
       "      <td>0.558870</td>\n",
       "      <td>0.702120</td>\n",
       "    </tr>\n",
       "  </tbody>\n",
       "</table>\n",
       "</div>"
      ],
      "text/plain": [
       "   max_depth  n_estimators        f1   roc_auc\n",
       "0         10            50  0.571870  0.709756\n",
       "0         10           140  0.565625  0.705796\n",
       "0         10           150  0.560250  0.703031\n",
       "0         10           130  0.560250  0.703031\n",
       "0         10           110  0.558870  0.702120"
      ]
     },
     "execution_count": 18,
     "metadata": {},
     "output_type": "execute_result"
    }
   ],
   "source": [
    "random_forest_metrics.sort_values(by='f1', ascending=False).head() # вывод результата"
   ]
  },
  {
   "cell_type": "markdown",
   "metadata": {},
   "source": [
    "Неожиданно модель, построенная по алгоритму \"Случайный лес\", показала ниже результат, чем модель по алгоритму \"Решающее дерево\". F1-мера равна 0.572, что не удовлетворяет требованиям исследования."
   ]
  },
  {
   "cell_type": "markdown",
   "metadata": {},
   "source": [
    "### Логистическая регрессия"
   ]
  },
  {
   "cell_type": "markdown",
   "metadata": {},
   "source": [
    "Аналогично предыдущим шагам подберем наиболее оптимальные гиперпараметры для алгоритма \"Логистическая регрессия\" (\"Logistic Regression\") и посчитаем значение `f1-меры`:"
   ]
  },
  {
   "cell_type": "code",
   "execution_count": 19,
   "metadata": {},
   "outputs": [
    {
     "name": "stdout",
     "output_type": "stream",
     "text": [
      "CPU times: user 5.73 s, sys: 5.13 s, total: 10.9 s\n",
      "Wall time: 12.8 s\n"
     ]
    }
   ],
   "source": [
    "%%time\n",
    "logistic_regression_metrics = pd.DataFrame()\n",
    "for solver in ['newton-cg', 'lbfgs', 'liblinear', 'sag', 'saga']:\n",
    "    for n_iter in range(100, 200, 10):\n",
    "        model = LogisticRegression(\n",
    "            random_state=777, solver=solver, max_iter=n_iter\n",
    "        )\n",
    "        model.fit(features_train, target_train) # обучение модели на обучающей выборке\n",
    "        predictions = model.predict(features_valid) # предсказания модели на валидационной выборке\n",
    "        f1 = f1_score(target_valid, predictions) # расчет f1-меры\n",
    "        roc_auc = roc_auc_score(target_valid, predictions) # расчет метрики AUC-ROC\n",
    "        metrics = pd.DataFrame({\n",
    "            'solver': [solver], \n",
    "            'f1': [f1],\n",
    "            'roc_auc': [roc_auc]\n",
    "        }\n",
    "        )\n",
    "        logistic_regression_metrics = logistic_regression_metrics.append(metrics)"
   ]
  },
  {
   "cell_type": "code",
   "execution_count": 20,
   "metadata": {},
   "outputs": [
    {
     "data": {
      "text/html": [
       "<div>\n",
       "<style scoped>\n",
       "    .dataframe tbody tr th:only-of-type {\n",
       "        vertical-align: middle;\n",
       "    }\n",
       "\n",
       "    .dataframe tbody tr th {\n",
       "        vertical-align: top;\n",
       "    }\n",
       "\n",
       "    .dataframe thead th {\n",
       "        text-align: right;\n",
       "    }\n",
       "</style>\n",
       "<table border=\"1\" class=\"dataframe\">\n",
       "  <thead>\n",
       "    <tr style=\"text-align: right;\">\n",
       "      <th></th>\n",
       "      <th>solver</th>\n",
       "      <th>f1</th>\n",
       "      <th>roc_auc</th>\n",
       "    </tr>\n",
       "  </thead>\n",
       "  <tbody>\n",
       "    <tr>\n",
       "      <th>0</th>\n",
       "      <td>liblinear</td>\n",
       "      <td>0.294227</td>\n",
       "      <td>0.58111</td>\n",
       "    </tr>\n",
       "    <tr>\n",
       "      <th>0</th>\n",
       "      <td>liblinear</td>\n",
       "      <td>0.294227</td>\n",
       "      <td>0.58111</td>\n",
       "    </tr>\n",
       "    <tr>\n",
       "      <th>0</th>\n",
       "      <td>liblinear</td>\n",
       "      <td>0.294227</td>\n",
       "      <td>0.58111</td>\n",
       "    </tr>\n",
       "    <tr>\n",
       "      <th>0</th>\n",
       "      <td>liblinear</td>\n",
       "      <td>0.294227</td>\n",
       "      <td>0.58111</td>\n",
       "    </tr>\n",
       "    <tr>\n",
       "      <th>0</th>\n",
       "      <td>liblinear</td>\n",
       "      <td>0.294227</td>\n",
       "      <td>0.58111</td>\n",
       "    </tr>\n",
       "  </tbody>\n",
       "</table>\n",
       "</div>"
      ],
      "text/plain": [
       "      solver        f1  roc_auc\n",
       "0  liblinear  0.294227  0.58111\n",
       "0  liblinear  0.294227  0.58111\n",
       "0  liblinear  0.294227  0.58111\n",
       "0  liblinear  0.294227  0.58111\n",
       "0  liblinear  0.294227  0.58111"
      ]
     },
     "execution_count": 20,
     "metadata": {},
     "output_type": "execute_result"
    }
   ],
   "source": [
    "logistic_regression_metrics.sort_values(by='f1', ascending=False).head() # вывод результата"
   ]
  },
  {
   "cell_type": "markdown",
   "metadata": {},
   "source": [
    "Среди рассммотренных алгоритмов модель, построенная по алгоритму \"Логистическая регрессия\", показала наихудший результат на несбалансированной выборке - F1-мера равна 0.294."
   ]
  },
  {
   "cell_type": "markdown",
   "metadata": {},
   "source": [
    "### Вывод"
   ]
  },
  {
   "cell_type": "markdown",
   "metadata": {},
   "source": [
    "На данном этапе был рассмотрен баланс классов целевого признака `Exited` нашего датасета.\n",
    "\n",
    "Положительный класс составляет лишь 20% от выборки, то есть наблюдается сильный дисбаланс классов - это плохо сказывается на обучении модели.\n",
    "\n",
    "В исследовательских целях были обучены модели на несбалансированной выборке и рассчитаны их метрики. В качестве алгоритмов обучения были использованы `Decision Tree`,`Random Forest` и `Logistic Regression`. Поскольку обучение моделей осуществлялось на несбалансированной выборке, для повышения качества моделей для каждого алгоритма был проведен подбор гиперпараметров, и была определена модель с наиболее высоким показателем `f1-меры`.\n",
    "\n",
    "Наилучший результат был получен моделью, построенной по алгоритму \"Решающее дерево\": на валидационной выборке модель показала значение `f1-меры`, равной 0.603, а на тестовой 0.591. Таким образом, несмотря на несбалансированность классов, удалось модель, удовлетворяющую требованиям исследования. \n",
    "\n",
    "При этом наиболее чувствительной к дисбалансу классов оказалась модель, построенная по алгоритму \"Логистическая регрессия\"."
   ]
  },
  {
   "cell_type": "markdown",
   "metadata": {},
   "source": [
    "## Борьба с дисбалансом"
   ]
  },
  {
   "cell_type": "markdown",
   "metadata": {},
   "source": [
    "Для борьбы с дисбалансом рассмотрим несколько подходов:\n",
    "- Взвешивание классов;\n",
    "- Увеличение выборки (Upsampling);\n",
    "- Уменьшение выборки (Downsampling).\n",
    "\n",
    "В качестве гиперпараметров моделей будем использовать диапазоны гиперпараметров, которые использовали при обучении на несбалансированной выборке."
   ]
  },
  {
   "cell_type": "markdown",
   "metadata": {},
   "source": [
    "### Взвешивание классов"
   ]
  },
  {
   "cell_type": "markdown",
   "metadata": {},
   "source": [
    "Для балансирования классов в алгоритмах моделей установим гиперпараметр `class_weight='balanced'`."
   ]
  },
  {
   "cell_type": "markdown",
   "metadata": {},
   "source": [
    "#### Решающее дерево"
   ]
  },
  {
   "cell_type": "markdown",
   "metadata": {},
   "source": [
    "Обучим модель по алгоритму \"Решающее дерево\", перебирая гиперпараметры алгоритма. Найдем метрики качества `f1-мера` и `AUC-ROC`, построим `ROC-кривую`. Для этого создадим функцию:"
   ]
  },
  {
   "cell_type": "code",
   "execution_count": 21,
   "metadata": {},
   "outputs": [],
   "source": [
    "def f1_auc_roc(\n",
    "    algorythm, \n",
    "    algorythm_parameters, \n",
    "    algorythm_name, \n",
    "    arg_class_weight, \n",
    "    arg_features_fit, \n",
    "    arg_target_fit,\n",
    "    arg_features_predict, \n",
    "    arg_target_predict,\n",
    "):\n",
    "    f1_best = 0.01\n",
    "    model = GridSearchCV(\n",
    "        algorythm(\n",
    "            random_state=777, \n",
    "            class_weight=arg_class_weight\n",
    "        ),\n",
    "        algorythm_parameters,\n",
    "        n_jobs=-1,\n",
    "        cv=3\n",
    "    )\n",
    "    \n",
    "    model.fit(arg_features_fit, arg_target_fit) # обучение модели на обучающей выборке\n",
    "    predictions = model.predict(arg_features_predict) # предсказания модели на валидационной выборке\n",
    "    f1 = f1_score(arg_target_predict, predictions) # расчет f1-меры\n",
    "    if f1 >= f1_best:\n",
    "        f1_best = f1\n",
    "        print(f'Гиперпараметры лучшей модели: {model.best_params_}')\n",
    "        print(f'F1-мера для алгоритма \"{algorythm_name}\": {f1}')\n",
    "            \n",
    "        # расчет метрики AUC-ROC\n",
    "        probabilities_valid = model.predict_proba(arg_features_predict)\n",
    "        probabilities_one_valid = probabilities_valid[:, 1]\n",
    "        roc_auc = roc_auc_score(arg_target_predict, probabilities_one_valid)\n",
    "        print(f'AUC-ROC для алгоритма \"{algorythm_name}\": {roc_auc}')\n",
    "    \n",
    "        # построение графика AUC-ROC\n",
    "        fpr, tpr, thresholds = roc_curve(arg_target_predict, probabilities_one_valid) \n",
    "        \n",
    "        plt.figure(figsize=(7,5))\n",
    "        plt.plot(fpr, tpr)\n",
    "        plt.plot([0, 1], [0, 1], linestyle='--')\n",
    "        plt.xlim([0.0, 1.0])\n",
    "        plt.ylim([0.0, 1.0])\n",
    "        plt.xlabel('False Positive Rate')\n",
    "        plt.ylabel('True Positive Rate')\n",
    "        plt.title(f'ROC-кривая для алгоритма \"{algorythm_name}\"')\n",
    "        plt.show()\n",
    "        return\n",
    "    #else:\n",
    "    #    print('Модель со значением f1-меры >= 0.59 обучить не удалось')"
   ]
  },
  {
   "cell_type": "code",
   "execution_count": 22,
   "metadata": {},
   "outputs": [
    {
     "name": "stdout",
     "output_type": "stream",
     "text": [
      "Гиперпараметры лучшей модели: {'criterion': 'gini', 'max_depth': 5, 'min_samples_leaf': 8, 'min_samples_split': 2}\n",
      "F1-мера для алгоритма \"Решающее дерево\": 0.576158940397351\n",
      "AUC-ROC для алгоритма \"Решающее дерево\": 0.820708936841068\n"
     ]
    },
    {
     "data": {
      "image/png": "[encoded data removed]",
      "text/plain": [
       "<Figure size 504x360 with 1 Axes>"
      ]
     },
     "metadata": {
      "needs_background": "light"
     },
     "output_type": "display_data"
    },
    {
     "name": "stdout",
     "output_type": "stream",
     "text": [
      "CPU times: user 32.2 s, sys: 17.3 ms, total: 32.2 s\n",
      "Wall time: 1min 4s\n"
     ]
    }
   ],
   "source": [
    "%%time\n",
    "parameters_decision_tree = {\n",
    "    'max_depth': list(range(1, 10)),\n",
    "    'criterion': ['gini', 'entropy'],\n",
    "    'min_samples_split': list(range(2, 20, 2)),\n",
    "    'min_samples_leaf': list(range(2, 10, 2))\n",
    "}\n",
    "\n",
    "f1_auc_roc(\n",
    "    DecisionTreeClassifier, \n",
    "    parameters_decision_tree, \n",
    "    'Решающее дерево', \n",
    "    'balanced', \n",
    "    features_train, \n",
    "    target_train,\n",
    "    features_valid,\n",
    "    target_valid\n",
    ")"
   ]
  },
  {
   "cell_type": "markdown",
   "metadata": {},
   "source": [
    "По результатам обучения по алгоритму \"Решающее дерево\" получить модель со значением `f1-меры` >= 0.59 не удалось."
   ]
  },
  {
   "cell_type": "markdown",
   "metadata": {},
   "source": [
    "#### Случайный лес"
   ]
  },
  {
   "cell_type": "markdown",
   "metadata": {},
   "source": [
    "Далее обучим модель по алгоритму \"Случайный лес\", перебирая гиперпараметры алгоритма. Найдем метрики качества `f1-мера` и `AUC-ROC`, построим `ROC-кривую`:"
   ]
  },
  {
   "cell_type": "code",
   "execution_count": 23,
   "metadata": {},
   "outputs": [
    {
     "name": "stdout",
     "output_type": "stream",
     "text": [
      "Гиперпараметры лучшей модели: {'max_depth': 10, 'n_estimators': 80}\n",
      "F1-мера для алгоритма \"Случайный лес\": 0.6184538653366584\n",
      "AUC-ROC для алгоритма \"Случайный лес\": 0.8584420263080107\n"
     ]
    },
    {
     "data": {
      "image/png": "[encoded data removed]",
      "text/plain": [
       "<Figure size 504x360 with 1 Axes>"
      ]
     },
     "metadata": {
      "needs_background": "light"
     },
     "output_type": "display_data"
    },
    {
     "name": "stdout",
     "output_type": "stream",
     "text": [
      "CPU times: user 1min 58s, sys: 583 ms, total: 1min 58s\n",
      "Wall time: 4min 3s\n"
     ]
    }
   ],
   "source": [
    "%%time\n",
    "parameters_random_forest = {\n",
    "    'max_depth': list(range(1, 11)),\n",
    "    'n_estimators': list(range(50, 151, 10)),\n",
    "    #'min_samples_split': list(range(2, 10, 2)),\n",
    "    #'min_samples_leaf': list(range(2, 10, 2))\n",
    "}\n",
    "\n",
    "f1_auc_roc(\n",
    "    RandomForestClassifier, \n",
    "    parameters_random_forest, \n",
    "    'Случайный лес', \n",
    "    'balanced', \n",
    "    features_train, \n",
    "    target_train,\n",
    "    features_valid,\n",
    "    target_valid\n",
    ")"
   ]
  },
  {
   "cell_type": "markdown",
   "metadata": {},
   "source": [
    "По результатам обучения по алгоритму \"Случайный лес\" получили модель с качеством по метрике `f1-мера`, равной 0.618, и по метрике `AUC-ROC`, равной 0.858, что удовлетворяет требованиям."
   ]
  },
  {
   "cell_type": "markdown",
   "metadata": {},
   "source": [
    "#### Логистическая регрессия"
   ]
  },
  {
   "cell_type": "markdown",
   "metadata": {},
   "source": [
    "Аналогично обучим модель по алгоритму \"Логистическая регрессия\", перебирая гиперпараметры алгоритма. Найдем метрики качества `f1-мера` и `AUC-ROC`, построим `ROC-кривую`:"
   ]
  },
  {
   "cell_type": "code",
   "execution_count": 24,
   "metadata": {
    "scrolled": false
   },
   "outputs": [
    {
     "name": "stdout",
     "output_type": "stream",
     "text": [
      "Гиперпараметры лучшей модели: {'max_iter': 100, 'solver': 'newton-cg'}\n",
      "F1-мера для алгоритма \"Логистическая регрессия\": 0.4991150442477876\n",
      "AUC-ROC для алгоритма \"Логистическая регрессия\": 0.764045410877919\n"
     ]
    },
    {
     "data": {
      "image/png": "[encoded data removed]",
      "text/plain": [
       "<Figure size 504x360 with 1 Axes>"
      ]
     },
     "metadata": {
      "needs_background": "light"
     },
     "output_type": "display_data"
    },
    {
     "name": "stdout",
     "output_type": "stream",
     "text": [
      "CPU times: user 17.2 s, sys: 15 s, total: 32.3 s\n",
      "Wall time: 46.3 s\n"
     ]
    }
   ],
   "source": [
    "%%time\n",
    "parameters_logistic_regression = {\n",
    "    'solver': ['newton-cg', 'lbfgs', 'liblinear', 'sag', 'saga'],\n",
    "    'max_iter': list(range(100, 200, 10))\n",
    "}\n",
    "\n",
    "f1_auc_roc(\n",
    "    LogisticRegression, \n",
    "    parameters_logistic_regression, \n",
    "    'Логистическая регрессия', \n",
    "    'balanced', \n",
    "    features_train, \n",
    "    target_train,\n",
    "    features_valid,\n",
    "    target_valid\n",
    ")"
   ]
  },
  {
   "cell_type": "markdown",
   "metadata": {},
   "source": [
    "По результатам обучения по алгоритму \"Логистическая регрессия\" получить модель со значением `f1-меры` >= 0.59 не удалось."
   ]
  },
  {
   "cell_type": "markdown",
   "metadata": {},
   "source": [
    "### Увеличение выборки (Upsampling)"
   ]
  },
  {
   "cell_type": "markdown",
   "metadata": {},
   "source": [
    "Чтобы сбалансировать классы в обучающей выборке, увеличим число строк с положительным классом. Для этого:\n",
    "- разделим обучающую выборку на положительные и отрицательные объекты;\n",
    "- скопируем положительные объекты несколько раз;\n",
    "- с учетом полученных данных создадим новую обучающую выборку;\n",
    "- перемешаем объекты, чтобы алгоритмы обучались сложнее."
   ]
  },
  {
   "cell_type": "code",
   "execution_count": 25,
   "metadata": {},
   "outputs": [],
   "source": [
    "def upsample(features, target, repeat):\n",
    "    \n",
    "    # разделение выборки на положительные и отрицательные объекты\n",
    "    features_zeros = features[target == 0]\n",
    "    features_ones = features[target == 1]\n",
    "    target_zeros = target[target == 0]\n",
    "    target_ones = target[target == 1]\n",
    "    \n",
    "    # копирование положительных объектов несколько раз и конкатенация новой выборки\n",
    "    features_upsampled = pd.concat([features_zeros] + [features_ones] * repeat)\n",
    "    target_upsampled = pd.concat([target_zeros] + [target_ones] * repeat)\n",
    "    \n",
    "    # перемешивание объектов для усложнения обучения\n",
    "    features_upsampled, target_upsampled = shuffle(\n",
    "        features_upsampled, target_upsampled, random_state=777\n",
    "    )\n",
    "    \n",
    "    return features_upsampled, target_upsampled"
   ]
  },
  {
   "cell_type": "code",
   "execution_count": 26,
   "metadata": {},
   "outputs": [
    {
     "name": "stdout",
     "output_type": "stream",
     "text": [
      "1    0.50569\n",
      "0    0.49431\n",
      "Name: Exited, dtype: float64\n"
     ]
    },
    {
     "data": {
      "image/png": "[encoded data removed]",
      "text/plain": [
       "<Figure size 432x288 with 1 Axes>"
      ]
     },
     "metadata": {
      "needs_background": "light"
     },
     "output_type": "display_data"
    }
   ],
   "source": [
    "features_upsampled, target_upsampled = upsample(features_train, target_train, 4)\n",
    "\n",
    "# проверим соотношение классов\n",
    "print(target_upsampled.value_counts(normalize=True))\n",
    "\n",
    "# визуализируем это соотношение\n",
    "target_upsampled.value_counts(normalize=True).plot(kind='bar', color='purple')\n",
    "plt.title('Соотношение классов целевого признака')\n",
    "plt.xlabel('Класс целевого признака')\n",
    "plt.ylabel('Доля класса в выборке')\n",
    "plt.show()"
   ]
  },
  {
   "cell_type": "markdown",
   "metadata": {},
   "source": [
    "Как видно из данных, соотношение положительных и отрицательных объектов в новой выборке практически равное. Проверим как обучатся модели по новой сбалансированной по `Upsampling` выборке."
   ]
  },
  {
   "cell_type": "markdown",
   "metadata": {},
   "source": [
    "#### Решающее дерево"
   ]
  },
  {
   "cell_type": "markdown",
   "metadata": {},
   "source": [
    "Обучим модель по алгоритму \"Решающее дерево\" на сбалансированной по `Upsampling` выборке. Найдем метрики качества `f1-мера` и `AUC-ROC`, построим `ROC-кривую`:"
   ]
  },
  {
   "cell_type": "code",
   "execution_count": 27,
   "metadata": {},
   "outputs": [
    {
     "name": "stdout",
     "output_type": "stream",
     "text": [
      "Гиперпараметры лучшей модели: {'criterion': 'gini', 'max_depth': 9, 'min_samples_leaf': 2, 'min_samples_split': 2}\n",
      "F1-мера для алгоритма \"Решающее дерево\": 0.5567970204841712\n",
      "AUC-ROC для алгоритма \"Решающее дерево\": 0.7790091696226229\n"
     ]
    },
    {
     "data": {
      "image/png": "[encoded data removed]",
      "text/plain": [
       "<Figure size 504x360 with 1 Axes>"
      ]
     },
     "metadata": {
      "needs_background": "light"
     },
     "output_type": "display_data"
    },
    {
     "name": "stdout",
     "output_type": "stream",
     "text": [
      "CPU times: user 38.5 s, sys: 0 ns, total: 38.5 s\n",
      "Wall time: 1min 41s\n"
     ]
    }
   ],
   "source": [
    "%%time\n",
    "f1_auc_roc(\n",
    "    DecisionTreeClassifier, \n",
    "    parameters_decision_tree, \n",
    "    'Решающее дерево', \n",
    "    None, \n",
    "    features_upsampled, \n",
    "    target_upsampled,\n",
    "    features_valid,\n",
    "    target_valid\n",
    ")"
   ]
  },
  {
   "cell_type": "markdown",
   "metadata": {},
   "source": [
    "По результатам обучения по алгоритму \"Решающее дерево\" на сбалансированной по `Upsampling` выборке получить модель со значением `f1-меры` >= 0.59 не удалось."
   ]
  },
  {
   "cell_type": "markdown",
   "metadata": {},
   "source": [
    "#### Случайный лес"
   ]
  },
  {
   "cell_type": "markdown",
   "metadata": {},
   "source": [
    "Далее обучим модель по алгоритму \"Случайный лес\" на сбалансированной по `Upsampling` выборке. Также найдем метрики качества `f1-мера` и `AUC-ROC`, построим `ROC-кривую`:"
   ]
  },
  {
   "cell_type": "code",
   "execution_count": 28,
   "metadata": {},
   "outputs": [
    {
     "name": "stdout",
     "output_type": "stream",
     "text": [
      "Гиперпараметры лучшей модели: {'max_depth': 10, 'n_estimators': 50}\n",
      "F1-мера для алгоритма \"Случайный лес\": 0.6165919282511212\n",
      "AUC-ROC для алгоритма \"Случайный лес\": 0.8596752143068283\n"
     ]
    },
    {
     "data": {
      "image/png": "[encoded data removed]",
      "text/plain": [
       "<Figure size 504x360 with 1 Axes>"
      ]
     },
     "metadata": {
      "needs_background": "light"
     },
     "output_type": "display_data"
    },
    {
     "name": "stdout",
     "output_type": "stream",
     "text": [
      "CPU times: user 2min 48s, sys: 539 ms, total: 2min 49s\n",
      "Wall time: 5min 43s\n"
     ]
    }
   ],
   "source": [
    "%%time\n",
    "f1_auc_roc(\n",
    "    RandomForestClassifier, \n",
    "    parameters_random_forest, \n",
    "    'Случайный лес', \n",
    "    None, \n",
    "    features_upsampled, \n",
    "    target_upsampled,\n",
    "    features_valid,\n",
    "    target_valid\n",
    ")"
   ]
  },
  {
   "cell_type": "markdown",
   "metadata": {},
   "source": [
    "По результатам обучения по алгоритму \"Случайный лес\" на сбалансированной по `Upsampling` выборке получили модель с качеством по метрике `f1-мера` 0.617 и по метрике `AUC-ROC` 0.86. Оба показателя удовлетворяют нашим требованиям."
   ]
  },
  {
   "cell_type": "markdown",
   "metadata": {},
   "source": [
    "#### Логистическая регрессия"
   ]
  },
  {
   "cell_type": "markdown",
   "metadata": {},
   "source": [
    "Аналогично для модель по алгоритму \"Логистическая регрессия\":"
   ]
  },
  {
   "cell_type": "code",
   "execution_count": 29,
   "metadata": {},
   "outputs": [
    {
     "name": "stdout",
     "output_type": "stream",
     "text": [
      "Гиперпараметры лучшей модели: {'max_iter': 100, 'solver': 'newton-cg'}\n",
      "F1-мера для алгоритма \"Логистическая регрессия\": 0.4978089395267309\n",
      "AUC-ROC для алгоритма \"Логистическая регрессия\": 0.7640715834072321\n"
     ]
    },
    {
     "data": {
      "image/png": "[encoded data removed]",
      "text/plain": [
       "<Figure size 504x360 with 1 Axes>"
      ]
     },
     "metadata": {
      "needs_background": "light"
     },
     "output_type": "display_data"
    },
    {
     "name": "stdout",
     "output_type": "stream",
     "text": [
      "CPU times: user 20.5 s, sys: 19.6 s, total: 40 s\n",
      "Wall time: 47.4 s\n"
     ]
    }
   ],
   "source": [
    "%%time\n",
    "f1_auc_roc(\n",
    "    LogisticRegression, \n",
    "    parameters_logistic_regression, \n",
    "    'Логистическая регрессия', \n",
    "    None, \n",
    "    features_upsampled, \n",
    "    target_upsampled,\n",
    "    features_valid,\n",
    "    target_valid\n",
    ")"
   ]
  },
  {
   "cell_type": "markdown",
   "metadata": {},
   "source": [
    "По результатам обучения по алгоритму \"Логистическая регрессия\" на сбалансированной по `Upsampling` выборке получить модель со значением `f1-меры` >= 0.59 не удалось."
   ]
  },
  {
   "cell_type": "markdown",
   "metadata": {},
   "source": [
    "### Уменьшение выборки (Downsampling)"
   ]
  },
  {
   "cell_type": "markdown",
   "metadata": {},
   "source": [
    "Схожая с Upsampling техника. Преобразование также проходит в несколько этапов:\n",
    "- разделим обучающую выборку на положительные и отрицательные объекты;\n",
    "- случайным образом отбросим часть отрицательных объектов;\n",
    "- с учетом полученных данных создадим новую обучающую выборку;\n",
    "- перемешаем объекты, чтобы алгоритмы обучались сложнее."
   ]
  },
  {
   "cell_type": "code",
   "execution_count": 30,
   "metadata": {},
   "outputs": [],
   "source": [
    "def downsample(features, target, fraction):\n",
    "    \n",
    "    # разделение выборки на положительные и отрицательные объекты\n",
    "    features_zeros = features[target == 0]\n",
    "    features_ones = features[target == 1]\n",
    "    target_zeros = target[target == 0]\n",
    "    target_ones = target[target == 1]\n",
    "    \n",
    "    # отбрасывание части отрицательных объектов и конкатенация новой выборки\n",
    "    features_downsampled = pd.concat(\n",
    "        [features_zeros.sample(frac=fraction, random_state=12345)] + [features_ones]\n",
    "    )\n",
    "    \n",
    "    target_downsampled = pd.concat(\n",
    "        [target_zeros.sample(frac=fraction, random_state=12345)] + [target_ones]\n",
    "    )\n",
    "    \n",
    "    # перемешивание объектов для усложнения обучения\n",
    "    features_downsampled, target_downsampled = shuffle(\n",
    "        features_downsampled, target_downsampled, random_state=12345\n",
    "    )\n",
    "    \n",
    "    return features_downsampled, target_downsampled"
   ]
  },
  {
   "cell_type": "code",
   "execution_count": 31,
   "metadata": {},
   "outputs": [
    {
     "name": "stdout",
     "output_type": "stream",
     "text": [
      "1    0.505795\n",
      "0    0.494205\n",
      "Name: Exited, dtype: float64\n"
     ]
    },
    {
     "data": {
      "image/png": "[encoded data removed]",
      "text/plain": [
       "<Figure size 432x288 with 1 Axes>"
      ]
     },
     "metadata": {
      "needs_background": "light"
     },
     "output_type": "display_data"
    }
   ],
   "source": [
    "features_downsampled, target_downsampled = downsample(features_train, target_train, 0.25)\n",
    "\n",
    "# проверим соотношение классов\n",
    "print(target_downsampled.value_counts(normalize=True))\n",
    "\n",
    "# визуализируем это соотношение\n",
    "target_downsampled.value_counts(normalize=True).plot(kind='bar', color='purple')\n",
    "plt.title('Соотношение классов целевого признака')\n",
    "plt.xlabel('Класс целевого признака')\n",
    "plt.ylabel('Доля класса в выборке')\n",
    "plt.show()"
   ]
  },
  {
   "cell_type": "markdown",
   "metadata": {},
   "source": [
    "Как видно из данных, соотношение положительных и отрицательных объектов в новой выборке практически равное. Проверим как обучатся модели по новой сбалансированной по `Downsampling` выборке."
   ]
  },
  {
   "cell_type": "markdown",
   "metadata": {},
   "source": [
    "#### Решающее дерево"
   ]
  },
  {
   "cell_type": "markdown",
   "metadata": {},
   "source": [
    "Обучим модель по алгоритму \"Решающее дерево\" на сбалансированной по `Downsampling` выборке. Найдем метрики качества `f1-мера` и `AUC-ROC`, построим `ROC-кривую`:"
   ]
  },
  {
   "cell_type": "code",
   "execution_count": 32,
   "metadata": {},
   "outputs": [
    {
     "name": "stdout",
     "output_type": "stream",
     "text": [
      "Гиперпараметры лучшей модели: {'criterion': 'entropy', 'max_depth': 6, 'min_samples_leaf': 8, 'min_samples_split': 2}\n",
      "F1-мера для алгоритма \"Решающее дерево\": 0.5813715455475947\n",
      "AUC-ROC для алгоритма \"Решающее дерево\": 0.8423397625381812\n"
     ]
    },
    {
     "data": {
      "image/png": "[encoded data removed]",
      "text/plain": [
       "<Figure size 504x360 with 1 Axes>"
      ]
     },
     "metadata": {
      "needs_background": "light"
     },
     "output_type": "display_data"
    },
    {
     "name": "stdout",
     "output_type": "stream",
     "text": [
      "CPU times: user 18.6 s, sys: 16.2 ms, total: 18.6 s\n",
      "Wall time: 37.5 s\n"
     ]
    }
   ],
   "source": [
    "%%time\n",
    "f1_auc_roc(\n",
    "    DecisionTreeClassifier, \n",
    "    parameters_decision_tree, \n",
    "    'Решающее дерево', \n",
    "    None, \n",
    "    features_downsampled, \n",
    "    target_downsampled,\n",
    "    features_valid,\n",
    "    target_valid\n",
    ")"
   ]
  },
  {
   "cell_type": "markdown",
   "metadata": {},
   "source": [
    "По результатам обучения по алгоритму \"Решающее дерево\" на сбалансированной по `Downsampling` выборке получить модель со значением `f1-меры` >= 0.59 не удалось."
   ]
  },
  {
   "cell_type": "markdown",
   "metadata": {},
   "source": [
    "#### Случайный лес"
   ]
  },
  {
   "cell_type": "markdown",
   "metadata": {},
   "source": [
    "Далее обучим модель по алгоритму \"Случайный лес\" на сбалансированной по `Downsampling` выборке. Также найдем метрики качества `f1-мера` и `AUC-ROC`, построим `ROC-кривую`:"
   ]
  },
  {
   "cell_type": "code",
   "execution_count": 33,
   "metadata": {},
   "outputs": [
    {
     "name": "stdout",
     "output_type": "stream",
     "text": [
      "Гиперпараметры лучшей модели: {'max_depth': 7, 'n_estimators': 70}\n",
      "F1-мера для алгоритма \"Случайный лес\": 0.5967741935483871\n",
      "AUC-ROC для алгоритма \"Случайный лес\": 0.8545823480145828\n"
     ]
    },
    {
     "data": {
      "image/png": "[encoded data removed]",
      "text/plain": [
       "<Figure size 504x360 with 1 Axes>"
      ]
     },
     "metadata": {
      "needs_background": "light"
     },
     "output_type": "display_data"
    },
    {
     "name": "stdout",
     "output_type": "stream",
     "text": [
      "CPU times: user 1min 15s, sys: 374 ms, total: 1min 15s\n",
      "Wall time: 2min 35s\n"
     ]
    }
   ],
   "source": [
    "%%time\n",
    "f1_auc_roc(\n",
    "    RandomForestClassifier, \n",
    "    parameters_random_forest, \n",
    "    'Случайный лес', \n",
    "    None, \n",
    "    features_downsampled, \n",
    "    target_downsampled,\n",
    "    features_valid,\n",
    "    target_valid\n",
    ")"
   ]
  },
  {
   "cell_type": "markdown",
   "metadata": {},
   "source": [
    "По результатам обучения по алгоритму \"Случайный лес\" на сбалансированной по `Downsampling` выборке получили модель с качеством по метрике `f1-мера` 0.6 и по метрике `AUC-ROC` 0.855. Оба показателя удовлетворяют нашим требованиям."
   ]
  },
  {
   "cell_type": "markdown",
   "metadata": {},
   "source": [
    "#### Логистическая регрессия"
   ]
  },
  {
   "cell_type": "markdown",
   "metadata": {},
   "source": [
    "Аналогично для модель по алгоритму \"Логистическая регрессия\":"
   ]
  },
  {
   "cell_type": "code",
   "execution_count": 34,
   "metadata": {},
   "outputs": [
    {
     "name": "stdout",
     "output_type": "stream",
     "text": [
      "Гиперпараметры лучшей модели: {'max_iter': 100, 'solver': 'newton-cg'}\n",
      "F1-мера для алгоритма \"Логистическая регрессия\": 0.4969053934571176\n",
      "AUC-ROC для алгоритма \"Логистическая регрессия\": 0.7643286900187211\n"
     ]
    },
    {
     "data": {
      "image/png": "[encoded data removed]",
      "text/plain": [
       "<Figure size 504x360 with 1 Axes>"
      ]
     },
     "metadata": {
      "needs_background": "light"
     },
     "output_type": "display_data"
    },
    {
     "name": "stdout",
     "output_type": "stream",
     "text": [
      "CPU times: user 7.72 s, sys: 6.43 s, total: 14.2 s\n",
      "Wall time: 17.6 s\n"
     ]
    }
   ],
   "source": [
    "%%time\n",
    "f1_auc_roc(\n",
    "    LogisticRegression, \n",
    "    parameters_logistic_regression, \n",
    "    'Логистическая регрессия', \n",
    "    None, \n",
    "    features_downsampled, \n",
    "    target_downsampled,\n",
    "    features_valid,\n",
    "    target_valid\n",
    ")"
   ]
  },
  {
   "cell_type": "markdown",
   "metadata": {},
   "source": [
    "По результатам обучения по алгоритму \"Логистическая регрессия\" на сбалансированной по `Downsampling` выборке получить модель со значением `f1-меры` >= 0.59 не удалось."
   ]
  },
  {
   "cell_type": "markdown",
   "metadata": {},
   "source": [
    "### Вывод"
   ]
  },
  {
   "cell_type": "markdown",
   "metadata": {},
   "source": [
    "В рамках данного этапа рассматривался вопрос дисбаланса классов с целью повышения метрик качества моделей.\n",
    "\n",
    "Для борьбы с дисбалансом рассматривались несколько подходов:\n",
    "- Взвешивание классов;\n",
    "- Увеличение выборки (Upsampling);\n",
    "- Уменьшение выборки (Downsampling).\n",
    "\n",
    "Взвешивание классов заключалось в установлении гиперпараметра `class_weight='balanced'` в алгоритмах моделей.  \n",
    "\n",
    "Увеличение выборки (Upsampling) заключалось в выполнении следующих подэтапов:\n",
    "- разделение обучающей выборки на положительные и отрицательные объекты;\n",
    "- копирование положительные объекты несколько раз;\n",
    "- создание новой обучающей выборки;\n",
    "- перемешивании объектов для усложнения обучения алгоритмов.  \n",
    "\n",
    "Уменьшение выборки (Downsampling) заключалось в выполнении схожих с Upsampling подэтапов:\n",
    "- разделение обучающей выборки на положительные и отрицательные объекты;\n",
    "- отбрасывании части отрицательных объектов;\n",
    "- создание новой обучающей выборки;\n",
    "- перемешивании объектов для усложнения обучения алгоритмов.\n",
    "\n",
    "По каждой получившейся сбалансированной по данным подходам обучающей выборке были рассчитаны метрики качества `f1-мера` и `AUC-ROC`, построен график `ROC-кривая`, при условии, что `f1-мера` >= 0.59.\n",
    "\n",
    "Наилучшего результата по метрике `f1-мера` удалось достичь для модели, построенной по алгоритму \"Случайный лес\", с использованием подхода \"Взвешивание классов\". Качество модели по метрике `f1-мера` получилось равным 0.618, по метрике `AUC-ROC` - 0.858. Оба показателя удовлетворяют нашим требованиям.  \n",
    "Данные показатели были достигнуты при следующих гиперпараметрах:\n",
    "- `max_depth` = 10; \n",
    "- `n_estimators` = 80.\n",
    "\n",
    "Кроме того, по многим алгоритмам не удалось достичь показателя `f1-мера` больше или равным 0.59, в связи с ограничением по выбранным гиперпараметрам алгоритмов и их диапазонам. Показатель `f1-мера` больше или равным 0.59 можно было достичь, увеличив количество рассматриваемых гиперпараметров или их диапазоны, но в данном случае модели обучались бы значительно дольше."
   ]
  },
  {
   "cell_type": "markdown",
   "metadata": {},
   "source": [
    "## Тестирование модели"
   ]
  },
  {
   "cell_type": "markdown",
   "metadata": {},
   "source": [
    "Для повышения качества модели в качестве обучающей выборки будем использовать объединенные \"обучающие + валидационные\" выборки features_train_valid и target_train_valid, которые получили при подготовке данных."
   ]
  },
  {
   "cell_type": "markdown",
   "metadata": {},
   "source": [
    "Обучим лучшую модель с использованием подхода \"Взвешивание классов\", найдем метрики качества `f1-мера` и `AUC-ROC`, построим `ROC-кривую` на тестовой выборке:"
   ]
  },
  {
   "cell_type": "code",
   "execution_count": 35,
   "metadata": {},
   "outputs": [
    {
     "name": "stdout",
     "output_type": "stream",
     "text": [
      "Гиперпараметры лучшей модели: {'max_depth': 10, 'n_estimators': 80}\n",
      "F1-мера для алгоритма \"Случайный лес\": 0.6213592233009708\n",
      "AUC-ROC для алгоритма \"Случайный лес\": 0.8618186753779975\n"
     ]
    },
    {
     "data": {
      "image/png": "[encoded data removed]",
      "text/plain": [
       "<Figure size 504x360 with 1 Axes>"
      ]
     },
     "metadata": {
      "needs_background": "light"
     },
     "output_type": "display_data"
    },
    {
     "name": "stdout",
     "output_type": "stream",
     "text": [
      "CPU times: user 2.6 s, sys: 20.1 ms, total: 2.62 s\n",
      "Wall time: 5.21 s\n"
     ]
    }
   ],
   "source": [
    "%%time\n",
    "best_model_parameters = {\n",
    "    'max_depth': [10],\n",
    "    'n_estimators': [80]\n",
    "}\n",
    "\n",
    "f1_auc_roc(\n",
    "    RandomForestClassifier, \n",
    "    best_model_parameters, \n",
    "    'Случайный лес', \n",
    "    'balanced', \n",
    "    features_train_valid, \n",
    "    target_train_valid,\n",
    "    features_test,\n",
    "    target_test\n",
    ")"
   ]
  },
  {
   "cell_type": "markdown",
   "metadata": {},
   "source": [
    "По результатам обучения лучшей модели с использованием алгоритма \"Случайный лес\" и подхода \"Взвешивание классов\" получили качество по метрике `f1-мера` 0.621 и по метрике `AUC-ROC` 0.862, что  удовлетворяют требованиям исследования. Оба показателя на тестовой выборке показали значения выше, чем на валидационной, скорее всего, потому что обучение модели при тестировании осуществлялось на бОльшей выборке, и модель смогла лучше обучиться."
   ]
  },
  {
   "cell_type": "markdown",
   "metadata": {},
   "source": [
    "## Общий вывод"
   ]
  },
  {
   "cell_type": "markdown",
   "metadata": {},
   "source": [
    "В рамках данного проекта была поставлена задача построить модель с предельно большим значением `f1-меры` для прогноза оттока клиентов из банка на основе исторических данных о поведении клиентов и расторжении договоров с банком.\n",
    "\n",
    "Для построения требуемой модели была проведена подготовка данных:\n",
    "- удалена избыточная информация из датасета;\n",
    "- заполнены пропуски в данных;\n",
    "- для работы с моделями классификации преобразованы категориальные признаки в численные с помощью техники `прямого кодирования` - `One-Hot Encoding`;\n",
    "- отмасштабированы признаки с помощью `метода стандартизации данных`;\n",
    "- разделены исходные данные на обучающую, валидационную и тестовую выборки в соотношении 3:1:1.\n",
    "\n",
    "Далее был рассмотрен баланс классов целевого признака. Было выявлено, что положительный класс составляет лишь 20% от выборки, то есть наблюдается сильный дисбаланс классов.\n",
    "\n",
    "В исследовательских целях были обучены модели на несбалансированной выборке и рассчитаны их метрики. В качестве алгоритмов обучения были использованы `Decision Tree`,`Random Forest` и `Logistic Regression`. Поскольку обучение моделей осуществлялось на несбалансированной выборке, для повышения качества моделей для каждого алгоритма был проведен подбор гиперпараметров, и была определена модель с наиболее высоким показателем `f1-меры`.  \n",
    "Наилучший результат был получен моделью, построенной по алгоритму \"Решающее дерево\": на валидационной выборке модель показала значение `f1-меры`, равной 0.595, но на тестовой лишь 0.567, что не удовлетворяет требованиям исследования. \n",
    "\n",
    "На следующем этапе исследования рассматривался вопрос дисбаланса классов с целью повышения метрик качества моделей.\n",
    "\n",
    "Для борьбы с дисбалансом рассматривались несколько подходов:\n",
    "- Взвешивание классов;\n",
    "- Увеличение выборки (Upsampling);\n",
    "- Уменьшение выборки (Downsampling).\n",
    "\n",
    "По каждой получившейся сбалансированной по данным подходам обучающей выборке были рассчитаны метрики качества `f1-мера` и `AUC-ROC`, построен график `ROC-кривая`, при условии, что `f1-мера` >= 0.59.\n",
    "\n",
    "Наилучшего результата по метрике `f1-мера` удалось достичь для модели, построенной по алгоритму \"Случайный лес\", с использованием подхода \"Взвешивание классов\". Качество модели по метрике `f1-мера` получилось равным 0.618, по метрике `AUC-ROC` - 0.858.  \n",
    "Метрики качества были достигнуты при следующих гиперпараметрах:\n",
    "- `max_depth` = 10; \n",
    "- `n_estimators` = 80.\n",
    "\n",
    "Модель с данными гиперпараметрами было решено использовать для тестирования.\n",
    "\n",
    "На заключительном этапе было проведено обучение модели, показавшей наилучший результат, на \"обучающей + валидационной\" выборке, далее была протестирована модель на тестовой выборке. По результатам работы было достигнуто следующее качество:\n",
    "- по метрике `f1-мера`- 0.621, \n",
    "- по метрике `AUC-ROC` - 0.862.\n",
    "\n",
    "Оба показателя удовлетворяют исходным требованиям к модели. Следовательно, данная модель может быть использована для прогноза оттока клиентов из банка."
   ]
  },
  {
   "cell_type": "code",
   "execution_count": null,
   "metadata": {},
   "outputs": [],
   "source": []
  }
 ],
 "metadata": {
  "ExecuteTimeLog": [
   {
    "duration": 1551,
    "start_time": "2022-03-23T18:27:30.549Z"
   },
   {
    "duration": 5,
    "start_time": "2022-03-23T18:28:01.909Z"
   },
   {
    "duration": 30,
    "start_time": "2022-03-23T18:31:22.734Z"
   },
   {
    "duration": 31,
    "start_time": "2022-03-23T18:32:26.870Z"
   },
   {
    "duration": 19,
    "start_time": "2022-03-23T18:34:29.427Z"
   },
   {
    "duration": 12,
    "start_time": "2022-03-23T18:37:04.924Z"
   },
   {
    "duration": 16,
    "start_time": "2022-03-23T18:37:54.474Z"
   },
   {
    "duration": 271,
    "start_time": "2022-03-23T19:05:06.485Z"
   },
   {
    "duration": 101,
    "start_time": "2022-03-23T19:05:17.726Z"
   },
   {
    "duration": 32,
    "start_time": "2022-03-23T19:53:56.236Z"
   },
   {
    "duration": 21,
    "start_time": "2022-03-23T19:53:57.873Z"
   },
   {
    "duration": 26,
    "start_time": "2022-03-23T19:54:13.802Z"
   },
   {
    "duration": 21,
    "start_time": "2022-03-23T19:54:16.917Z"
   },
   {
    "duration": 19,
    "start_time": "2022-03-23T20:45:15.115Z"
   },
   {
    "duration": 6,
    "start_time": "2022-03-23T20:49:56.763Z"
   },
   {
    "duration": 143,
    "start_time": "2022-03-23T20:50:20.813Z"
   },
   {
    "duration": 8,
    "start_time": "2022-03-23T20:50:26.813Z"
   },
   {
    "duration": 16,
    "start_time": "2022-03-23T20:50:44.432Z"
   },
   {
    "duration": 23,
    "start_time": "2022-03-23T20:50:56.296Z"
   },
   {
    "duration": 27,
    "start_time": "2022-03-23T21:05:25.141Z"
   },
   {
    "duration": 26,
    "start_time": "2022-03-23T21:05:29.877Z"
   },
   {
    "duration": 5,
    "start_time": "2022-03-23T21:39:13.471Z"
   },
   {
    "duration": 5,
    "start_time": "2022-03-23T21:39:23.935Z"
   },
   {
    "duration": 25,
    "start_time": "2022-03-23T21:39:24.011Z"
   },
   {
    "duration": 19,
    "start_time": "2022-03-23T21:39:24.096Z"
   },
   {
    "duration": 18,
    "start_time": "2022-03-23T21:39:24.222Z"
   },
   {
    "duration": 10,
    "start_time": "2022-03-23T21:39:24.299Z"
   },
   {
    "duration": 16,
    "start_time": "2022-03-23T21:39:24.312Z"
   },
   {
    "duration": 18,
    "start_time": "2022-03-23T21:39:24.384Z"
   },
   {
    "duration": 8,
    "start_time": "2022-03-23T21:39:24.451Z"
   },
   {
    "duration": 27,
    "start_time": "2022-03-23T21:39:24.518Z"
   },
   {
    "duration": 7,
    "start_time": "2022-03-23T21:48:21.956Z"
   },
   {
    "duration": 43,
    "start_time": "2022-03-23T21:54:31.641Z"
   },
   {
    "duration": 6,
    "start_time": "2022-03-23T22:06:50.875Z"
   },
   {
    "duration": 12,
    "start_time": "2022-03-23T22:14:39.187Z"
   },
   {
    "duration": 12,
    "start_time": "2022-03-23T22:17:40.264Z"
   },
   {
    "duration": 14,
    "start_time": "2022-03-23T22:18:24.203Z"
   },
   {
    "duration": 14,
    "start_time": "2022-03-23T22:18:41.385Z"
   },
   {
    "duration": 5,
    "start_time": "2022-03-23T22:21:34.661Z"
   },
   {
    "duration": 30,
    "start_time": "2022-03-23T22:21:34.669Z"
   },
   {
    "duration": 19,
    "start_time": "2022-03-23T22:21:34.701Z"
   },
   {
    "duration": 43,
    "start_time": "2022-03-23T22:21:34.724Z"
   },
   {
    "duration": 13,
    "start_time": "2022-03-23T22:21:34.770Z"
   },
   {
    "duration": 16,
    "start_time": "2022-03-23T22:21:34.786Z"
   },
   {
    "duration": 20,
    "start_time": "2022-03-23T22:21:34.804Z"
   },
   {
    "duration": 11,
    "start_time": "2022-03-23T22:21:34.868Z"
   },
   {
    "duration": 28,
    "start_time": "2022-03-23T22:21:34.882Z"
   },
   {
    "duration": 74,
    "start_time": "2022-03-23T22:21:34.912Z"
   },
   {
    "duration": 7,
    "start_time": "2022-03-23T22:21:34.988Z"
   },
   {
    "duration": 15,
    "start_time": "2022-03-23T22:21:34.997Z"
   },
   {
    "duration": 1461,
    "start_time": "2022-03-24T18:22:25.611Z"
   },
   {
    "duration": 32,
    "start_time": "2022-03-24T18:22:27.075Z"
   },
   {
    "duration": 86,
    "start_time": "2022-03-24T18:22:27.109Z"
   },
   {
    "duration": 30,
    "start_time": "2022-03-24T18:22:27.198Z"
   },
   {
    "duration": 26,
    "start_time": "2022-03-24T18:22:27.230Z"
   },
   {
    "duration": 39,
    "start_time": "2022-03-24T18:22:27.258Z"
   },
   {
    "duration": 26,
    "start_time": "2022-03-24T18:22:27.299Z"
   },
   {
    "duration": 26,
    "start_time": "2022-03-24T18:22:27.327Z"
   },
   {
    "duration": 23,
    "start_time": "2022-03-24T18:22:27.355Z"
   },
   {
    "duration": 42,
    "start_time": "2022-03-24T18:22:27.381Z"
   },
   {
    "duration": 5,
    "start_time": "2022-03-24T18:22:27.425Z"
   },
   {
    "duration": 27,
    "start_time": "2022-03-24T18:22:27.433Z"
   },
   {
    "duration": 11,
    "start_time": "2022-03-24T18:23:22.449Z"
   },
   {
    "duration": 8,
    "start_time": "2022-03-24T18:23:48.555Z"
   },
   {
    "duration": 7,
    "start_time": "2022-03-24T18:24:06.387Z"
   },
   {
    "duration": 6,
    "start_time": "2022-03-24T18:24:08.696Z"
   },
   {
    "duration": 4,
    "start_time": "2022-03-24T18:47:28.263Z"
   },
   {
    "duration": 26,
    "start_time": "2022-03-24T18:47:28.273Z"
   },
   {
    "duration": 13,
    "start_time": "2022-03-24T18:47:28.302Z"
   },
   {
    "duration": 19,
    "start_time": "2022-03-24T18:47:28.317Z"
   },
   {
    "duration": 8,
    "start_time": "2022-03-24T18:47:28.338Z"
   },
   {
    "duration": 14,
    "start_time": "2022-03-24T18:47:28.348Z"
   },
   {
    "duration": 46,
    "start_time": "2022-03-24T18:47:28.364Z"
   },
   {
    "duration": 17,
    "start_time": "2022-03-24T18:47:28.412Z"
   },
   {
    "duration": 23,
    "start_time": "2022-03-24T18:47:28.432Z"
   },
   {
    "duration": 47,
    "start_time": "2022-03-24T18:47:28.458Z"
   },
   {
    "duration": 5,
    "start_time": "2022-03-24T18:47:28.507Z"
   },
   {
    "duration": 13,
    "start_time": "2022-03-24T18:47:28.514Z"
   },
   {
    "duration": 7,
    "start_time": "2022-03-24T18:47:28.529Z"
   },
   {
    "duration": 223,
    "start_time": "2022-03-24T18:47:28.538Z"
   },
   {
    "duration": 6,
    "start_time": "2022-03-24T18:47:28.764Z"
   },
   {
    "duration": 12,
    "start_time": "2022-03-24T18:47:28.772Z"
   },
   {
    "duration": 10,
    "start_time": "2022-03-24T18:47:28.786Z"
   },
   {
    "duration": 60505,
    "start_time": "2022-03-24T18:47:52.134Z"
   },
   {
    "duration": 16,
    "start_time": "2022-03-24T18:49:00.966Z"
   },
   {
    "duration": 11,
    "start_time": "2022-03-24T18:49:07.152Z"
   },
   {
    "duration": 314807,
    "start_time": "2022-03-24T18:55:25.098Z"
   },
   {
    "duration": 12,
    "start_time": "2022-03-24T19:01:14.148Z"
   },
   {
    "duration": 2171,
    "start_time": "2022-03-24T19:02:24.655Z"
   },
   {
    "duration": 12,
    "start_time": "2022-03-24T19:02:49.505Z"
   },
   {
    "duration": 4,
    "start_time": "2022-03-24T19:06:34.607Z"
   },
   {
    "duration": 1622,
    "start_time": "2022-03-24T19:07:34.483Z"
   },
   {
    "duration": 9,
    "start_time": "2022-03-24T19:07:39.488Z"
   },
   {
    "duration": 62942,
    "start_time": "2022-03-24T19:09:51.802Z"
   },
   {
    "duration": 11,
    "start_time": "2022-03-24T19:10:57.845Z"
   },
   {
    "duration": 327765,
    "start_time": "2022-03-24T19:11:33.290Z"
   },
   {
    "duration": 11,
    "start_time": "2022-03-24T19:17:11.339Z"
   },
   {
    "duration": 14,
    "start_time": "2022-03-24T19:19:26.830Z"
   },
   {
    "duration": 3,
    "start_time": "2022-03-24T19:21:17.422Z"
   },
   {
    "duration": 12,
    "start_time": "2022-03-24T19:21:21.685Z"
   },
   {
    "duration": 27,
    "start_time": "2022-03-24T19:22:16.401Z"
   },
   {
    "duration": 3,
    "start_time": "2022-03-24T19:52:25.362Z"
   },
   {
    "duration": 32,
    "start_time": "2022-03-24T19:52:25.393Z"
   },
   {
    "duration": 14,
    "start_time": "2022-03-24T19:52:25.427Z"
   },
   {
    "duration": 16,
    "start_time": "2022-03-24T19:52:25.443Z"
   },
   {
    "duration": 9,
    "start_time": "2022-03-24T19:52:25.461Z"
   },
   {
    "duration": 37,
    "start_time": "2022-03-24T19:52:25.472Z"
   },
   {
    "duration": 14,
    "start_time": "2022-03-24T19:52:25.511Z"
   },
   {
    "duration": 8,
    "start_time": "2022-03-24T19:52:25.526Z"
   },
   {
    "duration": 19,
    "start_time": "2022-03-24T19:52:25.536Z"
   },
   {
    "duration": 60,
    "start_time": "2022-03-24T19:52:25.556Z"
   },
   {
    "duration": 5,
    "start_time": "2022-03-24T19:52:25.618Z"
   },
   {
    "duration": 59,
    "start_time": "2022-03-24T19:52:25.626Z"
   },
   {
    "duration": 8,
    "start_time": "2022-03-24T19:52:25.687Z"
   },
   {
    "duration": 61244,
    "start_time": "2022-03-24T19:52:25.697Z"
   },
   {
    "duration": 11,
    "start_time": "2022-03-24T19:53:26.942Z"
   },
   {
    "duration": 46,
    "start_time": "2022-03-24T19:53:26.955Z"
   },
   {
    "duration": 294726,
    "start_time": "2022-03-24T19:53:27.003Z"
   },
   {
    "duration": 11,
    "start_time": "2022-03-24T19:58:21.731Z"
   },
   {
    "duration": 1359,
    "start_time": "2022-03-24T19:58:21.743Z"
   },
   {
    "duration": 101,
    "start_time": "2022-03-24T19:58:23.105Z"
   },
   {
    "duration": 3,
    "start_time": "2022-03-24T20:22:01.173Z"
   },
   {
    "duration": 29,
    "start_time": "2022-03-24T20:22:01.187Z"
   },
   {
    "duration": 15,
    "start_time": "2022-03-24T20:22:01.219Z"
   },
   {
    "duration": 19,
    "start_time": "2022-03-24T20:22:01.237Z"
   },
   {
    "duration": 10,
    "start_time": "2022-03-24T20:22:01.258Z"
   },
   {
    "duration": 42,
    "start_time": "2022-03-24T20:22:01.269Z"
   },
   {
    "duration": 15,
    "start_time": "2022-03-24T20:22:01.313Z"
   },
   {
    "duration": 22,
    "start_time": "2022-03-24T20:22:01.329Z"
   },
   {
    "duration": 35,
    "start_time": "2022-03-24T20:22:01.353Z"
   },
   {
    "duration": 48,
    "start_time": "2022-03-24T20:22:01.390Z"
   },
   {
    "duration": 5,
    "start_time": "2022-03-24T20:22:01.441Z"
   },
   {
    "duration": 19,
    "start_time": "2022-03-24T20:22:01.448Z"
   },
   {
    "duration": 15,
    "start_time": "2022-03-24T20:22:01.469Z"
   },
   {
    "duration": 60803,
    "start_time": "2022-03-24T20:22:01.486Z"
   },
   {
    "duration": 16,
    "start_time": "2022-03-24T20:23:02.291Z"
   },
   {
    "duration": 30,
    "start_time": "2022-03-24T20:23:02.310Z"
   },
   {
    "duration": 291807,
    "start_time": "2022-03-24T20:23:02.343Z"
   },
   {
    "duration": 11,
    "start_time": "2022-03-24T20:27:54.152Z"
   },
   {
    "duration": 958,
    "start_time": "2022-03-24T20:27:54.166Z"
   },
   {
    "duration": 83,
    "start_time": "2022-03-24T20:27:55.126Z"
   },
   {
    "duration": 3,
    "start_time": "2022-03-24T21:12:22.738Z"
   },
   {
    "duration": 36,
    "start_time": "2022-03-24T21:33:03.380Z"
   },
   {
    "duration": 36,
    "start_time": "2022-03-24T21:33:16.128Z"
   },
   {
    "duration": 44,
    "start_time": "2022-03-24T21:33:22.874Z"
   },
   {
    "duration": 4,
    "start_time": "2022-03-24T21:33:54.929Z"
   },
   {
    "duration": 44,
    "start_time": "2022-03-24T21:33:58.445Z"
   },
   {
    "duration": 490,
    "start_time": "2022-03-24T21:34:23.287Z"
   },
   {
    "duration": 159,
    "start_time": "2022-03-24T21:34:27.142Z"
   },
   {
    "duration": 153,
    "start_time": "2022-03-24T21:35:15.949Z"
   },
   {
    "duration": 154,
    "start_time": "2022-03-24T21:35:53.978Z"
   },
   {
    "duration": 148,
    "start_time": "2022-03-24T21:37:28.038Z"
   },
   {
    "duration": 153,
    "start_time": "2022-03-24T21:38:15.763Z"
   },
   {
    "duration": 151,
    "start_time": "2022-03-24T21:38:22.295Z"
   },
   {
    "duration": 6,
    "start_time": "2022-03-24T21:45:37.283Z"
   },
   {
    "duration": 24,
    "start_time": "2022-03-24T21:46:09.617Z"
   },
   {
    "duration": 6,
    "start_time": "2022-03-24T21:46:40.703Z"
   },
   {
    "duration": 27,
    "start_time": "2022-03-24T21:46:42.012Z"
   },
   {
    "duration": 124,
    "start_time": "2022-03-24T21:47:04.546Z"
   },
   {
    "duration": 6,
    "start_time": "2022-03-24T21:47:24.895Z"
   },
   {
    "duration": 6,
    "start_time": "2022-03-24T21:47:38.023Z"
   },
   {
    "duration": 30,
    "start_time": "2022-03-24T21:47:39.673Z"
   },
   {
    "duration": 5,
    "start_time": "2022-03-24T21:48:46.558Z"
   },
   {
    "duration": 144,
    "start_time": "2022-03-24T21:48:48.016Z"
   },
   {
    "duration": 6,
    "start_time": "2022-03-24T21:51:24.046Z"
   },
   {
    "duration": 150,
    "start_time": "2022-03-24T21:51:26.110Z"
   },
   {
    "duration": 6,
    "start_time": "2022-03-24T21:53:38.481Z"
   },
   {
    "duration": 228,
    "start_time": "2022-03-24T21:53:40.619Z"
   },
   {
    "duration": 5,
    "start_time": "2022-03-24T21:53:59.428Z"
   },
   {
    "duration": 151,
    "start_time": "2022-03-24T21:54:01.251Z"
   },
   {
    "duration": 3,
    "start_time": "2022-03-24T21:57:38.186Z"
   },
   {
    "duration": 5,
    "start_time": "2022-03-24T21:58:12.963Z"
   },
   {
    "duration": 99,
    "start_time": "2022-03-24T21:58:14.721Z"
   },
   {
    "duration": 150,
    "start_time": "2022-03-24T21:58:25.526Z"
   },
   {
    "duration": 155,
    "start_time": "2022-03-24T21:58:35.711Z"
   },
   {
    "duration": 7,
    "start_time": "2022-03-24T21:59:20.892Z"
   },
   {
    "duration": 7,
    "start_time": "2022-03-24T21:59:24.558Z"
   },
   {
    "duration": 140,
    "start_time": "2022-03-24T21:59:27.330Z"
   },
   {
    "duration": 6,
    "start_time": "2022-03-24T21:59:41.929Z"
   },
   {
    "duration": 141,
    "start_time": "2022-03-24T21:59:43.887Z"
   },
   {
    "duration": 111,
    "start_time": "2022-03-24T21:59:50.918Z"
   },
   {
    "duration": 6,
    "start_time": "2022-03-24T22:00:01.073Z"
   },
   {
    "duration": 167,
    "start_time": "2022-03-24T22:00:03.701Z"
   },
   {
    "duration": 5,
    "start_time": "2022-03-24T22:00:18.530Z"
   },
   {
    "duration": 144,
    "start_time": "2022-03-24T22:00:20.942Z"
   },
   {
    "duration": 7,
    "start_time": "2022-03-24T22:00:33.062Z"
   },
   {
    "duration": 141,
    "start_time": "2022-03-24T22:00:36.078Z"
   },
   {
    "duration": 6,
    "start_time": "2022-03-24T22:01:02.249Z"
   },
   {
    "duration": 150,
    "start_time": "2022-03-24T22:01:04.763Z"
   },
   {
    "duration": 102,
    "start_time": "2022-03-24T22:01:21.323Z"
   },
   {
    "duration": 6,
    "start_time": "2022-03-24T22:01:58.021Z"
   },
   {
    "duration": 148,
    "start_time": "2022-03-24T22:02:00.066Z"
   },
   {
    "duration": 4,
    "start_time": "2022-03-24T22:02:21.958Z"
   },
   {
    "duration": 47,
    "start_time": "2022-03-24T22:02:21.965Z"
   },
   {
    "duration": 15,
    "start_time": "2022-03-24T22:02:22.014Z"
   },
   {
    "duration": 25,
    "start_time": "2022-03-24T22:02:22.031Z"
   },
   {
    "duration": 13,
    "start_time": "2022-03-24T22:02:22.060Z"
   },
   {
    "duration": 28,
    "start_time": "2022-03-24T22:02:22.076Z"
   },
   {
    "duration": 15,
    "start_time": "2022-03-24T22:02:22.119Z"
   },
   {
    "duration": 15,
    "start_time": "2022-03-24T22:02:22.136Z"
   },
   {
    "duration": 24,
    "start_time": "2022-03-24T22:02:22.153Z"
   },
   {
    "duration": 43,
    "start_time": "2022-03-24T22:02:22.179Z"
   },
   {
    "duration": 6,
    "start_time": "2022-03-24T22:02:22.225Z"
   },
   {
    "duration": 17,
    "start_time": "2022-03-24T22:02:22.233Z"
   },
   {
    "duration": 8,
    "start_time": "2022-03-24T22:02:22.253Z"
   },
   {
    "duration": 62322,
    "start_time": "2022-03-24T22:02:22.263Z"
   },
   {
    "duration": 19,
    "start_time": "2022-03-24T22:03:24.586Z"
   },
   {
    "duration": 27,
    "start_time": "2022-03-24T22:03:24.607Z"
   },
   {
    "duration": 287266,
    "start_time": "2022-03-24T22:03:24.636Z"
   },
   {
    "duration": 10,
    "start_time": "2022-03-24T22:08:11.905Z"
   },
   {
    "duration": 1385,
    "start_time": "2022-03-24T22:08:11.917Z"
   },
   {
    "duration": 101,
    "start_time": "2022-03-24T22:08:13.305Z"
   },
   {
    "duration": 6,
    "start_time": "2022-03-24T22:08:25.879Z"
   },
   {
    "duration": 232,
    "start_time": "2022-03-24T22:08:29.819Z"
   },
   {
    "duration": 158,
    "start_time": "2022-03-24T22:09:12.146Z"
   },
   {
    "duration": 5,
    "start_time": "2022-03-24T22:09:39.308Z"
   },
   {
    "duration": 153,
    "start_time": "2022-03-24T22:09:41.382Z"
   },
   {
    "duration": 5,
    "start_time": "2022-03-24T22:09:50.962Z"
   },
   {
    "duration": 162,
    "start_time": "2022-03-24T22:09:53.295Z"
   },
   {
    "duration": 145,
    "start_time": "2022-03-24T22:10:59.701Z"
   },
   {
    "duration": 724,
    "start_time": "2022-03-24T22:11:10.791Z"
   },
   {
    "duration": 6,
    "start_time": "2022-03-24T22:26:39.304Z"
   },
   {
    "duration": 141,
    "start_time": "2022-03-24T22:30:18.834Z"
   },
   {
    "duration": 144,
    "start_time": "2022-03-24T22:30:47.974Z"
   },
   {
    "duration": 110,
    "start_time": "2022-03-24T22:31:02.942Z"
   },
   {
    "duration": 20,
    "start_time": "2022-03-24T22:31:25.393Z"
   },
   {
    "duration": 20,
    "start_time": "2022-03-24T22:31:35.516Z"
   },
   {
    "duration": 6,
    "start_time": "2022-03-24T22:32:47.579Z"
   },
   {
    "duration": 15,
    "start_time": "2022-03-24T22:32:52.514Z"
   },
   {
    "duration": 6,
    "start_time": "2022-03-24T22:33:26.747Z"
   },
   {
    "duration": 1626,
    "start_time": "2022-03-24T22:39:18.097Z"
   },
   {
    "duration": 31,
    "start_time": "2022-03-24T22:39:19.725Z"
   },
   {
    "duration": 20,
    "start_time": "2022-03-24T22:39:19.759Z"
   },
   {
    "duration": 30,
    "start_time": "2022-03-24T22:39:19.782Z"
   },
   {
    "duration": 11,
    "start_time": "2022-03-24T22:39:19.816Z"
   },
   {
    "duration": 19,
    "start_time": "2022-03-24T22:39:19.829Z"
   },
   {
    "duration": 16,
    "start_time": "2022-03-24T22:39:19.849Z"
   },
   {
    "duration": 37,
    "start_time": "2022-03-24T22:39:19.867Z"
   },
   {
    "duration": 23,
    "start_time": "2022-03-24T22:39:19.906Z"
   },
   {
    "duration": 33,
    "start_time": "2022-03-24T22:39:19.933Z"
   },
   {
    "duration": 36,
    "start_time": "2022-03-24T22:39:19.968Z"
   },
   {
    "duration": 16,
    "start_time": "2022-03-24T22:39:20.007Z"
   },
   {
    "duration": 13,
    "start_time": "2022-03-24T22:39:20.026Z"
   },
   {
    "duration": 59502,
    "start_time": "2022-03-24T22:39:20.041Z"
   },
   {
    "duration": 11,
    "start_time": "2022-03-24T22:40:19.544Z"
   },
   {
    "duration": 44,
    "start_time": "2022-03-24T22:40:19.557Z"
   },
   {
    "duration": 284440,
    "start_time": "2022-03-24T22:40:19.603Z"
   },
   {
    "duration": 10,
    "start_time": "2022-03-24T22:45:04.045Z"
   },
   {
    "duration": 1266,
    "start_time": "2022-03-24T22:45:04.057Z"
   },
   {
    "duration": 101,
    "start_time": "2022-03-24T22:45:05.402Z"
   },
   {
    "duration": 6,
    "start_time": "2022-03-24T22:45:05.505Z"
   },
   {
    "duration": 18,
    "start_time": "2022-03-24T22:45:05.513Z"
   },
   {
    "duration": 124,
    "start_time": "2022-03-24T22:45:05.533Z"
   },
   {
    "duration": 0,
    "start_time": "2022-03-24T22:45:05.659Z"
   },
   {
    "duration": 0,
    "start_time": "2022-03-24T22:45:05.660Z"
   },
   {
    "duration": 0,
    "start_time": "2022-03-24T22:45:05.661Z"
   },
   {
    "duration": 6,
    "start_time": "2022-03-24T22:45:55.496Z"
   },
   {
    "duration": 352,
    "start_time": "2022-03-24T22:45:57.872Z"
   },
   {
    "duration": 4,
    "start_time": "2022-03-24T22:51:19.879Z"
   },
   {
    "duration": 19,
    "start_time": "2022-03-24T22:51:30.860Z"
   },
   {
    "duration": 4,
    "start_time": "2022-03-24T22:52:33.384Z"
   },
   {
    "duration": 15,
    "start_time": "2022-03-24T22:52:40.749Z"
   },
   {
    "duration": 14,
    "start_time": "2022-03-24T22:52:59.216Z"
   },
   {
    "duration": 5,
    "start_time": "2022-03-24T22:58:46.693Z"
   },
   {
    "duration": 17,
    "start_time": "2022-03-24T22:58:47.791Z"
   },
   {
    "duration": 13,
    "start_time": "2022-03-24T22:58:58.262Z"
   },
   {
    "duration": 4,
    "start_time": "2022-03-24T23:02:58.884Z"
   },
   {
    "duration": 14,
    "start_time": "2022-03-24T23:03:00.526Z"
   },
   {
    "duration": 5,
    "start_time": "2022-03-24T23:06:53.256Z"
   },
   {
    "duration": 10,
    "start_time": "2022-03-24T23:06:56.277Z"
   },
   {
    "duration": 11,
    "start_time": "2022-03-24T23:07:10.135Z"
   },
   {
    "duration": 5,
    "start_time": "2022-03-24T23:07:43.842Z"
   },
   {
    "duration": 10,
    "start_time": "2022-03-24T23:07:46.195Z"
   },
   {
    "duration": 4,
    "start_time": "2022-03-24T23:08:11.824Z"
   },
   {
    "duration": 10,
    "start_time": "2022-03-24T23:08:14.228Z"
   },
   {
    "duration": 11,
    "start_time": "2022-03-24T23:08:32.680Z"
   },
   {
    "duration": 4,
    "start_time": "2022-03-24T23:09:47.642Z"
   },
   {
    "duration": 13,
    "start_time": "2022-03-24T23:09:56.176Z"
   },
   {
    "duration": 5,
    "start_time": "2022-03-24T23:11:48.860Z"
   },
   {
    "duration": 17,
    "start_time": "2022-03-24T23:11:50.591Z"
   },
   {
    "duration": 4,
    "start_time": "2022-03-24T23:12:23.023Z"
   },
   {
    "duration": 4,
    "start_time": "2022-03-24T23:12:27.911Z"
   },
   {
    "duration": 11,
    "start_time": "2022-03-24T23:12:29.567Z"
   },
   {
    "duration": 4,
    "start_time": "2022-03-24T23:13:15.129Z"
   },
   {
    "duration": 14,
    "start_time": "2022-03-24T23:13:16.837Z"
   },
   {
    "duration": 4,
    "start_time": "2022-03-24T23:13:21.453Z"
   },
   {
    "duration": 12,
    "start_time": "2022-03-24T23:13:23.501Z"
   },
   {
    "duration": 6,
    "start_time": "2022-03-24T23:14:28.844Z"
   },
   {
    "duration": 16,
    "start_time": "2022-03-24T23:14:30.993Z"
   },
   {
    "duration": 12,
    "start_time": "2022-03-24T23:14:40.831Z"
   },
   {
    "duration": 12,
    "start_time": "2022-03-24T23:14:59.845Z"
   },
   {
    "duration": 5,
    "start_time": "2022-03-24T23:15:00.418Z"
   },
   {
    "duration": 13,
    "start_time": "2022-03-24T23:15:04.296Z"
   },
   {
    "duration": 4,
    "start_time": "2022-03-24T23:15:19.725Z"
   },
   {
    "duration": 13,
    "start_time": "2022-03-24T23:15:21.346Z"
   },
   {
    "duration": 7,
    "start_time": "2022-03-24T23:19:22.604Z"
   },
   {
    "duration": 95,
    "start_time": "2022-03-24T23:20:33.064Z"
   },
   {
    "duration": 1570,
    "start_time": "2022-03-24T23:21:00.078Z"
   },
   {
    "duration": 1518,
    "start_time": "2022-03-24T23:21:21.777Z"
   },
   {
    "duration": 6,
    "start_time": "2022-03-24T23:22:04.316Z"
   },
   {
    "duration": 4,
    "start_time": "2022-03-24T23:22:34.861Z"
   },
   {
    "duration": 4,
    "start_time": "2022-03-24T23:22:53.714Z"
   },
   {
    "duration": 32,
    "start_time": "2022-03-24T23:22:53.720Z"
   },
   {
    "duration": 13,
    "start_time": "2022-03-24T23:22:53.754Z"
   },
   {
    "duration": 17,
    "start_time": "2022-03-24T23:22:53.769Z"
   },
   {
    "duration": 17,
    "start_time": "2022-03-24T23:22:53.788Z"
   },
   {
    "duration": 12,
    "start_time": "2022-03-24T23:22:53.807Z"
   },
   {
    "duration": 14,
    "start_time": "2022-03-24T23:22:53.821Z"
   },
   {
    "duration": 8,
    "start_time": "2022-03-24T23:22:53.837Z"
   },
   {
    "duration": 54,
    "start_time": "2022-03-24T23:22:53.848Z"
   },
   {
    "duration": 33,
    "start_time": "2022-03-24T23:22:53.904Z"
   },
   {
    "duration": 5,
    "start_time": "2022-03-24T23:22:53.941Z"
   },
   {
    "duration": 12,
    "start_time": "2022-03-24T23:22:53.948Z"
   },
   {
    "duration": 38,
    "start_time": "2022-03-24T23:22:53.963Z"
   },
   {
    "duration": 59938,
    "start_time": "2022-03-24T23:22:54.003Z"
   },
   {
    "duration": 11,
    "start_time": "2022-03-24T23:23:53.943Z"
   },
   {
    "duration": 45,
    "start_time": "2022-03-24T23:23:53.956Z"
   },
   {
    "duration": 286771,
    "start_time": "2022-03-24T23:23:54.003Z"
   },
   {
    "duration": 25,
    "start_time": "2022-03-24T23:28:40.776Z"
   },
   {
    "duration": 1300,
    "start_time": "2022-03-24T23:28:40.803Z"
   },
   {
    "duration": 98,
    "start_time": "2022-03-24T23:28:42.105Z"
   },
   {
    "duration": 8,
    "start_time": "2022-03-24T23:28:42.205Z"
   },
   {
    "duration": 7,
    "start_time": "2022-03-24T23:28:42.215Z"
   },
   {
    "duration": 1578,
    "start_time": "2022-03-24T23:28:42.224Z"
   },
   {
    "duration": 7,
    "start_time": "2022-03-24T23:35:09.157Z"
   },
   {
    "duration": 1535,
    "start_time": "2022-03-24T23:35:12.716Z"
   },
   {
    "duration": 6,
    "start_time": "2022-03-24T23:36:19.338Z"
   },
   {
    "duration": 1558,
    "start_time": "2022-03-24T23:36:22.719Z"
   },
   {
    "duration": 90,
    "start_time": "2022-03-24T23:36:44.600Z"
   },
   {
    "duration": 304,
    "start_time": "2022-03-24T23:36:55.162Z"
   },
   {
    "duration": 1597,
    "start_time": "2022-03-24T23:37:01.440Z"
   },
   {
    "duration": 4407,
    "start_time": "2022-03-24T23:37:09.662Z"
   },
   {
    "duration": 1527,
    "start_time": "2022-03-24T23:37:21.382Z"
   },
   {
    "duration": 4203,
    "start_time": "2022-03-24T23:37:27.479Z"
   },
   {
    "duration": 659,
    "start_time": "2022-03-24T23:37:35.261Z"
   },
   {
    "duration": 947,
    "start_time": "2022-03-24T23:37:39.821Z"
   },
   {
    "duration": 722,
    "start_time": "2022-03-24T23:37:43.918Z"
   },
   {
    "duration": 890,
    "start_time": "2022-03-24T23:37:48.472Z"
   },
   {
    "duration": 1133,
    "start_time": "2022-03-24T23:37:54.299Z"
   },
   {
    "duration": 1539,
    "start_time": "2022-03-24T23:37:58.579Z"
   },
   {
    "duration": 7,
    "start_time": "2022-03-24T23:39:10.168Z"
   },
   {
    "duration": 1521,
    "start_time": "2022-03-24T23:39:13.527Z"
   },
   {
    "duration": 1556,
    "start_time": "2022-03-25T07:49:21.315Z"
   },
   {
    "duration": 29,
    "start_time": "2022-03-25T07:49:22.873Z"
   },
   {
    "duration": 16,
    "start_time": "2022-03-25T07:49:22.903Z"
   },
   {
    "duration": 19,
    "start_time": "2022-03-25T07:49:22.920Z"
   },
   {
    "duration": 20,
    "start_time": "2022-03-25T07:49:22.941Z"
   },
   {
    "duration": 32,
    "start_time": "2022-03-25T07:49:22.962Z"
   },
   {
    "duration": 29,
    "start_time": "2022-03-25T07:49:22.996Z"
   },
   {
    "duration": 29,
    "start_time": "2022-03-25T07:49:23.026Z"
   },
   {
    "duration": 34,
    "start_time": "2022-03-25T07:49:23.057Z"
   },
   {
    "duration": 33,
    "start_time": "2022-03-25T07:49:23.093Z"
   },
   {
    "duration": 5,
    "start_time": "2022-03-25T07:49:23.127Z"
   },
   {
    "duration": 39,
    "start_time": "2022-03-25T07:49:23.133Z"
   },
   {
    "duration": 23,
    "start_time": "2022-03-25T07:49:23.174Z"
   },
   {
    "duration": 56271,
    "start_time": "2022-03-25T07:49:23.199Z"
   },
   {
    "duration": 10,
    "start_time": "2022-03-25T07:50:19.472Z"
   },
   {
    "duration": 24,
    "start_time": "2022-03-25T07:50:19.484Z"
   },
   {
    "duration": 305960,
    "start_time": "2022-03-25T07:50:19.509Z"
   },
   {
    "duration": 13,
    "start_time": "2022-03-25T07:55:25.471Z"
   },
   {
    "duration": 1172,
    "start_time": "2022-03-25T07:55:25.486Z"
   },
   {
    "duration": 76,
    "start_time": "2022-03-25T07:55:26.660Z"
   },
   {
    "duration": 8,
    "start_time": "2022-03-25T07:55:34.239Z"
   },
   {
    "duration": 1469,
    "start_time": "2022-03-25T07:55:37.731Z"
   },
   {
    "duration": 7,
    "start_time": "2022-03-25T07:58:09.470Z"
   },
   {
    "duration": 2102,
    "start_time": "2022-03-25T07:58:18.604Z"
   },
   {
    "duration": 8,
    "start_time": "2022-03-25T07:59:03.967Z"
   },
   {
    "duration": 2029,
    "start_time": "2022-03-25T07:59:07.235Z"
   },
   {
    "duration": 9,
    "start_time": "2022-03-25T07:59:32.884Z"
   },
   {
    "duration": 2126,
    "start_time": "2022-03-25T07:59:36.009Z"
   },
   {
    "duration": 9,
    "start_time": "2022-03-25T08:02:18.005Z"
   },
   {
    "duration": 2121,
    "start_time": "2022-03-25T08:02:20.623Z"
   },
   {
    "duration": 2115,
    "start_time": "2022-03-25T08:03:30.958Z"
   },
   {
    "duration": 8,
    "start_time": "2022-03-25T08:05:36.392Z"
   },
   {
    "duration": 230007,
    "start_time": "2022-03-25T08:05:46.196Z"
   },
   {
    "duration": 3,
    "start_time": "2022-03-25T08:09:36.205Z"
   },
   {
    "duration": 7,
    "start_time": "2022-03-25T08:11:05.382Z"
   },
   {
    "duration": 216113,
    "start_time": "2022-03-25T08:11:10.010Z"
   },
   {
    "duration": 6,
    "start_time": "2022-03-25T08:20:39.286Z"
   },
   {
    "duration": 216621,
    "start_time": "2022-03-25T08:20:43.757Z"
   },
   {
    "duration": 6,
    "start_time": "2022-03-25T08:24:36.618Z"
   },
   {
    "duration": 221866,
    "start_time": "2022-03-25T08:24:39.660Z"
   },
   {
    "duration": 2,
    "start_time": "2022-03-25T08:28:21.533Z"
   },
   {
    "duration": 6,
    "start_time": "2022-03-25T08:28:37.254Z"
   },
   {
    "duration": 215663,
    "start_time": "2022-03-25T08:28:40.018Z"
   },
   {
    "duration": 968,
    "start_time": "2022-03-25T08:38:51.433Z"
   },
   {
    "duration": 9,
    "start_time": "2022-03-25T08:39:00.567Z"
   },
   {
    "duration": 219059,
    "start_time": "2022-03-25T08:39:02.759Z"
   },
   {
    "duration": 6,
    "start_time": "2022-03-25T08:43:44.130Z"
   },
   {
    "duration": 47781,
    "start_time": "2022-03-25T08:43:56.125Z"
   },
   {
    "duration": 6,
    "start_time": "2022-03-25T08:49:54.483Z"
   },
   {
    "duration": 49867,
    "start_time": "2022-03-25T08:49:58.012Z"
   },
   {
    "duration": 49279,
    "start_time": "2022-03-25T08:53:54.856Z"
   },
   {
    "duration": 7,
    "start_time": "2022-03-25T08:54:44.138Z"
   },
   {
    "duration": 7,
    "start_time": "2022-03-25T08:54:49.941Z"
   },
   {
    "duration": 48577,
    "start_time": "2022-03-25T08:54:53.956Z"
   },
   {
    "duration": 6,
    "start_time": "2022-03-25T08:56:06.585Z"
   },
   {
    "duration": 6,
    "start_time": "2022-03-25T08:56:27.943Z"
   },
   {
    "duration": 63284,
    "start_time": "2022-03-25T08:56:43.317Z"
   },
   {
    "duration": 6,
    "start_time": "2022-03-25T08:58:38.533Z"
   },
   {
    "duration": 51602,
    "start_time": "2022-03-25T08:58:40.309Z"
   },
   {
    "duration": 217,
    "start_time": "2022-03-25T08:59:51.828Z"
   },
   {
    "duration": 1079321,
    "start_time": "2022-03-25T09:00:50.997Z"
   },
   {
    "duration": 68174,
    "start_time": "2022-03-25T09:19:21.802Z"
   },
   {
    "duration": 267603,
    "start_time": "2022-03-25T09:20:53.674Z"
   },
   {
    "duration": 67073,
    "start_time": "2022-03-25T09:27:23.691Z"
   },
   {
    "duration": 4537,
    "start_time": "2022-03-25T09:28:52.996Z"
   },
   {
    "duration": 100,
    "start_time": "2022-03-25T09:34:57.043Z"
   },
   {
    "duration": 57207,
    "start_time": "2022-03-25T09:36:23.332Z"
   },
   {
    "duration": 6,
    "start_time": "2022-03-25T10:30:56.628Z"
   },
   {
    "duration": 47714,
    "start_time": "2022-03-25T10:31:15.386Z"
   },
   {
    "duration": 6,
    "start_time": "2022-03-25T10:33:51.120Z"
   },
   {
    "duration": 36,
    "start_time": "2022-03-25T10:33:51.128Z"
   },
   {
    "duration": 13,
    "start_time": "2022-03-25T10:33:51.166Z"
   },
   {
    "duration": 18,
    "start_time": "2022-03-25T10:33:51.181Z"
   },
   {
    "duration": 9,
    "start_time": "2022-03-25T10:33:51.201Z"
   },
   {
    "duration": 16,
    "start_time": "2022-03-25T10:33:51.211Z"
   },
   {
    "duration": 23,
    "start_time": "2022-03-25T10:33:51.229Z"
   },
   {
    "duration": 13,
    "start_time": "2022-03-25T10:33:51.254Z"
   },
   {
    "duration": 22,
    "start_time": "2022-03-25T10:33:51.270Z"
   },
   {
    "duration": 31,
    "start_time": "2022-03-25T10:33:51.294Z"
   },
   {
    "duration": 9,
    "start_time": "2022-03-25T10:33:51.326Z"
   },
   {
    "duration": 15,
    "start_time": "2022-03-25T10:33:51.336Z"
   },
   {
    "duration": 5,
    "start_time": "2022-03-25T10:33:51.353Z"
   },
   {
    "duration": 54190,
    "start_time": "2022-03-25T10:33:51.359Z"
   },
   {
    "duration": 14,
    "start_time": "2022-03-25T10:34:45.551Z"
   },
   {
    "duration": 27,
    "start_time": "2022-03-25T10:34:45.567Z"
   },
   {
    "duration": 255176,
    "start_time": "2022-03-25T10:34:45.595Z"
   },
   {
    "duration": 10,
    "start_time": "2022-03-25T10:39:00.773Z"
   },
   {
    "duration": 1352,
    "start_time": "2022-03-25T10:39:00.785Z"
   },
   {
    "duration": 99,
    "start_time": "2022-03-25T10:39:02.140Z"
   },
   {
    "duration": 13,
    "start_time": "2022-03-25T10:39:02.242Z"
   },
   {
    "duration": 47894,
    "start_time": "2022-03-25T10:39:02.257Z"
   },
   {
    "duration": 70181,
    "start_time": "2022-03-25T10:39:50.152Z"
   },
   {
    "duration": 61498,
    "start_time": "2022-03-25T10:41:00.336Z"
   },
   {
    "duration": 6,
    "start_time": "2022-03-25T10:42:01.836Z"
   },
   {
    "duration": 124,
    "start_time": "2022-03-25T10:42:01.844Z"
   },
   {
    "duration": 63333,
    "start_time": "2022-03-25T10:42:01.970Z"
   },
   {
    "duration": 91716,
    "start_time": "2022-03-25T10:43:05.305Z"
   },
   {
    "duration": 71410,
    "start_time": "2022-03-25T10:44:37.024Z"
   },
   {
    "duration": 27838,
    "start_time": "2022-03-25T11:11:08.723Z"
   },
   {
    "duration": 10,
    "start_time": "2022-03-25T11:11:41.240Z"
   },
   {
    "duration": 25,
    "start_time": "2022-03-25T11:12:06.504Z"
   },
   {
    "duration": 15848,
    "start_time": "2022-03-25T11:14:20.086Z"
   },
   {
    "duration": 9,
    "start_time": "2022-03-25T11:16:07.951Z"
   },
   {
    "duration": 12943,
    "start_time": "2022-03-25T11:18:22.508Z"
   },
   {
    "duration": 8,
    "start_time": "2022-03-25T11:18:39.670Z"
   },
   {
    "duration": 4,
    "start_time": "2022-03-25T11:19:14.979Z"
   },
   {
    "duration": 44,
    "start_time": "2022-03-25T11:19:14.984Z"
   },
   {
    "duration": 13,
    "start_time": "2022-03-25T11:19:15.030Z"
   },
   {
    "duration": 29,
    "start_time": "2022-03-25T11:19:15.045Z"
   },
   {
    "duration": 9,
    "start_time": "2022-03-25T11:19:15.076Z"
   },
   {
    "duration": 13,
    "start_time": "2022-03-25T11:19:15.087Z"
   },
   {
    "duration": 22,
    "start_time": "2022-03-25T11:19:15.102Z"
   },
   {
    "duration": 11,
    "start_time": "2022-03-25T11:19:15.126Z"
   },
   {
    "duration": 21,
    "start_time": "2022-03-25T11:19:15.140Z"
   },
   {
    "duration": 26,
    "start_time": "2022-03-25T11:19:15.163Z"
   },
   {
    "duration": 5,
    "start_time": "2022-03-25T11:19:15.191Z"
   },
   {
    "duration": 14,
    "start_time": "2022-03-25T11:19:15.198Z"
   },
   {
    "duration": 24,
    "start_time": "2022-03-25T11:19:15.213Z"
   },
   {
    "duration": 26676,
    "start_time": "2022-03-25T11:19:15.239Z"
   },
   {
    "duration": 10,
    "start_time": "2022-03-25T11:19:41.916Z"
   },
   {
    "duration": 29,
    "start_time": "2022-03-25T11:19:41.927Z"
   },
   {
    "duration": 15520,
    "start_time": "2022-03-25T11:19:41.957Z"
   },
   {
    "duration": 8,
    "start_time": "2022-03-25T11:19:57.478Z"
   },
   {
    "duration": 13357,
    "start_time": "2022-03-25T11:19:57.488Z"
   },
   {
    "duration": 92,
    "start_time": "2022-03-25T11:20:10.848Z"
   },
   {
    "duration": 101,
    "start_time": "2022-03-25T11:20:10.942Z"
   },
   {
    "duration": 47548,
    "start_time": "2022-03-25T11:20:11.044Z"
   },
   {
    "duration": 68178,
    "start_time": "2022-03-25T11:20:58.594Z"
   },
   {
    "duration": 58560,
    "start_time": "2022-03-25T11:22:06.775Z"
   },
   {
    "duration": 5,
    "start_time": "2022-03-25T11:23:26.006Z"
   },
   {
    "duration": 20,
    "start_time": "2022-03-25T11:23:26.012Z"
   },
   {
    "duration": 63142,
    "start_time": "2022-03-25T11:23:26.156Z"
   },
   {
    "duration": 90072,
    "start_time": "2022-03-25T11:24:29.301Z"
   },
   {
    "duration": 71159,
    "start_time": "2022-03-25T11:25:59.375Z"
   },
   {
    "duration": 96,
    "start_time": "2022-03-25T11:27:10.537Z"
   },
   {
    "duration": 12,
    "start_time": "2022-03-25T11:27:10.635Z"
   },
   {
    "duration": 3,
    "start_time": "2022-03-25T11:38:06.024Z"
   },
   {
    "duration": 31,
    "start_time": "2022-03-25T11:38:06.029Z"
   },
   {
    "duration": 12,
    "start_time": "2022-03-25T11:38:06.062Z"
   },
   {
    "duration": 20,
    "start_time": "2022-03-25T11:38:06.076Z"
   },
   {
    "duration": 9,
    "start_time": "2022-03-25T11:38:06.098Z"
   },
   {
    "duration": 26,
    "start_time": "2022-03-25T11:38:06.108Z"
   },
   {
    "duration": 12,
    "start_time": "2022-03-25T11:38:06.136Z"
   },
   {
    "duration": 18,
    "start_time": "2022-03-25T11:38:06.150Z"
   },
   {
    "duration": 17,
    "start_time": "2022-03-25T11:38:06.170Z"
   },
   {
    "duration": 26,
    "start_time": "2022-03-25T11:38:06.189Z"
   },
   {
    "duration": 18,
    "start_time": "2022-03-25T11:38:06.217Z"
   },
   {
    "duration": 15,
    "start_time": "2022-03-25T11:38:06.236Z"
   },
   {
    "duration": 14,
    "start_time": "2022-03-25T11:38:06.253Z"
   },
   {
    "duration": 26892,
    "start_time": "2022-03-25T11:38:06.269Z"
   },
   {
    "duration": 9,
    "start_time": "2022-03-25T11:38:33.163Z"
   },
   {
    "duration": 25,
    "start_time": "2022-03-25T11:38:33.174Z"
   },
   {
    "duration": 16835,
    "start_time": "2022-03-25T11:38:33.201Z"
   },
   {
    "duration": 8,
    "start_time": "2022-03-25T11:38:50.038Z"
   },
   {
    "duration": 12903,
    "start_time": "2022-03-25T11:38:50.048Z"
   },
   {
    "duration": 181,
    "start_time": "2022-03-25T11:39:02.953Z"
   },
   {
    "duration": 6,
    "start_time": "2022-03-25T11:39:03.136Z"
   },
   {
    "duration": 48299,
    "start_time": "2022-03-25T11:39:03.144Z"
   },
   {
    "duration": 69428,
    "start_time": "2022-03-25T11:39:51.445Z"
   },
   {
    "duration": 59362,
    "start_time": "2022-03-25T11:41:00.875Z"
   },
   {
    "duration": 92,
    "start_time": "2022-03-25T11:42:00.241Z"
   },
   {
    "duration": 98,
    "start_time": "2022-03-25T11:42:00.336Z"
   },
   {
    "duration": 59298,
    "start_time": "2022-03-25T11:42:00.436Z"
   },
   {
    "duration": 88858,
    "start_time": "2022-03-25T11:42:59.736Z"
   },
   {
    "duration": 71837,
    "start_time": "2022-03-25T11:44:28.596Z"
   },
   {
    "duration": 5,
    "start_time": "2022-03-25T11:46:14.705Z"
   },
   {
    "duration": 12,
    "start_time": "2022-03-25T11:46:14.714Z"
   },
   {
    "duration": 25588,
    "start_time": "2022-03-25T11:46:14.728Z"
   },
   {
    "duration": 43863,
    "start_time": "2022-03-25T11:46:40.317Z"
   },
   {
    "duration": 24955,
    "start_time": "2022-03-25T11:47:24.181Z"
   },
   {
    "duration": 7,
    "start_time": "2022-03-25T12:29:16.916Z"
   },
   {
    "duration": 1431,
    "start_time": "2022-03-25T12:29:38.305Z"
   },
   {
    "duration": 9,
    "start_time": "2022-03-25T12:29:54.330Z"
   },
   {
    "duration": 1531,
    "start_time": "2022-03-25T12:29:56.589Z"
   },
   {
    "duration": 7,
    "start_time": "2022-03-25T12:48:47.431Z"
   },
   {
    "duration": 1354,
    "start_time": "2022-03-25T12:48:50.396Z"
   },
   {
    "duration": 48100,
    "start_time": "2022-03-25T12:48:58.902Z"
   },
   {
    "duration": 6,
    "start_time": "2022-03-25T13:12:50.151Z"
   },
   {
    "duration": 11,
    "start_time": "2022-03-25T13:16:09.570Z"
   },
   {
    "duration": 7,
    "start_time": "2022-03-25T13:16:21.525Z"
   },
   {
    "duration": 6,
    "start_time": "2022-03-25T13:23:01.830Z"
   },
   {
    "duration": 48932,
    "start_time": "2022-03-25T13:23:08.146Z"
   },
   {
    "duration": 5,
    "start_time": "2022-03-25T13:27:19.171Z"
   },
   {
    "duration": 1891,
    "start_time": "2022-03-25T13:27:19.178Z"
   },
   {
    "duration": 787,
    "start_time": "2022-03-25T13:27:21.070Z"
   },
   {
    "duration": 906,
    "start_time": "2022-03-25T13:27:21.858Z"
   },
   {
    "duration": 445,
    "start_time": "2022-03-25T13:27:22.767Z"
   },
   {
    "duration": 630,
    "start_time": "2022-03-25T13:27:23.214Z"
   },
   {
    "duration": 499,
    "start_time": "2022-03-25T13:27:23.846Z"
   },
   {
    "duration": 580,
    "start_time": "2022-03-25T13:27:24.347Z"
   },
   {
    "duration": 535,
    "start_time": "2022-03-25T13:27:24.929Z"
   },
   {
    "duration": 415,
    "start_time": "2022-03-25T13:27:25.465Z"
   },
   {
    "duration": 822,
    "start_time": "2022-03-25T13:27:25.882Z"
   },
   {
    "duration": 344,
    "start_time": "2022-03-25T13:27:26.706Z"
   },
   {
    "duration": 279,
    "start_time": "2022-03-25T13:27:27.051Z"
   },
   {
    "duration": 38648,
    "start_time": "2022-03-25T13:27:27.334Z"
   },
   {
    "duration": 12,
    "start_time": "2022-03-25T13:28:05.984Z"
   },
   {
    "duration": 263,
    "start_time": "2022-03-25T13:28:05.998Z"
   },
   {
    "duration": 17436,
    "start_time": "2022-03-25T13:28:06.262Z"
   },
   {
    "duration": 9,
    "start_time": "2022-03-25T13:28:23.700Z"
   },
   {
    "duration": 13833,
    "start_time": "2022-03-25T13:28:23.710Z"
   },
   {
    "duration": 12,
    "start_time": "2022-03-25T13:28:37.633Z"
   },
   {
    "duration": 394,
    "start_time": "2022-03-25T13:28:37.647Z"
   },
   {
    "duration": 56989,
    "start_time": "2022-03-25T13:28:38.043Z"
   },
   {
    "duration": 71708,
    "start_time": "2022-03-25T13:29:35.034Z"
   },
   {
    "duration": 61591,
    "start_time": "2022-03-25T13:30:46.744Z"
   },
   {
    "duration": 95,
    "start_time": "2022-03-25T13:31:48.338Z"
   },
   {
    "duration": 34,
    "start_time": "2022-03-25T13:31:48.435Z"
   },
   {
    "duration": 60390,
    "start_time": "2022-03-25T13:31:48.471Z"
   },
   {
    "duration": 91031,
    "start_time": "2022-03-25T13:32:48.863Z"
   },
   {
    "duration": 68980,
    "start_time": "2022-03-25T13:34:19.896Z"
   },
   {
    "duration": 8,
    "start_time": "2022-03-25T13:35:28.933Z"
   },
   {
    "duration": 118,
    "start_time": "2022-03-25T13:35:28.943Z"
   },
   {
    "duration": 26104,
    "start_time": "2022-03-25T13:35:29.063Z"
   },
   {
    "duration": 46908,
    "start_time": "2022-03-25T13:35:55.169Z"
   },
   {
    "duration": 27057,
    "start_time": "2022-03-25T13:36:42.079Z"
   },
   {
    "duration": 14,
    "start_time": "2022-03-25T13:40:55.263Z"
   },
   {
    "duration": 143,
    "start_time": "2022-03-25T13:40:55.449Z"
   },
   {
    "duration": 118193,
    "start_time": "2022-03-25T13:40:55.632Z"
   },
   {
    "duration": 1399,
    "start_time": "2022-03-25T14:36:23.381Z"
   },
   {
    "duration": 24,
    "start_time": "2022-03-25T14:36:24.782Z"
   },
   {
    "duration": 17,
    "start_time": "2022-03-25T14:36:24.807Z"
   },
   {
    "duration": 14,
    "start_time": "2022-03-25T14:36:24.832Z"
   },
   {
    "duration": 11,
    "start_time": "2022-03-25T14:36:24.848Z"
   },
   {
    "duration": 13,
    "start_time": "2022-03-25T14:36:24.861Z"
   },
   {
    "duration": 12,
    "start_time": "2022-03-25T14:36:24.876Z"
   },
   {
    "duration": 20,
    "start_time": "2022-03-25T14:36:24.889Z"
   },
   {
    "duration": 42,
    "start_time": "2022-03-25T14:36:24.910Z"
   },
   {
    "duration": 31,
    "start_time": "2022-03-25T14:36:24.954Z"
   },
   {
    "duration": 5,
    "start_time": "2022-03-25T14:36:24.986Z"
   },
   {
    "duration": 20,
    "start_time": "2022-03-25T14:36:24.992Z"
   },
   {
    "duration": 25,
    "start_time": "2022-03-25T14:36:25.013Z"
   },
   {
    "duration": 26798,
    "start_time": "2022-03-25T14:36:25.040Z"
   },
   {
    "duration": 10,
    "start_time": "2022-03-25T14:36:51.840Z"
   },
   {
    "duration": 30,
    "start_time": "2022-03-25T14:36:51.852Z"
   },
   {
    "duration": 15912,
    "start_time": "2022-03-25T14:36:51.884Z"
   },
   {
    "duration": 9,
    "start_time": "2022-03-25T14:37:07.797Z"
   },
   {
    "duration": 13246,
    "start_time": "2022-03-25T14:37:07.807Z"
   },
   {
    "duration": 83,
    "start_time": "2022-03-25T14:37:21.055Z"
   },
   {
    "duration": 111,
    "start_time": "2022-03-25T14:37:21.141Z"
   },
   {
    "duration": 48141,
    "start_time": "2022-03-25T14:37:21.254Z"
   },
   {
    "duration": 69091,
    "start_time": "2022-03-25T14:38:09.396Z"
   },
   {
    "duration": 2398,
    "start_time": "2022-03-25T15:23:11.469Z"
   },
   {
    "duration": 33,
    "start_time": "2022-03-25T15:23:13.870Z"
   },
   {
    "duration": 27,
    "start_time": "2022-03-25T15:23:13.906Z"
   },
   {
    "duration": 22,
    "start_time": "2022-03-25T15:23:13.937Z"
   },
   {
    "duration": 13,
    "start_time": "2022-03-25T15:23:13.985Z"
   },
   {
    "duration": 20,
    "start_time": "2022-03-25T15:23:14.001Z"
   },
   {
    "duration": 20,
    "start_time": "2022-03-25T15:23:14.024Z"
   },
   {
    "duration": 10,
    "start_time": "2022-03-25T15:23:14.085Z"
   },
   {
    "duration": 29,
    "start_time": "2022-03-25T15:23:14.097Z"
   },
   {
    "duration": 72,
    "start_time": "2022-03-25T15:23:14.130Z"
   },
   {
    "duration": 6,
    "start_time": "2022-03-25T15:23:14.204Z"
   },
   {
    "duration": 21,
    "start_time": "2022-03-25T15:23:14.213Z"
   },
   {
    "duration": 20,
    "start_time": "2022-03-25T15:23:14.236Z"
   },
   {
    "duration": 44131,
    "start_time": "2022-03-25T15:23:14.258Z"
   },
   {
    "duration": 15,
    "start_time": "2022-03-25T15:23:58.392Z"
   },
   {
    "duration": 36,
    "start_time": "2022-03-25T15:23:58.409Z"
   },
   {
    "duration": 25028,
    "start_time": "2022-03-25T15:23:58.447Z"
   },
   {
    "duration": 13,
    "start_time": "2022-03-25T15:24:23.484Z"
   },
   {
    "duration": 17689,
    "start_time": "2022-03-25T15:24:23.499Z"
   },
   {
    "duration": 98,
    "start_time": "2022-03-25T15:24:41.191Z"
   },
   {
    "duration": 10,
    "start_time": "2022-03-25T15:24:41.291Z"
   },
   {
    "duration": 76516,
    "start_time": "2022-03-25T15:24:41.303Z"
   },
   {
    "duration": 116672,
    "start_time": "2022-03-25T15:25:57.822Z"
   },
   {
    "duration": 76893,
    "start_time": "2022-03-25T15:27:54.497Z"
   },
   {
    "duration": 86,
    "start_time": "2022-03-25T15:29:11.399Z"
   },
   {
    "duration": 42,
    "start_time": "2022-03-25T15:29:11.488Z"
   },
   {
    "duration": 95279,
    "start_time": "2022-03-25T15:29:11.533Z"
   },
   {
    "duration": 146411,
    "start_time": "2022-03-25T15:30:46.817Z"
   },
   {
    "duration": 88156,
    "start_time": "2022-03-25T15:33:13.231Z"
   },
   {
    "duration": 100,
    "start_time": "2022-03-25T15:34:41.390Z"
   },
   {
    "duration": 106,
    "start_time": "2022-03-25T15:34:41.494Z"
   },
   {
    "duration": 43920,
    "start_time": "2022-03-25T15:34:41.602Z"
   },
   {
    "duration": 69802,
    "start_time": "2022-03-25T15:35:25.524Z"
   },
   {
    "duration": 37557,
    "start_time": "2022-03-25T15:36:35.329Z"
   },
   {
    "duration": 105,
    "start_time": "2022-03-25T15:37:12.890Z"
   },
   {
    "duration": 9,
    "start_time": "2022-03-25T15:37:12.998Z"
   },
   {
    "duration": 190097,
    "start_time": "2022-03-25T15:37:13.009Z"
   },
   {
    "duration": 2228,
    "start_time": "2022-03-26T06:05:53.676Z"
   },
   {
    "duration": 32,
    "start_time": "2022-03-26T06:05:55.907Z"
   },
   {
    "duration": 24,
    "start_time": "2022-03-26T06:05:55.941Z"
   },
   {
    "duration": 36,
    "start_time": "2022-03-26T06:05:55.967Z"
   },
   {
    "duration": 10,
    "start_time": "2022-03-26T06:05:56.006Z"
   },
   {
    "duration": 18,
    "start_time": "2022-03-26T06:05:56.018Z"
   },
   {
    "duration": 53,
    "start_time": "2022-03-26T06:05:56.037Z"
   },
   {
    "duration": 12,
    "start_time": "2022-03-26T06:05:56.092Z"
   },
   {
    "duration": 36,
    "start_time": "2022-03-26T06:05:56.106Z"
   },
   {
    "duration": 69,
    "start_time": "2022-03-26T06:05:56.144Z"
   },
   {
    "duration": 7,
    "start_time": "2022-03-26T06:05:56.216Z"
   },
   {
    "duration": 17,
    "start_time": "2022-03-26T06:05:56.225Z"
   },
   {
    "duration": 40,
    "start_time": "2022-03-26T06:05:56.244Z"
   },
   {
    "duration": 46466,
    "start_time": "2022-03-26T06:05:56.289Z"
   },
   {
    "duration": 14,
    "start_time": "2022-03-26T06:06:42.758Z"
   },
   {
    "duration": 35,
    "start_time": "2022-03-26T06:06:42.785Z"
   },
   {
    "duration": 25091,
    "start_time": "2022-03-26T06:06:42.822Z"
   },
   {
    "duration": 13,
    "start_time": "2022-03-26T06:07:07.915Z"
   },
   {
    "duration": 15757,
    "start_time": "2022-03-26T06:07:07.931Z"
   },
   {
    "duration": 102,
    "start_time": "2022-03-26T06:07:23.692Z"
   },
   {
    "duration": 10,
    "start_time": "2022-03-26T06:07:23.797Z"
   },
   {
    "duration": 74684,
    "start_time": "2022-03-26T06:07:23.809Z"
   },
   {
    "duration": 108812,
    "start_time": "2022-03-26T06:08:38.495Z"
   },
   {
    "duration": 71275,
    "start_time": "2022-03-26T06:10:27.309Z"
   },
   {
    "duration": 6,
    "start_time": "2022-03-26T06:11:38.587Z"
   },
   {
    "duration": 19,
    "start_time": "2022-03-26T06:11:38.685Z"
   },
   {
    "duration": 94016,
    "start_time": "2022-03-26T06:11:38.706Z"
   },
   {
    "duration": 147125,
    "start_time": "2022-03-26T06:13:12.725Z"
   },
   {
    "duration": 87934,
    "start_time": "2022-03-26T06:15:39.852Z"
   },
   {
    "duration": 95,
    "start_time": "2022-03-26T06:17:07.789Z"
   },
   {
    "duration": 109,
    "start_time": "2022-03-26T06:17:07.888Z"
   },
   {
    "duration": 43376,
    "start_time": "2022-03-26T06:17:07.999Z"
   },
   {
    "duration": 69333,
    "start_time": "2022-03-26T06:17:51.378Z"
   },
   {
    "duration": 34077,
    "start_time": "2022-03-26T06:19:00.713Z"
   },
   {
    "duration": 100,
    "start_time": "2022-03-26T06:19:34.793Z"
   },
   {
    "duration": 88,
    "start_time": "2022-03-26T06:19:34.896Z"
   },
   {
    "duration": 184998,
    "start_time": "2022-03-26T06:19:34.987Z"
   },
   {
    "duration": 1622,
    "start_time": "2022-03-26T13:22:51.586Z"
   },
   {
    "duration": 42,
    "start_time": "2022-03-26T13:22:53.210Z"
   },
   {
    "duration": 17,
    "start_time": "2022-03-26T13:22:53.253Z"
   },
   {
    "duration": 13,
    "start_time": "2022-03-26T13:22:53.273Z"
   },
   {
    "duration": 9,
    "start_time": "2022-03-26T13:22:53.288Z"
   },
   {
    "duration": 40,
    "start_time": "2022-03-26T13:22:53.299Z"
   },
   {
    "duration": 13,
    "start_time": "2022-03-26T13:22:53.341Z"
   },
   {
    "duration": 8,
    "start_time": "2022-03-26T13:22:53.356Z"
   },
   {
    "duration": 21,
    "start_time": "2022-03-26T13:22:53.365Z"
   },
   {
    "duration": 44,
    "start_time": "2022-03-26T13:22:53.388Z"
   },
   {
    "duration": 15,
    "start_time": "2022-03-26T13:22:53.433Z"
   },
   {
    "duration": 36,
    "start_time": "2022-03-26T13:22:53.450Z"
   },
   {
    "duration": 31,
    "start_time": "2022-03-26T13:23:39.665Z"
   },
   {
    "duration": 31,
    "start_time": "2022-03-26T13:23:48.427Z"
   },
   {
    "duration": 38,
    "start_time": "2022-03-26T13:23:58.691Z"
   },
   {
    "duration": 31,
    "start_time": "2022-03-26T13:24:05.251Z"
   },
   {
    "duration": 30,
    "start_time": "2022-03-26T13:24:28.393Z"
   },
   {
    "duration": 34,
    "start_time": "2022-03-26T13:24:45.668Z"
   },
   {
    "duration": 33,
    "start_time": "2022-03-26T13:24:54.107Z"
   },
   {
    "duration": 38,
    "start_time": "2022-03-26T13:27:53.646Z"
   },
   {
    "duration": 119,
    "start_time": "2022-03-26T13:41:08.496Z"
   },
   {
    "duration": 17,
    "start_time": "2022-03-26T13:41:31.053Z"
   },
   {
    "duration": 209,
    "start_time": "2022-03-26T13:41:41.670Z"
   },
   {
    "duration": 18,
    "start_time": "2022-03-26T13:42:17.766Z"
   },
   {
    "duration": 139,
    "start_time": "2022-03-26T13:42:23.905Z"
   },
   {
    "duration": 138,
    "start_time": "2022-03-26T13:42:31.422Z"
   },
   {
    "duration": 197,
    "start_time": "2022-03-26T13:42:45.437Z"
   },
   {
    "duration": 210,
    "start_time": "2022-03-26T13:42:56.409Z"
   },
   {
    "duration": 14,
    "start_time": "2022-03-26T13:43:52.716Z"
   },
   {
    "duration": 19,
    "start_time": "2022-03-26T13:44:02.830Z"
   },
   {
    "duration": 143,
    "start_time": "2022-03-26T13:44:10.519Z"
   },
   {
    "duration": 18,
    "start_time": "2022-03-26T13:45:33.963Z"
   },
   {
    "duration": 124,
    "start_time": "2022-03-26T13:45:38.436Z"
   },
   {
    "duration": 116,
    "start_time": "2022-03-26T13:46:06.691Z"
   },
   {
    "duration": 142,
    "start_time": "2022-03-26T13:46:28.500Z"
   },
   {
    "duration": 133,
    "start_time": "2022-03-26T13:47:19.881Z"
   },
   {
    "duration": 139,
    "start_time": "2022-03-26T13:49:25.416Z"
   },
   {
    "duration": 149,
    "start_time": "2022-03-26T13:50:31.609Z"
   },
   {
    "duration": 234,
    "start_time": "2022-03-26T13:51:37.833Z"
   },
   {
    "duration": 141,
    "start_time": "2022-03-26T13:53:23.164Z"
   },
   {
    "duration": 146,
    "start_time": "2022-03-26T13:55:19.363Z"
   },
   {
    "duration": 130,
    "start_time": "2022-03-26T13:55:34.800Z"
   },
   {
    "duration": 135,
    "start_time": "2022-03-26T13:56:09.516Z"
   },
   {
    "duration": 141,
    "start_time": "2022-03-26T13:56:16.514Z"
   },
   {
    "duration": 130,
    "start_time": "2022-03-26T13:56:24.537Z"
   },
   {
    "duration": 135,
    "start_time": "2022-03-26T13:56:36.170Z"
   },
   {
    "duration": 134,
    "start_time": "2022-03-26T13:56:43.288Z"
   },
   {
    "duration": 133,
    "start_time": "2022-03-26T13:56:49.217Z"
   },
   {
    "duration": 138,
    "start_time": "2022-03-26T13:56:54.964Z"
   },
   {
    "duration": 128,
    "start_time": "2022-03-26T13:57:05.481Z"
   },
   {
    "duration": 137,
    "start_time": "2022-03-26T13:57:44.583Z"
   },
   {
    "duration": 133,
    "start_time": "2022-03-26T13:57:59.503Z"
   },
   {
    "duration": 143,
    "start_time": "2022-03-26T14:00:44.369Z"
   },
   {
    "duration": 147,
    "start_time": "2022-03-26T14:04:49.404Z"
   },
   {
    "duration": 127,
    "start_time": "2022-03-26T14:05:20.559Z"
   },
   {
    "duration": 145,
    "start_time": "2022-03-26T14:06:04.185Z"
   },
   {
    "duration": 15,
    "start_time": "2022-03-26T14:06:12.900Z"
   },
   {
    "duration": 158,
    "start_time": "2022-03-26T14:06:33.431Z"
   },
   {
    "duration": 265,
    "start_time": "2022-03-26T14:06:50.494Z"
   },
   {
    "duration": 138,
    "start_time": "2022-03-26T14:07:28.808Z"
   },
   {
    "duration": 4,
    "start_time": "2022-03-26T14:08:26.895Z"
   },
   {
    "duration": 28,
    "start_time": "2022-03-26T14:08:26.913Z"
   },
   {
    "duration": 14,
    "start_time": "2022-03-26T14:08:26.943Z"
   },
   {
    "duration": 19,
    "start_time": "2022-03-26T14:08:26.958Z"
   },
   {
    "duration": 9,
    "start_time": "2022-03-26T14:08:26.979Z"
   },
   {
    "duration": 12,
    "start_time": "2022-03-26T14:08:26.990Z"
   },
   {
    "duration": 14,
    "start_time": "2022-03-26T14:08:27.032Z"
   },
   {
    "duration": 9,
    "start_time": "2022-03-26T14:08:27.048Z"
   },
   {
    "duration": 22,
    "start_time": "2022-03-26T14:08:27.058Z"
   },
   {
    "duration": 5,
    "start_time": "2022-03-26T14:08:27.082Z"
   },
   {
    "duration": 45,
    "start_time": "2022-03-26T14:08:27.089Z"
   },
   {
    "duration": 38,
    "start_time": "2022-03-26T14:08:27.136Z"
   },
   {
    "duration": 161,
    "start_time": "2022-03-26T14:08:27.176Z"
   },
   {
    "duration": 5,
    "start_time": "2022-03-26T14:21:02.608Z"
   },
   {
    "duration": 35,
    "start_time": "2022-03-26T14:21:02.615Z"
   },
   {
    "duration": 20,
    "start_time": "2022-03-26T14:21:02.653Z"
   },
   {
    "duration": 25,
    "start_time": "2022-03-26T14:21:02.675Z"
   },
   {
    "duration": 8,
    "start_time": "2022-03-26T14:21:02.702Z"
   },
   {
    "duration": 13,
    "start_time": "2022-03-26T14:21:02.732Z"
   },
   {
    "duration": 14,
    "start_time": "2022-03-26T14:21:02.747Z"
   },
   {
    "duration": 18,
    "start_time": "2022-03-26T14:21:02.762Z"
   },
   {
    "duration": 24,
    "start_time": "2022-03-26T14:21:02.782Z"
   },
   {
    "duration": 27,
    "start_time": "2022-03-26T14:21:02.808Z"
   },
   {
    "duration": 18,
    "start_time": "2022-03-26T14:21:02.838Z"
   },
   {
    "duration": 39,
    "start_time": "2022-03-26T14:21:02.857Z"
   },
   {
    "duration": 164,
    "start_time": "2022-03-26T14:21:02.898Z"
   },
   {
    "duration": 30961,
    "start_time": "2022-03-26T14:21:03.064Z"
   },
   {
    "duration": 15,
    "start_time": "2022-03-26T14:21:34.026Z"
   },
   {
    "duration": 27,
    "start_time": "2022-03-26T14:21:34.043Z"
   },
   {
    "duration": 18644,
    "start_time": "2022-03-26T14:21:34.072Z"
   },
   {
    "duration": 14,
    "start_time": "2022-03-26T14:21:52.719Z"
   },
   {
    "duration": 15617,
    "start_time": "2022-03-26T14:21:52.735Z"
   },
   {
    "duration": 180,
    "start_time": "2022-03-26T14:22:08.353Z"
   },
   {
    "duration": 7,
    "start_time": "2022-03-26T14:25:25.588Z"
   },
   {
    "duration": 1957,
    "start_time": "2022-03-26T14:25:38.750Z"
   },
   {
    "duration": 7,
    "start_time": "2022-03-26T14:26:06.234Z"
   },
   {
    "duration": 1666,
    "start_time": "2022-03-26T14:26:10.071Z"
   },
   {
    "duration": 162,
    "start_time": "2022-03-26T14:27:51.295Z"
   },
   {
    "duration": 164,
    "start_time": "2022-03-26T14:28:02.180Z"
   },
   {
    "duration": 149,
    "start_time": "2022-03-26T14:29:08.838Z"
   },
   {
    "duration": 106,
    "start_time": "2022-03-26T14:29:23.485Z"
   },
   {
    "duration": 66,
    "start_time": "2022-03-26T14:29:51.196Z"
   },
   {
    "duration": 72,
    "start_time": "2022-03-26T14:29:58.606Z"
   },
   {
    "duration": 66,
    "start_time": "2022-03-26T14:30:10.099Z"
   },
   {
    "duration": 82,
    "start_time": "2022-03-26T14:30:17.060Z"
   },
   {
    "duration": 376,
    "start_time": "2022-03-26T14:32:40.060Z"
   },
   {
    "duration": 10,
    "start_time": "2022-03-26T14:32:44.268Z"
   },
   {
    "duration": 15,
    "start_time": "2022-03-26T14:39:54.906Z"
   },
   {
    "duration": 27,
    "start_time": "2022-03-26T14:40:05.891Z"
   },
   {
    "duration": 12,
    "start_time": "2022-03-26T14:42:35.195Z"
   },
   {
    "duration": 28,
    "start_time": "2022-03-26T14:43:01.015Z"
   },
   {
    "duration": 32,
    "start_time": "2022-03-26T14:44:32.665Z"
   },
   {
    "duration": 30,
    "start_time": "2022-03-26T14:44:53.582Z"
   },
   {
    "duration": 7,
    "start_time": "2022-03-26T15:15:12.441Z"
   },
   {
    "duration": 1742,
    "start_time": "2022-03-26T15:15:16.589Z"
   },
   {
    "duration": 8,
    "start_time": "2022-03-26T15:15:38.537Z"
   },
   {
    "duration": 1729,
    "start_time": "2022-03-26T15:15:41.929Z"
   },
   {
    "duration": 7,
    "start_time": "2022-03-26T15:19:42.291Z"
   },
   {
    "duration": 1664,
    "start_time": "2022-03-26T15:19:44.532Z"
   },
   {
    "duration": 53555,
    "start_time": "2022-03-26T15:20:12.592Z"
   },
   {
    "duration": 4,
    "start_time": "2022-03-26T15:23:30.376Z"
   },
   {
    "duration": 33,
    "start_time": "2022-03-26T15:23:30.382Z"
   },
   {
    "duration": 14,
    "start_time": "2022-03-26T15:23:30.416Z"
   },
   {
    "duration": 24,
    "start_time": "2022-03-26T15:23:30.432Z"
   },
   {
    "duration": 12,
    "start_time": "2022-03-26T15:23:30.459Z"
   },
   {
    "duration": 32,
    "start_time": "2022-03-26T15:23:30.472Z"
   },
   {
    "duration": 30,
    "start_time": "2022-03-26T15:23:30.506Z"
   },
   {
    "duration": 13,
    "start_time": "2022-03-26T15:23:30.538Z"
   },
   {
    "duration": 31,
    "start_time": "2022-03-26T15:23:30.553Z"
   },
   {
    "duration": 21,
    "start_time": "2022-03-26T15:23:30.585Z"
   },
   {
    "duration": 15,
    "start_time": "2022-03-26T15:23:30.608Z"
   },
   {
    "duration": 40,
    "start_time": "2022-03-26T15:23:30.624Z"
   },
   {
    "duration": 148,
    "start_time": "2022-03-26T15:23:30.665Z"
   },
   {
    "duration": 31125,
    "start_time": "2022-03-26T15:23:30.816Z"
   },
   {
    "duration": 12,
    "start_time": "2022-03-26T15:24:01.943Z"
   },
   {
    "duration": 37,
    "start_time": "2022-03-26T15:24:01.957Z"
   },
   {
    "duration": 182540,
    "start_time": "2022-03-26T15:24:14.636Z"
   },
   {
    "duration": 11,
    "start_time": "2022-03-26T15:27:23.779Z"
   },
   {
    "duration": 31,
    "start_time": "2022-03-26T15:27:48.627Z"
   },
   {
    "duration": 15565,
    "start_time": "2022-03-26T15:30:00.286Z"
   },
   {
    "duration": 102,
    "start_time": "2022-03-26T15:30:15.937Z"
   },
   {
    "duration": 8,
    "start_time": "2022-03-26T15:30:16.040Z"
   },
   {
    "duration": 53700,
    "start_time": "2022-03-26T15:30:16.050Z"
   },
   {
    "duration": 78509,
    "start_time": "2022-03-26T15:31:09.752Z"
   },
   {
    "duration": 72874,
    "start_time": "2022-03-26T15:32:28.263Z"
   },
   {
    "duration": 94,
    "start_time": "2022-03-26T15:33:41.140Z"
   },
   {
    "duration": 104,
    "start_time": "2022-03-26T15:33:41.237Z"
   },
   {
    "duration": 64533,
    "start_time": "2022-03-26T15:33:41.343Z"
   },
   {
    "duration": 101451,
    "start_time": "2022-03-26T15:34:45.878Z"
   },
   {
    "duration": 90301,
    "start_time": "2022-03-26T15:36:27.332Z"
   },
   {
    "duration": 96,
    "start_time": "2022-03-26T15:37:57.636Z"
   },
   {
    "duration": 49,
    "start_time": "2022-03-26T15:37:57.734Z"
   },
   {
    "duration": 29277,
    "start_time": "2022-03-26T15:37:57.786Z"
   },
   {
    "duration": 50864,
    "start_time": "2022-03-26T15:38:27.065Z"
   },
   {
    "duration": 44205,
    "start_time": "2022-03-26T15:39:17.932Z"
   },
   {
    "duration": 100,
    "start_time": "2022-03-26T15:40:02.141Z"
   },
   {
    "duration": 16,
    "start_time": "2022-03-26T15:40:02.243Z"
   },
   {
    "duration": 129694,
    "start_time": "2022-03-26T15:40:02.261Z"
   },
   {
    "duration": 2262,
    "start_time": "2022-03-26T15:54:53.704Z"
   },
   {
    "duration": 28,
    "start_time": "2022-03-26T15:54:55.968Z"
   },
   {
    "duration": 16,
    "start_time": "2022-03-26T15:54:55.998Z"
   },
   {
    "duration": 14,
    "start_time": "2022-03-26T15:54:56.016Z"
   },
   {
    "duration": 16,
    "start_time": "2022-03-26T15:54:56.032Z"
   },
   {
    "duration": 21,
    "start_time": "2022-03-26T15:54:56.049Z"
   },
   {
    "duration": 17,
    "start_time": "2022-03-26T15:54:56.072Z"
   },
   {
    "duration": 18,
    "start_time": "2022-03-26T15:54:56.091Z"
   },
   {
    "duration": 18,
    "start_time": "2022-03-26T15:54:56.111Z"
   },
   {
    "duration": 5,
    "start_time": "2022-03-26T15:54:56.132Z"
   },
   {
    "duration": 16,
    "start_time": "2022-03-26T15:54:56.138Z"
   },
   {
    "duration": 65,
    "start_time": "2022-03-26T15:54:56.155Z"
   },
   {
    "duration": 161,
    "start_time": "2022-03-26T15:54:56.221Z"
   },
   {
    "duration": 30026,
    "start_time": "2022-03-26T15:54:56.383Z"
   },
   {
    "duration": 11,
    "start_time": "2022-03-26T15:55:26.411Z"
   },
   {
    "duration": 29,
    "start_time": "2022-03-26T15:55:26.423Z"
   },
   {
    "duration": 166769,
    "start_time": "2022-03-26T15:55:26.454Z"
   },
   {
    "duration": 8,
    "start_time": "2022-03-26T15:58:13.225Z"
   },
   {
    "duration": 14493,
    "start_time": "2022-03-26T15:58:13.235Z"
   },
   {
    "duration": 100,
    "start_time": "2022-03-26T15:58:27.810Z"
   },
   {
    "duration": 7,
    "start_time": "2022-03-26T15:58:27.912Z"
   },
   {
    "duration": 47883,
    "start_time": "2022-03-26T15:58:27.921Z"
   },
   {
    "duration": 745872,
    "start_time": "2022-03-26T15:59:15.806Z"
   },
   {
    "duration": 63839,
    "start_time": "2022-03-26T16:11:41.679Z"
   },
   {
    "duration": 92,
    "start_time": "2022-03-26T16:12:45.520Z"
   },
   {
    "duration": 206,
    "start_time": "2022-03-26T16:12:45.615Z"
   },
   {
    "duration": 59080,
    "start_time": "2022-03-26T16:12:45.823Z"
   },
   {
    "duration": 969036,
    "start_time": "2022-03-26T16:13:44.910Z"
   },
   {
    "duration": 77969,
    "start_time": "2022-03-26T16:29:53.947Z"
   },
   {
    "duration": 92,
    "start_time": "2022-03-26T16:31:11.921Z"
   },
   {
    "duration": 195,
    "start_time": "2022-03-26T16:31:12.015Z"
   },
   {
    "duration": 26516,
    "start_time": "2022-03-26T16:31:12.212Z"
   },
   {
    "duration": 464986,
    "start_time": "2022-03-26T16:31:38.730Z"
   },
   {
    "duration": 31692,
    "start_time": "2022-03-26T16:39:23.718Z"
   },
   {
    "duration": 102,
    "start_time": "2022-03-26T16:39:55.413Z"
   },
   {
    "duration": 5,
    "start_time": "2022-03-26T16:39:55.517Z"
   },
   {
    "duration": 1226631,
    "start_time": "2022-03-26T16:39:55.523Z"
   },
   {
    "duration": 113,
    "start_time": "2022-03-26T17:07:20.828Z"
   },
   {
    "duration": 106,
    "start_time": "2022-03-26T17:12:55.245Z"
   },
   {
    "duration": 3,
    "start_time": "2022-03-26T17:14:47.839Z"
   },
   {
    "duration": 12,
    "start_time": "2022-03-26T17:18:22.924Z"
   },
   {
    "duration": 777,
    "start_time": "2022-03-26T17:18:42.658Z"
   },
   {
    "duration": 739,
    "start_time": "2022-03-26T17:19:08.397Z"
   },
   {
    "duration": 572,
    "start_time": "2022-03-26T17:19:52.320Z"
   },
   {
    "duration": 11,
    "start_time": "2022-03-26T17:21:14.826Z"
   },
   {
    "duration": 11,
    "start_time": "2022-03-26T17:21:33.026Z"
   },
   {
    "duration": 20,
    "start_time": "2022-03-26T17:21:47.726Z"
   },
   {
    "duration": 2418,
    "start_time": "2022-03-26T17:22:12.851Z"
   },
   {
    "duration": 3,
    "start_time": "2022-03-26T17:22:55.720Z"
   },
   {
    "duration": 26,
    "start_time": "2022-03-26T17:22:55.725Z"
   },
   {
    "duration": 13,
    "start_time": "2022-03-26T17:22:55.752Z"
   },
   {
    "duration": 12,
    "start_time": "2022-03-26T17:22:55.766Z"
   },
   {
    "duration": 6,
    "start_time": "2022-03-26T17:22:55.780Z"
   },
   {
    "duration": 28,
    "start_time": "2022-03-26T17:22:55.788Z"
   },
   {
    "duration": 12,
    "start_time": "2022-03-26T17:22:55.818Z"
   },
   {
    "duration": 11,
    "start_time": "2022-03-26T17:22:55.831Z"
   },
   {
    "duration": 17,
    "start_time": "2022-03-26T17:22:55.843Z"
   },
   {
    "duration": 5,
    "start_time": "2022-03-26T17:22:55.861Z"
   },
   {
    "duration": 16,
    "start_time": "2022-03-26T17:22:55.868Z"
   },
   {
    "duration": 37,
    "start_time": "2022-03-26T17:22:55.910Z"
   },
   {
    "duration": 160,
    "start_time": "2022-03-26T17:22:55.949Z"
   },
   {
    "duration": 28992,
    "start_time": "2022-03-26T17:22:56.111Z"
   },
   {
    "duration": 11,
    "start_time": "2022-03-26T17:23:25.105Z"
   },
   {
    "duration": 29,
    "start_time": "2022-03-26T17:23:25.118Z"
   },
   {
    "duration": 46373,
    "start_time": "2022-03-26T17:23:25.148Z"
   },
   {
    "duration": 10,
    "start_time": "2022-03-26T17:24:11.523Z"
   },
   {
    "duration": 15275,
    "start_time": "2022-03-26T17:24:11.535Z"
   },
   {
    "duration": 100,
    "start_time": "2022-03-26T17:24:26.813Z"
   },
   {
    "duration": 8,
    "start_time": "2022-03-26T17:24:26.916Z"
   },
   {
    "duration": 50557,
    "start_time": "2022-03-26T17:24:26.926Z"
   },
   {
    "duration": 196092,
    "start_time": "2022-03-26T17:25:17.485Z"
   },
   {
    "duration": 66038,
    "start_time": "2022-03-26T17:28:33.579Z"
   },
   {
    "duration": 90,
    "start_time": "2022-03-26T17:29:39.620Z"
   },
   {
    "duration": 221,
    "start_time": "2022-03-26T17:29:39.714Z"
   },
   {
    "duration": 61649,
    "start_time": "2022-03-26T17:29:39.937Z"
   },
   {
    "duration": 256757,
    "start_time": "2022-03-26T17:30:41.588Z"
   },
   {
    "duration": 87566,
    "start_time": "2022-03-26T17:34:58.346Z"
   },
   {
    "duration": 95,
    "start_time": "2022-03-26T17:36:25.915Z"
   },
   {
    "duration": 129,
    "start_time": "2022-03-26T17:36:26.011Z"
   },
   {
    "duration": 27181,
    "start_time": "2022-03-26T17:36:26.144Z"
   },
   {
    "duration": 125501,
    "start_time": "2022-03-26T17:36:53.326Z"
   },
   {
    "duration": 28981,
    "start_time": "2022-03-26T17:38:58.829Z"
   },
   {
    "duration": 118,
    "start_time": "2022-03-26T17:44:06.702Z"
   },
   {
    "duration": 1665,
    "start_time": "2022-03-26T17:44:55.163Z"
   },
   {
    "duration": 774,
    "start_time": "2022-03-26T17:45:04.454Z"
   },
   {
    "duration": 1040,
    "start_time": "2022-03-26T17:45:15.215Z"
   },
   {
    "duration": 1003,
    "start_time": "2022-03-26T17:45:34.149Z"
   },
   {
    "duration": 806415,
    "start_time": "2022-03-26T17:56:04.562Z"
   },
   {
    "duration": 303326,
    "start_time": "2022-03-26T18:10:14.236Z"
   },
   {
    "duration": 8,
    "start_time": "2022-03-26T18:19:22.455Z"
   },
   {
    "duration": 42146,
    "start_time": "2022-03-26T18:19:38.811Z"
   },
   {
    "duration": 109689,
    "start_time": "2022-03-26T18:20:36.407Z"
   },
   {
    "duration": 46622,
    "start_time": "2022-03-26T18:23:23.972Z"
   },
   {
    "duration": 99567,
    "start_time": "2022-03-26T18:24:30.693Z"
   },
   {
    "duration": 135467,
    "start_time": "2022-03-26T18:26:37.049Z"
   },
   {
    "duration": 3309,
    "start_time": "2022-03-26T18:30:15.166Z"
   },
   {
    "duration": 177068,
    "start_time": "2022-03-26T18:31:26.298Z"
   },
   {
    "duration": 230957,
    "start_time": "2022-03-26T18:34:56.885Z"
   },
   {
    "duration": 153297,
    "start_time": "2022-03-26T18:39:46.022Z"
   },
   {
    "duration": 33933,
    "start_time": "2022-03-26T18:42:40.190Z"
   },
   {
    "duration": 46166,
    "start_time": "2022-03-26T18:43:30.544Z"
   },
   {
    "duration": 1380,
    "start_time": "2022-03-26T18:45:23.935Z"
   },
   {
    "duration": 4,
    "start_time": "2022-03-26T18:46:15.606Z"
   },
   {
    "duration": 7,
    "start_time": "2022-03-26T18:46:24.161Z"
   },
   {
    "duration": 12035,
    "start_time": "2022-03-26T18:46:30.614Z"
   },
   {
    "duration": 16197,
    "start_time": "2022-03-26T18:47:07.223Z"
   },
   {
    "duration": 15058,
    "start_time": "2022-03-26T18:48:41.087Z"
   },
   {
    "duration": 15303,
    "start_time": "2022-03-26T18:49:10.225Z"
   },
   {
    "duration": 10518,
    "start_time": "2022-03-26T18:49:58.014Z"
   },
   {
    "duration": 10699,
    "start_time": "2022-03-26T18:50:43.889Z"
   },
   {
    "duration": 19260,
    "start_time": "2022-03-26T18:51:15.160Z"
   },
   {
    "duration": 7,
    "start_time": "2022-03-26T18:52:04.938Z"
   },
   {
    "duration": 18072,
    "start_time": "2022-03-26T18:52:28.197Z"
   },
   {
    "duration": 17914,
    "start_time": "2022-03-26T18:53:04.973Z"
   },
   {
    "duration": 15701,
    "start_time": "2022-03-26T18:53:47.502Z"
   },
   {
    "duration": 20985,
    "start_time": "2022-03-26T18:54:13.203Z"
   },
   {
    "duration": 2571,
    "start_time": "2022-03-26T18:55:10.089Z"
   },
   {
    "duration": 11626,
    "start_time": "2022-03-26T18:55:29.419Z"
   },
   {
    "duration": 21161,
    "start_time": "2022-03-26T18:55:54.614Z"
   },
   {
    "duration": 6905,
    "start_time": "2022-03-26T18:56:55.375Z"
   },
   {
    "duration": 10540,
    "start_time": "2022-03-26T18:57:52.468Z"
   },
   {
    "duration": 13114,
    "start_time": "2022-03-26T18:58:17.200Z"
   },
   {
    "duration": 14958,
    "start_time": "2022-03-26T18:58:37.176Z"
   },
   {
    "duration": 11814,
    "start_time": "2022-03-26T18:58:59.492Z"
   },
   {
    "duration": 3,
    "start_time": "2022-03-26T18:59:36.548Z"
   },
   {
    "duration": 23,
    "start_time": "2022-03-26T18:59:36.556Z"
   },
   {
    "duration": 13,
    "start_time": "2022-03-26T18:59:36.581Z"
   },
   {
    "duration": 16,
    "start_time": "2022-03-26T18:59:36.596Z"
   },
   {
    "duration": 9,
    "start_time": "2022-03-26T18:59:36.615Z"
   },
   {
    "duration": 13,
    "start_time": "2022-03-26T18:59:36.626Z"
   },
   {
    "duration": 15,
    "start_time": "2022-03-26T18:59:36.640Z"
   },
   {
    "duration": 7,
    "start_time": "2022-03-26T18:59:36.657Z"
   },
   {
    "duration": 56,
    "start_time": "2022-03-26T18:59:36.666Z"
   },
   {
    "duration": 6,
    "start_time": "2022-03-26T18:59:36.724Z"
   },
   {
    "duration": 13,
    "start_time": "2022-03-26T18:59:36.734Z"
   },
   {
    "duration": 63,
    "start_time": "2022-03-26T18:59:36.749Z"
   },
   {
    "duration": 136,
    "start_time": "2022-03-26T18:59:36.813Z"
   },
   {
    "duration": 29746,
    "start_time": "2022-03-26T18:59:36.951Z"
   },
   {
    "duration": 17,
    "start_time": "2022-03-26T19:00:06.699Z"
   },
   {
    "duration": 34,
    "start_time": "2022-03-26T19:00:06.718Z"
   },
   {
    "duration": 47379,
    "start_time": "2022-03-26T19:00:06.755Z"
   },
   {
    "duration": 9,
    "start_time": "2022-03-26T19:00:54.136Z"
   },
   {
    "duration": 16383,
    "start_time": "2022-03-26T19:00:54.147Z"
   },
   {
    "duration": 100,
    "start_time": "2022-03-26T19:01:10.610Z"
   },
   {
    "duration": 9,
    "start_time": "2022-03-26T19:01:10.712Z"
   },
   {
    "duration": 437,
    "start_time": "2022-03-26T19:01:10.723Z"
   },
   {
    "duration": 13185,
    "start_time": "2022-03-26T19:01:47.092Z"
   },
   {
    "duration": 13743,
    "start_time": "2022-03-26T19:02:12.457Z"
   },
   {
    "duration": 6496,
    "start_time": "2022-03-26T19:02:54.118Z"
   },
   {
    "duration": 5,
    "start_time": "2022-03-26T19:03:03.792Z"
   },
   {
    "duration": 133,
    "start_time": "2022-03-26T19:03:05.809Z"
   },
   {
    "duration": 708,
    "start_time": "2022-03-26T19:03:09.845Z"
   },
   {
    "duration": 19184,
    "start_time": "2022-03-26T19:03:14.873Z"
   },
   {
    "duration": 5142,
    "start_time": "2022-03-26T19:03:54.122Z"
   },
   {
    "duration": 6,
    "start_time": "2022-03-26T19:05:31.505Z"
   },
   {
    "duration": 232419,
    "start_time": "2022-03-26T19:06:06.214Z"
   },
   {
    "duration": 104704,
    "start_time": "2022-03-26T19:10:39.854Z"
   },
   {
    "duration": 142425,
    "start_time": "2022-03-26T19:13:05.519Z"
   },
   {
    "duration": 1713,
    "start_time": "2022-03-26T19:16:01.891Z"
   },
   {
    "duration": 1727,
    "start_time": "2022-03-26T19:16:17.121Z"
   },
   {
    "duration": 1815,
    "start_time": "2022-03-26T19:17:11.031Z"
   },
   {
    "duration": 1910,
    "start_time": "2022-03-26T19:17:16.901Z"
   },
   {
    "duration": 2018,
    "start_time": "2022-03-26T19:17:21.429Z"
   },
   {
    "duration": 12,
    "start_time": "2022-03-26T19:17:38.768Z"
   },
   {
    "duration": 130,
    "start_time": "2022-03-26T19:17:42.212Z"
   },
   {
    "duration": 1866,
    "start_time": "2022-03-26T19:17:46.974Z"
   },
   {
    "duration": 1710,
    "start_time": "2022-03-26T19:17:52.494Z"
   },
   {
    "duration": 1771,
    "start_time": "2022-03-26T19:18:10.472Z"
   },
   {
    "duration": 1913,
    "start_time": "2022-03-26T19:21:25.686Z"
   },
   {
    "duration": 1420,
    "start_time": "2022-03-26T19:21:40.406Z"
   },
   {
    "duration": 25,
    "start_time": "2022-03-26T19:21:41.828Z"
   },
   {
    "duration": 16,
    "start_time": "2022-03-26T19:21:41.855Z"
   },
   {
    "duration": 13,
    "start_time": "2022-03-26T19:21:41.874Z"
   },
   {
    "duration": 20,
    "start_time": "2022-03-26T19:21:41.889Z"
   },
   {
    "duration": 12,
    "start_time": "2022-03-26T19:21:41.911Z"
   },
   {
    "duration": 13,
    "start_time": "2022-03-26T19:21:41.925Z"
   },
   {
    "duration": 8,
    "start_time": "2022-03-26T19:21:41.940Z"
   },
   {
    "duration": 19,
    "start_time": "2022-03-26T19:21:41.950Z"
   },
   {
    "duration": 7,
    "start_time": "2022-03-26T19:21:42.008Z"
   },
   {
    "duration": 23,
    "start_time": "2022-03-26T19:21:42.017Z"
   },
   {
    "duration": 79,
    "start_time": "2022-03-26T19:21:42.042Z"
   },
   {
    "duration": 154,
    "start_time": "2022-03-26T19:21:42.123Z"
   },
   {
    "duration": 28875,
    "start_time": "2022-03-26T19:21:42.279Z"
   },
   {
    "duration": 12,
    "start_time": "2022-03-26T19:22:11.156Z"
   },
   {
    "duration": 45,
    "start_time": "2022-03-26T19:22:11.170Z"
   },
   {
    "duration": 46890,
    "start_time": "2022-03-26T19:22:11.217Z"
   },
   {
    "duration": 9,
    "start_time": "2022-03-26T19:22:58.109Z"
   },
   {
    "duration": 15710,
    "start_time": "2022-03-26T19:22:58.119Z"
   },
   {
    "duration": 179,
    "start_time": "2022-03-26T19:23:13.831Z"
   },
   {
    "duration": 8,
    "start_time": "2022-03-26T19:23:14.012Z"
   },
   {
    "duration": 27660,
    "start_time": "2022-03-26T19:23:14.022Z"
   },
   {
    "duration": 104645,
    "start_time": "2022-03-26T19:23:41.683Z"
   },
   {
    "duration": 34982,
    "start_time": "2022-03-26T19:25:26.330Z"
   },
   {
    "duration": 95,
    "start_time": "2022-03-26T19:26:01.315Z"
   },
   {
    "duration": 129,
    "start_time": "2022-03-26T19:26:01.412Z"
   },
   {
    "duration": 32449,
    "start_time": "2022-03-26T19:26:01.542Z"
   },
   {
    "duration": 141304,
    "start_time": "2022-03-26T19:26:33.994Z"
   },
   {
    "duration": 43509,
    "start_time": "2022-03-26T19:28:55.309Z"
   },
   {
    "duration": 7,
    "start_time": "2022-03-26T19:29:38.910Z"
   },
   {
    "duration": 222,
    "start_time": "2022-03-26T19:29:38.920Z"
   },
   {
    "duration": 15172,
    "start_time": "2022-03-26T19:29:39.144Z"
   },
   {
    "duration": 67921,
    "start_time": "2022-03-26T19:29:54.318Z"
   },
   {
    "duration": 15369,
    "start_time": "2022-03-26T19:31:02.240Z"
   },
   {
    "duration": 100,
    "start_time": "2022-03-26T19:31:17.615Z"
   },
   {
    "duration": 144,
    "start_time": "2022-03-26T19:31:17.718Z"
   },
   {
    "duration": 2010,
    "start_time": "2022-03-26T19:31:17.865Z"
   },
   {
    "duration": 1739,
    "start_time": "2022-03-26T19:31:19.878Z"
   },
   {
    "duration": 3,
    "start_time": "2022-03-26T19:31:21.619Z"
   },
   {
    "duration": 7,
    "start_time": "2022-03-26T19:43:13.349Z"
   },
   {
    "duration": 106986,
    "start_time": "2022-03-26T19:43:30.293Z"
   },
   {
    "duration": 141872,
    "start_time": "2022-03-26T19:45:17.282Z"
   },
   {
    "duration": 1872,
    "start_time": "2022-03-26T19:47:39.155Z"
   },
   {
    "duration": 1697,
    "start_time": "2022-03-26T19:47:41.029Z"
   },
   {
    "duration": 7,
    "start_time": "2022-03-26T19:50:05.316Z"
   },
   {
    "duration": 2099,
    "start_time": "2022-03-26T19:50:10.824Z"
   },
   {
    "duration": 1871,
    "start_time": "2022-03-26T19:50:15.358Z"
   },
   {
    "duration": 33,
    "start_time": "2022-03-26T19:57:16.101Z"
   },
   {
    "duration": 41,
    "start_time": "2022-03-26T19:58:44.628Z"
   },
   {
    "duration": 10,
    "start_time": "2022-03-26T19:58:49.119Z"
   },
   {
    "duration": 106,
    "start_time": "2022-03-26T19:58:52.103Z"
   },
   {
    "duration": 1935,
    "start_time": "2022-03-26T19:58:55.956Z"
   },
   {
    "duration": 1769,
    "start_time": "2022-03-26T19:59:06.790Z"
   },
   {
    "duration": 42,
    "start_time": "2022-03-26T19:59:47.400Z"
   },
   {
    "duration": 1397,
    "start_time": "2022-03-26T20:00:16.656Z"
   },
   {
    "duration": 27,
    "start_time": "2022-03-26T20:00:18.055Z"
   },
   {
    "duration": 27,
    "start_time": "2022-03-26T20:00:18.084Z"
   },
   {
    "duration": 14,
    "start_time": "2022-03-26T20:00:18.113Z"
   },
   {
    "duration": 7,
    "start_time": "2022-03-26T20:00:18.129Z"
   },
   {
    "duration": 12,
    "start_time": "2022-03-26T20:00:18.138Z"
   },
   {
    "duration": 13,
    "start_time": "2022-03-26T20:00:18.152Z"
   },
   {
    "duration": 44,
    "start_time": "2022-03-26T20:00:18.167Z"
   },
   {
    "duration": 20,
    "start_time": "2022-03-26T20:00:18.213Z"
   },
   {
    "duration": 6,
    "start_time": "2022-03-26T20:00:18.236Z"
   },
   {
    "duration": 16,
    "start_time": "2022-03-26T20:00:18.244Z"
   },
   {
    "duration": 96,
    "start_time": "2022-03-26T20:00:18.262Z"
   },
   {
    "duration": 174,
    "start_time": "2022-03-26T20:00:18.360Z"
   },
   {
    "duration": 29071,
    "start_time": "2022-03-26T20:00:18.536Z"
   },
   {
    "duration": 11,
    "start_time": "2022-03-26T20:00:47.609Z"
   },
   {
    "duration": 31,
    "start_time": "2022-03-26T20:00:47.622Z"
   },
   {
    "duration": 44859,
    "start_time": "2022-03-26T20:00:47.654Z"
   },
   {
    "duration": 8,
    "start_time": "2022-03-26T20:01:32.515Z"
   },
   {
    "duration": 14786,
    "start_time": "2022-03-26T20:01:32.525Z"
   },
   {
    "duration": 102,
    "start_time": "2022-03-26T20:01:47.313Z"
   },
   {
    "duration": 7,
    "start_time": "2022-03-26T20:01:47.417Z"
   },
   {
    "duration": 26377,
    "start_time": "2022-03-26T20:01:47.426Z"
   },
   {
    "duration": 103060,
    "start_time": "2022-03-26T20:02:13.805Z"
   },
   {
    "duration": 34959,
    "start_time": "2022-03-26T20:03:56.866Z"
   },
   {
    "duration": 4,
    "start_time": "2022-03-26T20:04:31.827Z"
   },
   {
    "duration": 129,
    "start_time": "2022-03-26T20:04:31.833Z"
   },
   {
    "duration": 31637,
    "start_time": "2022-03-26T20:04:31.964Z"
   },
   {
    "duration": 138606,
    "start_time": "2022-03-26T20:05:03.610Z"
   },
   {
    "duration": 46113,
    "start_time": "2022-03-26T20:07:22.218Z"
   },
   {
    "duration": 5,
    "start_time": "2022-03-26T20:08:08.333Z"
   },
   {
    "duration": 135,
    "start_time": "2022-03-26T20:08:08.339Z"
   },
   {
    "duration": 15573,
    "start_time": "2022-03-26T20:08:08.476Z"
   },
   {
    "duration": 66714,
    "start_time": "2022-03-26T20:08:24.050Z"
   },
   {
    "duration": 20662,
    "start_time": "2022-03-26T20:09:30.766Z"
   },
   {
    "duration": 10,
    "start_time": "2022-03-26T20:09:51.430Z"
   },
   {
    "duration": 200,
    "start_time": "2022-03-26T20:09:51.442Z"
   },
   {
    "duration": 2015,
    "start_time": "2022-03-26T20:09:51.643Z"
   },
   {
    "duration": 1849,
    "start_time": "2022-03-26T20:09:53.660Z"
   },
   {
    "duration": 4,
    "start_time": "2022-03-26T20:09:55.511Z"
   },
   {
    "duration": 13547,
    "start_time": "2022-03-26T20:16:33.257Z"
   },
   {
    "duration": 45681,
    "start_time": "2022-03-26T20:18:07.508Z"
   },
   {
    "duration": 34,
    "start_time": "2022-03-26T20:18:53.191Z"
   },
   {
    "duration": 12,
    "start_time": "2022-03-26T20:19:56.046Z"
   },
   {
    "duration": 129,
    "start_time": "2022-03-26T20:31:59.572Z"
   },
   {
    "duration": 2026,
    "start_time": "2022-03-26T20:39:41.692Z"
   },
   {
    "duration": 1345,
    "start_time": "2022-03-26T20:59:35.472Z"
   },
   {
    "duration": 26,
    "start_time": "2022-03-26T20:59:36.819Z"
   },
   {
    "duration": 17,
    "start_time": "2022-03-26T20:59:36.849Z"
   },
   {
    "duration": 13,
    "start_time": "2022-03-26T20:59:36.868Z"
   },
   {
    "duration": 30,
    "start_time": "2022-03-26T20:59:36.883Z"
   },
   {
    "duration": 13,
    "start_time": "2022-03-26T20:59:36.915Z"
   },
   {
    "duration": 13,
    "start_time": "2022-03-26T20:59:36.929Z"
   },
   {
    "duration": 8,
    "start_time": "2022-03-26T20:59:36.944Z"
   },
   {
    "duration": 55,
    "start_time": "2022-03-26T20:59:36.955Z"
   },
   {
    "duration": 5,
    "start_time": "2022-03-26T20:59:37.012Z"
   },
   {
    "duration": 15,
    "start_time": "2022-03-26T20:59:37.019Z"
   },
   {
    "duration": 77,
    "start_time": "2022-03-26T20:59:37.036Z"
   },
   {
    "duration": 147,
    "start_time": "2022-03-26T20:59:37.115Z"
   },
   {
    "duration": 12441,
    "start_time": "2022-03-26T20:59:37.263Z"
   },
   {
    "duration": 12,
    "start_time": "2022-03-26T20:59:49.705Z"
   },
   {
    "duration": 31,
    "start_time": "2022-03-26T20:59:49.719Z"
   },
   {
    "duration": 46905,
    "start_time": "2022-03-26T20:59:49.751Z"
   },
   {
    "duration": 9,
    "start_time": "2022-03-26T21:00:36.658Z"
   },
   {
    "duration": 18762,
    "start_time": "2022-03-26T21:00:36.670Z"
   },
   {
    "duration": 100,
    "start_time": "2022-03-26T21:00:55.510Z"
   },
   {
    "duration": 7,
    "start_time": "2022-03-26T21:00:55.613Z"
   },
   {
    "duration": 29328,
    "start_time": "2022-03-26T21:00:55.622Z"
   },
   {
    "duration": 107317,
    "start_time": "2022-03-26T21:01:24.952Z"
   },
   {
    "duration": 36648,
    "start_time": "2022-03-26T21:03:12.271Z"
   },
   {
    "duration": 5,
    "start_time": "2022-03-26T21:03:48.921Z"
   },
   {
    "duration": 132,
    "start_time": "2022-03-26T21:03:48.927Z"
   },
   {
    "duration": 34711,
    "start_time": "2022-03-26T21:03:49.063Z"
   },
   {
    "duration": 145049,
    "start_time": "2022-03-26T21:04:23.776Z"
   },
   {
    "duration": 45609,
    "start_time": "2022-03-26T21:06:48.827Z"
   },
   {
    "duration": 5,
    "start_time": "2022-03-26T21:07:34.438Z"
   },
   {
    "duration": 149,
    "start_time": "2022-03-26T21:07:34.444Z"
   },
   {
    "duration": 15392,
    "start_time": "2022-03-26T21:07:34.595Z"
   },
   {
    "duration": 69542,
    "start_time": "2022-03-26T21:07:49.988Z"
   },
   {
    "duration": 16908,
    "start_time": "2022-03-26T21:08:59.533Z"
   },
   {
    "duration": 2275,
    "start_time": "2022-03-26T21:09:16.443Z"
   },
   {
    "duration": 2525,
    "start_time": "2022-03-27T13:41:16.403Z"
   },
   {
    "duration": 79,
    "start_time": "2022-03-27T13:41:18.930Z"
   },
   {
    "duration": 18,
    "start_time": "2022-03-27T13:41:19.010Z"
   },
   {
    "duration": 72,
    "start_time": "2022-03-27T13:41:19.030Z"
   },
   {
    "duration": 9,
    "start_time": "2022-03-27T13:41:19.105Z"
   },
   {
    "duration": 13,
    "start_time": "2022-03-27T13:41:19.115Z"
   },
   {
    "duration": 72,
    "start_time": "2022-03-27T13:41:19.130Z"
   },
   {
    "duration": 7,
    "start_time": "2022-03-27T13:41:19.204Z"
   },
   {
    "duration": 20,
    "start_time": "2022-03-27T13:41:19.213Z"
   },
   {
    "duration": 66,
    "start_time": "2022-03-27T13:41:19.235Z"
   },
   {
    "duration": 16,
    "start_time": "2022-03-27T13:41:19.303Z"
   },
   {
    "duration": 115,
    "start_time": "2022-03-27T13:41:19.321Z"
   },
   {
    "duration": 306,
    "start_time": "2022-03-27T13:41:19.437Z"
   },
   {
    "duration": 27196,
    "start_time": "2022-03-27T13:41:19.747Z"
   },
   {
    "duration": 65,
    "start_time": "2022-03-27T13:41:46.945Z"
   },
   {
    "duration": 90,
    "start_time": "2022-03-27T13:41:47.012Z"
   },
   {
    "duration": 103924,
    "start_time": "2022-03-27T13:41:47.104Z"
   },
   {
    "duration": 12,
    "start_time": "2022-03-27T13:43:31.030Z"
   },
   {
    "duration": 12903,
    "start_time": "2022-03-27T13:43:31.101Z"
   },
   {
    "duration": 100,
    "start_time": "2022-03-27T13:43:44.007Z"
   },
   {
    "duration": 8,
    "start_time": "2022-03-27T13:43:44.110Z"
   },
   {
    "duration": 64384,
    "start_time": "2022-03-27T13:43:44.120Z"
   },
   {
    "duration": 243909,
    "start_time": "2022-03-27T13:44:48.506Z"
   },
   {
    "duration": 46306,
    "start_time": "2022-03-27T13:48:52.417Z"
   },
   {
    "duration": 76,
    "start_time": "2022-03-27T13:49:38.725Z"
   },
   {
    "duration": 400,
    "start_time": "2022-03-27T13:49:38.803Z"
   },
   {
    "duration": 101813,
    "start_time": "2022-03-27T13:49:39.205Z"
   },
   {
    "duration": 343123,
    "start_time": "2022-03-27T13:51:21.020Z"
   },
   {
    "duration": 47422,
    "start_time": "2022-03-27T13:57:04.202Z"
   },
   {
    "duration": 7,
    "start_time": "2022-03-27T13:57:51.626Z"
   },
   {
    "duration": 389,
    "start_time": "2022-03-27T13:57:51.636Z"
   },
   {
    "duration": 37518,
    "start_time": "2022-03-27T13:57:52.027Z"
   },
   {
    "duration": 155812,
    "start_time": "2022-03-27T13:58:29.602Z"
   },
   {
    "duration": 17590,
    "start_time": "2022-03-27T14:01:05.416Z"
   },
   {
    "duration": 5219,
    "start_time": "2022-03-27T14:01:23.008Z"
   }
  ],
  "kernelspec": {
   "display_name": "Python 3 (ipykernel)",
   "language": "python",
   "name": "python3"
  },
  "language_info": {
   "codemirror_mode": {
    "name": "ipython",
    "version": 3
   },
   "file_extension": ".py",
   "mimetype": "text/x-python",
   "name": "python",
   "nbconvert_exporter": "python",
   "pygments_lexer": "ipython3",
   "version": "3.9.7"
  },
  "toc": {
   "base_numbering": 1,
   "nav_menu": {},
   "number_sections": true,
   "sideBar": true,
   "skip_h1_title": true,
   "title_cell": "Содержание",
   "title_sidebar": "Contents",
   "toc_cell": true,
   "toc_position": {
    "height": "calc(100% - 180px)",
    "left": "10px",
    "top": "150px",
    "width": "221.179px"
   },
   "toc_section_display": true,
   "toc_window_display": true
  }
 },
 "nbformat": 4,
 "nbformat_minor": 2
}
